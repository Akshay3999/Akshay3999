{
 "cells": [
  {
   "cell_type": "markdown",
   "id": "ff5d26b9",
   "metadata": {},
   "source": [
    "# 13. Object Oriented Programming concepts\n",
    "\n",
    "__Object Oriented Programming (OOP)__ is a programming paradigm that allows abstraction through the concept of interacting entities. This programming works contradictory to conventional model and is procedural, in which programs are organized as a sequence of commands or statements to perform.\n",
    "\n",
    "We can think an object as an entity that resides in memory, has a state and it's able to perform some actions. \n",
    " \n",
    "More formally objects are entities that represent **instances** of a general abstract concept called **class**. In `Python`, \"attributes\" are the variables defining an object state and the possible actions are called \"methods\".\n",
    "\n",
    "In Python, everything is an object also classes and functions.\n",
    "\n",
    "Each class represents meaningful view of the objects that are instances of this class,\n",
    "without going into too much detail or giving others access to the inner\n",
    "workings of the objects i.e. how it works internally. The class contains instance variables,\n",
    "also known as data members as well as some methods for some purpose also\n",
    "known as member functions. Object of the class can access this methods to achieve something meaningful."
   ]
  },
  {
   "cell_type": "markdown",
   "id": "080bcfd2",
   "metadata": {},
   "source": [
    "## 13.1 Goals of object oriented design"
   ]
  },
  {
   "cell_type": "markdown",
   "id": "9873b9b2",
   "metadata": {},
   "source": [
    "### Robustness\n",
    "\n",
    "**1)** Our program should run properly even with unexpected data\n",
    "\n",
    "**2)** We need to write in such a way that it handles complex programs and it can handle with unexpected data.\n",
    "\n",
    "Every developer develop application in such a way that\n",
    "an application will give correct output in all the scenarios. \n",
    "Our application will be robust, that is, it should capable enough for handling\n",
    "unexpected data that is not predefined.\n",
    "For example,\n",
    "if a program is expecting a string and instead it will receive negative integer, then the program should be able to\n",
    "recover and handle this type of error gracefully.\n",
    "\n",
    "Writing software programs is a style of programming that dealing with surprising and unforeseen activities. It expects code to deal with these types of terminations and expectations and run smmothly."
   ]
  },
  {
   "cell_type": "markdown",
   "id": "f3d57171",
   "metadata": {},
   "source": [
    "### Adaptability\n",
    "\n",
    "**1)** Software program or application will grow over a life time\n",
    "\n",
    "**2)** The application should build such a way that is should run with different versions, different generations, different hardware as well. \n",
    "\n",
    "Software program or application should have the option to advance after some time in light of changing conditions.\n",
    "Along these lines, this is significant objective of value in programming that flexibility ought to be accomplished. \n",
    "Program should be build in such a way that it will run with minor change on various hardware and os platforms."
   ]
  },
  {
   "cell_type": "markdown",
   "id": "050cd96e",
   "metadata": {},
   "source": [
    "### Reusability\n",
    "\n",
    "Building from reusable applications to avoid making entire new application just like rebuilding entire wheel.\n",
    "\n",
    "Software should be reusable, that is, the same code should be reusable as a component for different applications.\n",
    "Developing quality software application can be an expensive and if the software is designed in a way that makes it easily\n",
    "reusable in future applications, it will helpful in productivity and also can reduce cost for new application."
   ]
  },
  {
   "cell_type": "markdown",
   "id": "b5d653a2",
   "metadata": {},
   "source": [
    "## 13.2 How to define classes"
   ]
  },
  {
   "cell_type": "markdown",
   "id": "da7b0c41",
   "metadata": {},
   "source": [
    "### Creating a class\n",
    "\n",
    "Suppose we want to create a class, named Person, as a prototype, a sort of template for any number of 'Person' objects (instances)."
   ]
  },
  {
   "cell_type": "markdown",
   "id": "39fbd922",
   "metadata": {},
   "source": [
    "The following python syntax defines a class:\n",
    "\n",
    "    class ClassName(base_classes):\n",
    "        statements"
   ]
  },
  {
   "cell_type": "markdown",
   "id": "d7b7d200",
   "metadata": {},
   "source": [
    "Class names should always be uppercase (it's a naming convention)."
   ]
  },
  {
   "cell_type": "markdown",
   "id": "d05dca07",
   "metadata": {},
   "source": [
    "Say we need to model a Person as:\n",
    "\n",
    "* Name\n",
    "* Surname  \n",
    "* Age  "
   ]
  },
  {
   "cell_type": "code",
   "execution_count": 3,
   "id": "beb5f18c",
   "metadata": {},
   "outputs": [
    {
     "name": "stdout",
     "output_type": "stream",
     "text": [
      "<__main__.Person object at 0x000001998011D730>\n",
      "Alec Baldwin was born in 1958.\n"
     ]
    }
   ],
   "source": [
    "class Person:\n",
    "    pass\n",
    "\n",
    "john_doe = Person()\n",
    "john_doe.name = \"Alec\"\n",
    "john_doe.surname = \"Baldwin\"\n",
    "john_doe.year_of_birth = 1958\n",
    "\n",
    "\n",
    "print(john_doe)\n",
    "print(\"%s %s was born in %d.\" %\n",
    "      (john_doe.name, john_doe.surname, john_doe.year_of_birth))"
   ]
  },
  {
   "cell_type": "markdown",
   "id": "d291cfd1",
   "metadata": {},
   "source": [
    "pass is generally used where code will eventually run without any errors."
   ]
  },
  {
   "cell_type": "code",
   "execution_count": null,
   "id": "77317ff3",
   "metadata": {},
   "outputs": [],
   "source": [
    "class Person:\n",
    "    pass"
   ]
  },
  {
   "cell_type": "markdown",
   "id": "39b7c29f",
   "metadata": {},
   "source": [
    "The following example defines an empty class (i.e. the class doesn't have a state) called _Person_ then creates a _Person_ instance called _john_doe_ and adds three attributes to _john_doe_. We see that we can access objects attributes using the \"dot\" operator.\n",
    "\n",
    "This isn't a recommended style because classes should describe homogeneous entities. A way to do so is the following:"
   ]
  },
  {
   "cell_type": "code",
   "execution_count": 28,
   "id": "c58921f2",
   "metadata": {},
   "outputs": [],
   "source": [
    "class person:\n",
    "    def __init__(self, name, surname, year_of_birth):\n",
    "        self.name=name\n",
    "        self.surname=surname\n",
    "        self.year_of_birth = year_of_birth"
   ]
  },
  {
   "cell_type": "markdown",
   "id": "3330c593",
   "metadata": {},
   "source": [
    "    __init__(self, ...)\n",
    "Is a special _Python_ method that is automatically called after an object construction. Its purpose is to initialize every object state. The first argument (by convention) __self__ is automatically passed either and refers to the object itself.\n",
    "\n",
    "In the preceding example, `__init__` adds three attributes to every object that is instantiated. So the class is actually describing each object's state.\n",
    "\n",
    "Attributes created in `__init__` method are called instance attributes, so name,surname and year_of_birth are called instance attributes."
   ]
  },
  {
   "cell_type": "code",
   "execution_count": 38,
   "id": "4d152192",
   "metadata": {},
   "outputs": [],
   "source": [
    "class Person:\n",
    "#     Here we can declare class attributes\n",
    "    company = 'iNeuron'\n",
    "    \n",
    "    def __init__(self, name, surname, year_of_birth):\n",
    "        self.name = name\n",
    "        self.surname = surname\n",
    "        self.year_of_birth = year_of_birth\n",
    "    def var1(self):\n",
    "        print(self.name,self.surname,self.company)"
   ]
  },
  {
   "cell_type": "code",
   "execution_count": 39,
   "id": "1927e356",
   "metadata": {},
   "outputs": [],
   "source": [
    "var = Person(\"Akshay\",\"Tate\",1999)"
   ]
  },
  {
   "cell_type": "code",
   "execution_count": 40,
   "id": "b443a168",
   "metadata": {
    "scrolled": true
   },
   "outputs": [
    {
     "data": {
      "text/plain": [
       "'iNeuron'"
      ]
     },
     "execution_count": 40,
     "metadata": {},
     "output_type": "execute_result"
    }
   ],
   "source": [
    "Person.company"
   ]
  },
  {
   "cell_type": "code",
   "execution_count": 41,
   "id": "a44c6eb1",
   "metadata": {},
   "outputs": [
    {
     "data": {
      "text/plain": [
       "__main__.Person"
      ]
     },
     "execution_count": 41,
     "metadata": {},
     "output_type": "execute_result"
    }
   ],
   "source": [
    "type(var)       "
   ]
  },
  {
   "cell_type": "code",
   "execution_count": 42,
   "id": "05c8e7ad",
   "metadata": {},
   "outputs": [
    {
     "data": {
      "text/plain": [
       "1230391997632"
      ]
     },
     "execution_count": 42,
     "metadata": {},
     "output_type": "execute_result"
    }
   ],
   "source": [
    "id(var)"
   ]
  },
  {
   "cell_type": "code",
   "execution_count": 43,
   "id": "96e2686b",
   "metadata": {},
   "outputs": [
    {
     "name": "stdout",
     "output_type": "stream",
     "text": [
      "Akshay Tate iNeuron\n"
     ]
    }
   ],
   "source": [
    "var.var1()"
   ]
  },
  {
   "cell_type": "code",
   "execution_count": 61,
   "id": "925bff46",
   "metadata": {
    "scrolled": true
   },
   "outputs": [
    {
     "name": "stdout",
     "output_type": "stream",
     "text": [
      "Alechgffh Baldwin iNeuron\n"
     ]
    }
   ],
   "source": [
    "var.var1()"
   ]
  },
  {
   "cell_type": "code",
   "execution_count": 45,
   "id": "94dfba92",
   "metadata": {},
   "outputs": [
    {
     "ename": "TypeError",
     "evalue": "'str' object is not callable",
     "output_type": "error",
     "traceback": [
      "\u001b[1;31m---------------------------------------------------------------------------\u001b[0m",
      "\u001b[1;31mTypeError\u001b[0m                                 Traceback (most recent call last)",
      "\u001b[1;32m<ipython-input-45-d24b61ed244c>\u001b[0m in \u001b[0;36m<module>\u001b[1;34m\u001b[0m\n\u001b[1;32m----> 1\u001b[1;33m \u001b[0mvar\u001b[0m\u001b[1;33m.\u001b[0m\u001b[0mname\u001b[0m\u001b[1;33m(\u001b[0m\u001b[1;33m)\u001b[0m\u001b[1;33m\u001b[0m\u001b[1;33m\u001b[0m\u001b[0m\n\u001b[0m",
      "\u001b[1;31mTypeError\u001b[0m: 'str' object is not callable"
     ]
    }
   ],
   "source": [
    "var.name()                                                          "
   ]
  },
  {
   "cell_type": "markdown",
   "id": "33f0a6bf",
   "metadata": {},
   "source": [
    "Here comapny is called class variables and we can use class variables if it will not change for entire class and their methods and functions. It should be same for entire class and every instance. We can use instance attributes which will vary from one instance to another instances of the class."
   ]
  },
  {
   "cell_type": "markdown",
   "id": "73ecdaf4",
   "metadata": {},
   "source": [
    "We cannot directly manipulate any class rather we need to create an instance of the class: "
   ]
  },
  {
   "cell_type": "code",
   "execution_count": 46,
   "id": "9403d0ba",
   "metadata": {},
   "outputs": [
    {
     "name": "stdout",
     "output_type": "stream",
     "text": [
      "<__main__.Person object at 0x0000011E7911D730>\n",
      "Alechgffh Baldwin was born in 1958.\n"
     ]
    }
   ],
   "source": [
    "var = Person(\"Alechgffh\",\"Baldwin\",1958)\n",
    "print(var)\n",
    "print(\"%s %s was born in %d.\" % (var.name,var.surname,var.year_of_birth))"
   ]
  },
  {
   "cell_type": "code",
   "execution_count": 47,
   "id": "60e32a35",
   "metadata": {},
   "outputs": [
    {
     "data": {
      "text/plain": [
       "'iNeuron'"
      ]
     },
     "execution_count": 47,
     "metadata": {},
     "output_type": "execute_result"
    }
   ],
   "source": [
    "# can access classattribute campany in a similar way\n",
    "var.company"
   ]
  },
  {
   "cell_type": "markdown",
   "id": "51139d85",
   "metadata": {},
   "source": [
    "We have just created an instance of the person class, bound to the varible var."
   ]
  },
  {
   "cell_type": "code",
   "execution_count": 58,
   "id": "0429dc85",
   "metadata": {},
   "outputs": [],
   "source": [
    "# Another example\n",
    "class student:\n",
    "    \n",
    "    def __init__(self,first_name,last_name,age,class_,section):\n",
    "        self.first_name = first_name\n",
    "        self.last_name = last_name\n",
    "        self.age = age\n",
    "        self.class_ = class_\n",
    "        self.section = section\n",
    "        print(last_name)\n",
    "    def show(self):\n",
    "        print(self.first_name,self.last_name)"
   ]
  },
  {
   "cell_type": "code",
   "execution_count": 59,
   "id": "e1e6aabf",
   "metadata": {},
   "outputs": [
    {
     "name": "stdout",
     "output_type": "stream",
     "text": [
      "Tate\n"
     ]
    }
   ],
   "source": [
    "student1 = student(\"Akshay\",\"Tate\",19,'12th','A')"
   ]
  },
  {
   "cell_type": "code",
   "execution_count": 60,
   "id": "2e1359e5",
   "metadata": {},
   "outputs": [
    {
     "name": "stdout",
     "output_type": "stream",
     "text": [
      "Akshay Tate\n"
     ]
    }
   ],
   "source": [
    "student1.show()"
   ]
  },
  {
   "cell_type": "code",
   "execution_count": 64,
   "id": "9640eb29",
   "metadata": {},
   "outputs": [
    {
     "name": "stdout",
     "output_type": "stream",
     "text": [
      "Asabe\n"
     ]
    }
   ],
   "source": [
    "student2 = student(\"swami\",\"Asabe\",19,10,'A')"
   ]
  },
  {
   "cell_type": "code",
   "execution_count": 72,
   "id": "00dfeb2d",
   "metadata": {},
   "outputs": [
    {
     "ename": "IndentationError",
     "evalue": "unexpected indent (<ipython-input-72-16814da80eea>, line 2)",
     "output_type": "error",
     "traceback": [
      "\u001b[1;36m  File \u001b[1;32m\"<ipython-input-72-16814da80eea>\"\u001b[1;36m, line \u001b[1;32m2\u001b[0m\n\u001b[1;33m    format(student.first_name+ \" \" +student1.last_name, student1.age, str(student1.class_)+student.section)\u001b[0m\n\u001b[1;37m    ^\u001b[0m\n\u001b[1;31mIndentationError\u001b[0m\u001b[1;31m:\u001b[0m unexpected indent\n"
     ]
    }
   ],
   "source": [
    "print(\"Details of first student : Name = {0}, Age = {1}, class_section = {2}\")\n",
    "    format(student.first_name+ \" \" +student1.last_name, student1.age, str(student1.class_)+student.section)"
   ]
  },
  {
   "cell_type": "code",
   "execution_count": 69,
   "id": "5b200edb",
   "metadata": {},
   "outputs": [
    {
     "ename": "IndentationError",
     "evalue": "unexpected indent (<ipython-input-69-854fd8bcacb0>, line 2)",
     "output_type": "error",
     "traceback": [
      "\u001b[1;36m  File \u001b[1;32m\"<ipython-input-69-854fd8bcacb0>\"\u001b[1;36m, line \u001b[1;32m2\u001b[0m\n\u001b[1;33m    format(student1.first_name+ \" \" +student1.last_name, student1.age, str(student1.class_)+student1.section)\u001b[0m\n\u001b[1;37m    ^\u001b[0m\n\u001b[1;31mIndentationError\u001b[0m\u001b[1;31m:\u001b[0m unexpected indent\n"
     ]
    }
   ],
   "source": [
    "print(\"Details of first student : Name={0}, Age={1}, class_section = {2}\")\n",
    "    format(student1.first_name+ \" \" +student1.last_name, student1.age, str(student1.class_)+student1.section)"
   ]
  },
  {
   "cell_type": "markdown",
   "id": "21b8778d",
   "metadata": {},
   "source": [
    "# Method"
   ]
  },
  {
   "cell_type": "markdown",
   "id": "8f94ccd5",
   "metadata": {},
   "source": [
    "class Person:\n",
    "    def __init__(a, name, surname, year_of_birth):\n",
    "        a.name  = name\n",
    "        a.surname = surname\n",
    "        a.year_of_birth = year_of_birth\n",
    "        \n",
    "    def age(a, current_year):\n",
    "        return current_year - a.year_of_birth\n",
    "    \n",
    "    def __str__(a):\n",
    "        return \"%s %s was born in %d .\" % (a.name,a.surname,a.year_of_birth)\n",
    "\n",
    "alec = Person(\"Alec\", \"Baldwin\", 1958)\n",
    "print(alec)\n",
    "print(alec.age(2014))"
   ]
  },
  {
   "cell_type": "markdown",
   "id": "c60f4ef7",
   "metadata": {},
   "source": [
    "We defined two more methods `age` and  `__str__`. The latter is once again a special method that is called by Python when the object has to be represented as a string (e.g. when has to be printed). If the `__str__` method isn't defined the **print** command shows the type of object and its address in memory. We can see that in order to call a method we use the same syntax for attributes (**instance_name.instance _method**).\n",
    "\n",
    ".__init__() and .__str__() methods are called dunder methods. We can call as dunder methods beacause they begin and end with double underscores."
   ]
  },
  {
   "cell_type": "code",
   "execution_count": 76,
   "id": "a6b5763b",
   "metadata": {},
   "outputs": [],
   "source": [
    "# Let's look at another database example for class methods\n",
    "# For more detail about database, we will look in future classes.\n",
    "#Let's look at another database example for class methods\n",
    "# For more detail about database, we will look in future classes.\n",
    "import sqlite3\n",
    "\n",
    "class DataBaseOperations:\n",
    "\n",
    "    def __init__(self,databasename):\n",
    "        \n",
    "        self.databasename = databasename\n",
    "\n",
    "    def createDatabase(self):\n",
    "        try:\n",
    "            conn = sqlite3.connect(self.databasename)\n",
    "        except ConnectionError:\n",
    "            raise ConnectionError\n",
    "        return conn\n",
    "\n",
    "    def createTable(self,tablename,dictionaryOfcolumnNamesAndcolumnDatatypes):\n",
    "        try:\n",
    "            conn = self.createDatabase()\n",
    "            c = conn.cursor()\n",
    "            for key in dictionaryOfcolumnNamesAndcolumnDatatypes.keys():\n",
    "                datatype = dictionaryOfcolumnNamesAndcolumnDatatypes[key]\n",
    "                try:\n",
    "                    conn.execute(\n",
    "                        'ALTER TABLE {tableName} ADD COLUMN \"{column_name}\" {dataType}'.format(tableName=tablename,\n",
    "                                                                                               column_name=key,\n",
    "                                                                                               dataType=datatype))\n",
    "                except:\n",
    "                    conn.execute('CREATE TABLE {tableName} ({column_name} {dataType})'.format(tableName=tablename,\n",
    "                                                                                              column_name=key,\n",
    "                                                                                              dataType=datatype))\n",
    "            print(\"Table {0} created in database {1}\".format(tablename,self.databasename))\n",
    "            self.closeDbConnection(conn)\n",
    "            print(\"Connection to database closed!!\")\n",
    "        except Exception as e:\n",
    "            conn.rollback()\n",
    "            self.closeDbConnection(conn)\n",
    "            print(\"Connection to database closed!!\")\n",
    "\n",
    "            print(\"Exception occured: \" + str(e))\n",
    "\n",
    "    def insertIntoTable(self,tablename, listOfvaluesToInsert):\n",
    "        try:\n",
    "            conn = self.createDatabase()\n",
    "            conn.execute('INSERT INTO {tablename}  values ({values})'.format(tablename = tablename,values=(listOfvaluesToInsert)))\n",
    "            conn.commit()\n",
    "            print(\"Values Inserted Successfully!!!\")\n",
    "            self.closeDbConnection(conn)\n",
    "            print(\"Connection to database closed!!\")\n",
    "        except Exception as e:\n",
    "            conn.rollback()\n",
    "            self.closeDbConnection(conn)\n",
    "            print(\"Connection to database closed!!\")\n",
    "            print(\"Error occured: \" + str(e))\n",
    "\n",
    "        # self.closeDbconnection()\n",
    "    \n",
    "    def selectFromTable(self,tablename):\n",
    "\n",
    "        try:\n",
    "            conn = self.createDatabase()\n",
    "            c = conn.cursor()\n",
    "            c.execute(\"SELECT *  FROM {table}\".format(table=tablename))\n",
    "            print(\"values in table : \" ,c.fetchall())\n",
    "            self.closeDbConnection(conn)\n",
    "            print(\"Connection to database closed!!\")\n",
    "            \n",
    "        except Exception as e:\n",
    "            self.closeDbConnection(conn)\n",
    "            print(\"Connection to database closed!!\")\n",
    "            print(\"Error occured: \" + str(e))\n",
    "    \n",
    "    def closeDbConnection(self,connection):\n",
    "       \n",
    "        connection.close()"
   ]
  },
  {
   "cell_type": "code",
   "execution_count": 78,
   "id": "4d5e4895",
   "metadata": {},
   "outputs": [],
   "source": [
    "# creting an object of class databaseoperations\n",
    "db = DataBaseOperations(\"test1\")"
   ]
  },
  {
   "cell_type": "code",
   "execution_count": 79,
   "id": "6130a6d8",
   "metadata": {},
   "outputs": [
    {
     "data": {
      "text/plain": [
       "<sqlite3.Connection at 0x11e79052b70>"
      ]
     },
     "execution_count": 79,
     "metadata": {},
     "output_type": "execute_result"
    }
   ],
   "source": [
    "# creating database\n",
    "db.createDatabase()"
   ]
  },
  {
   "cell_type": "markdown",
   "id": "9d2880a4",
   "metadata": {},
   "source": [
    "tableDetails = {\"studentID\":\"Integer\",\"studentRoll\":\"Integer\",\"studentMarks\":\"Float\" }"
   ]
  },
  {
   "cell_type": "code",
   "execution_count": 83,
   "id": "6cc7d494",
   "metadata": {},
   "outputs": [
    {
     "name": "stdout",
     "output_type": "stream",
     "text": [
      "Connection to database closed!!\n",
      "Exception occured: near \"table\": syntax error\n"
     ]
    }
   ],
   "source": [
    "db.createTable(\"table\",tableDetails)"
   ]
  },
  {
   "cell_type": "code",
   "execution_count": 84,
   "id": "460a7165",
   "metadata": {},
   "outputs": [],
   "source": [
    "valuesToisnert = ('1,1,97')"
   ]
  },
  {
   "cell_type": "code",
   "execution_count": 85,
   "id": "31fe17c9",
   "metadata": {},
   "outputs": [
    {
     "name": "stdout",
     "output_type": "stream",
     "text": [
      "Connection to database closed!!\n",
      "Error occured: near \"Table\": syntax error\n"
     ]
    }
   ],
   "source": [
    "# Inserting values\n",
    "db.selectFromTable('Table')"
   ]
  },
  {
   "cell_type": "markdown",
   "id": "1bb683db",
   "metadata": {},
   "source": [
    "<!-- Bad pracctice -->"
   ]
  },
  {
   "cell_type": "markdown",
   "id": "b6389c88",
   "metadata": {},
   "source": [
    "# Bad practice"
   ]
  },
  {
   "cell_type": "markdown",
   "id": "50093756",
   "metadata": {},
   "source": [
    "It is possible to create a class without the __init__ method, but this is not a recommended style beacuse classes should descibe homogeneous entities."
   ]
  },
  {
   "cell_type": "code",
   "execution_count": 86,
   "id": "48e3eb3f",
   "metadata": {},
   "outputs": [],
   "source": [
    "class Person:\n",
    "    \n",
    "    def set_name(self,name):\n",
    "        self.name = name\n",
    "    \n",
    "    def set_surname(self,surname):\n",
    "        self.surname = surname\n",
    "        \n",
    "    def set_year_of_birth(self, year_of_birth):\n",
    "        self.year_of_birth = year_of_birth\n",
    "        \n",
    "    def age(self, current_year):\n",
    "        return current_year - self.year_of_birth\n",
    "    \n",
    "    def __str__(self):\n",
    "        return \"%s %s was born in %d.\" \\\n",
    "                %(self.name, self.surname, self.year_of_birth)"
   ]
  },
  {
   "cell_type": "markdown",
   "id": "91e1123a",
   "metadata": {},
   "source": [
    "In this case, an empty instance of the class person is create, and no attributes have been initialized while instantiating:"
   ]
  },
  {
   "cell_type": "code",
   "execution_count": 88,
   "id": "ca5df9a7",
   "metadata": {},
   "outputs": [],
   "source": [
    "president = Person()"
   ]
  },
  {
   "cell_type": "code",
   "execution_count": 90,
   "id": "f6a11905",
   "metadata": {},
   "outputs": [
    {
     "ename": "AttributeError",
     "evalue": "'Person' object has no attribute 'name'",
     "output_type": "error",
     "traceback": [
      "\u001b[1;31m---------------------------------------------------------------------------\u001b[0m",
      "\u001b[1;31mAttributeError\u001b[0m                            Traceback (most recent call last)",
      "\u001b[1;32m<ipython-input-90-f433f33eb2f5>\u001b[0m in \u001b[0;36m<module>\u001b[1;34m\u001b[0m\n\u001b[0;32m      1\u001b[0m \u001b[1;31m# This code will raise an attribute error\u001b[0m\u001b[1;33m\u001b[0m\u001b[1;33m\u001b[0m\u001b[1;33m\u001b[0m\u001b[0m\n\u001b[1;32m----> 2\u001b[1;33m \u001b[0mprint\u001b[0m\u001b[1;33m(\u001b[0m\u001b[0mpresident\u001b[0m\u001b[1;33m.\u001b[0m\u001b[0mname\u001b[0m\u001b[1;33m)\u001b[0m\u001b[1;33m\u001b[0m\u001b[1;33m\u001b[0m\u001b[0m\n\u001b[0m",
      "\u001b[1;31mAttributeError\u001b[0m: 'Person' object has no attribute 'name'"
     ]
    }
   ],
   "source": [
    "# This code will raise an attribute error\n",
    "print(president.name)"
   ]
  },
  {
   "cell_type": "markdown",
   "id": "36560a73",
   "metadata": {},
   "source": [
    "Thais raises an Attribute Error... We need to set the attribute:"
   ]
  },
  {
   "cell_type": "code",
   "execution_count": 92,
   "id": "88755127",
   "metadata": {},
   "outputs": [],
   "source": [
    "president.set_name('john')\n",
    "president.set_surname('Doe')\n",
    "president.set_year_of_birth(1940)"
   ]
  },
  {
   "cell_type": "code",
   "execution_count": 94,
   "id": "82e7e0fd",
   "metadata": {},
   "outputs": [
    {
     "name": "stdout",
     "output_type": "stream",
     "text": [
      "Mr john Doe is the prsident, and he is very old. He is 74\n"
     ]
    }
   ],
   "source": [
    "print('Mr', president.name,president.surname, 'is the prsident, and he is very old. He is',\n",
    "     president.age(2014))"
   ]
  },
  {
   "cell_type": "markdown",
   "id": "7b19dd63",
   "metadata": {},
   "source": [
    "### Protect your abstraction\n",
    "\n",
    "Here the instance attributes shouldn't be accessible by the end user of an object as they are powerful mean of abstraction they should not reveal the internal implementation detail. In Python, there is no specific strict mechanism to protect object attributes but the official guidelines suggest that a variable that has an underscore prefix should be treated as 'Private'.\n",
    "\n",
    "Moreover prepending two underscores to a variable name makes the interpreter mangle a little the variable name."
   ]
  },
  {
   "cell_type": "code",
   "execution_count": 103,
   "id": "e2b69045",
   "metadata": {},
   "outputs": [
    {
     "name": "stdout",
     "output_type": "stream",
     "text": [
      "<__main__.Person object at 0x0000011E7913FB50>\n",
      "Baldwin\n"
     ]
    }
   ],
   "source": [
    "class Person:\n",
    "    def __init__(self, name, surname,year_of_birth):\n",
    "        self._name = name # _ single underscore mens protected\n",
    "        self._surname =surname\n",
    "        self._year_of_birth = year_of_birth\n",
    "        \n",
    "    def age(self,current_year):\n",
    "        return current_year - self._year_of_birth\n",
    "    \n",
    "    def _str_(self):\n",
    "        return \"%s %s and was born %d.\"\\\n",
    "                %(self._name,self._surname, self._year_of_birth)\n",
    "    \n",
    "alec = Person(\"Alec\", \"Baldwin\",1958)\n",
    "print(alec)\n",
    "print(alec._surname)"
   ]
  },
  {
   "cell_type": "code",
   "execution_count": 1,
   "id": "2d64a51a",
   "metadata": {},
   "outputs": [
    {
     "name": "stdout",
     "output_type": "stream",
     "text": [
      "Alec\n"
     ]
    }
   ],
   "source": [
    "class Person:\n",
    "    def __init__(a,name,surname,year_of_birth): #we can give whichever name we can give instead of self \n",
    "        a.__name = name # _double underscore means private members of a class\n",
    "        a.__surname = surname\n",
    "        a.__year_of_birth = year_of_birth\n",
    "        \n",
    "    def age(self,current_year):\n",
    "        return current_year - self._year_of_birth\n",
    "    \n",
    "    def __str__(self):\n",
    "        return \"%s %s and was born %d.\"\\\n",
    "                %(self._name, self._surame,self._year_of_birth)\n",
    "alec = Person(\"Alec\",\"Baldwin\",1958)\n",
    "print(alec._Person__name) #For accessing private element of a class"
   ]
  },
  {
   "cell_type": "markdown",
   "id": "ead90337",
   "metadata": {},
   "source": [
    "`__dict__` is a special attribute is a dictionary containing each attribute of an object. We can see that prepending two underscores every key has `_ClassName__` prepended."
   ]
  },
  {
   "cell_type": "markdown",
   "id": "3a46ed6e",
   "metadata": {},
   "source": [
    "## 13.3 Inheritance\n",
    "\n",
    "Once a class is defined it models a concept. It is useful to extend a class behavior to model a less general concept. Say we need to model a Student, but we know that every student is also a Person so we shouldn't model the Person again but inherit from it instead.\n",
    "\n",
    "Through inheritance one can take all the methods and attributes from the another class and we can override or extend the methods from the another class. The class which is overriding is called child class and the class from methods are taking is called parent class."
   ]
  },
  {
   "cell_type": "code",
   "execution_count": 5,
   "id": "01b46b13",
   "metadata": {
    "scrolled": true
   },
   "outputs": [
    {
     "name": "stdout",
     "output_type": "stream",
     "text": [
      "1\n",
      "<class '__main__.student'>\n",
      "True\n",
      "True\n"
     ]
    }
   ],
   "source": [
    "class student(Person):\n",
    "    def __init__(self, student_id, *args):\n",
    "        super(student, self).__init__(*args)\n",
    "        self._student_id = student_id\n",
    "        \n",
    "charlie = student(1,'charlie','Brown',2006)\n",
    "print(charlie._student_id)\n",
    "print(type(charlie))\n",
    "print(isinstance(charlie, Person))\n",
    "print(isinstance(charlie,object))"
   ]
  },
  {
   "cell_type": "markdown",
   "id": "b61d1bdf",
   "metadata": {},
   "source": [
    "Charlie now has the same behavior of a Person, but his state has also a student ID. A Person is one of the base classes of Student and Student is one of the sub classes of Person. Be aware that a subclass knows about its superclasses but the converse isn't true.\n",
    "\n",
    "A sub class doesn't only inherits from its base classes, but from its base classes too, forming an inheritance tree that starts from a object (every class base class).\n",
    "\n",
    "    super(Class, instance)\n",
    "    \n",
    "is a function that returns a proxy-object that delegates method calls to a parent or sibling class of type.\n",
    "So we used it to access Person's `__init__`."
   ]
  },
  {
   "cell_type": "code",
   "execution_count": 24,
   "id": "36cf8a01",
   "metadata": {},
   "outputs": [
    {
     "ename": "NameError",
     "evalue": "name 'DataBaseOperations' is not defined",
     "output_type": "error",
     "traceback": [
      "\u001b[1;31m---------------------------------------------------------------------------\u001b[0m",
      "\u001b[1;31mNameError\u001b[0m                                 Traceback (most recent call last)",
      "\u001b[1;32m<ipython-input-24-a330f7d06c99>\u001b[0m in \u001b[0;36m<module>\u001b[1;34m\u001b[0m\n\u001b[0;32m      1\u001b[0m \u001b[1;31m# Another example\u001b[0m\u001b[1;33m\u001b[0m\u001b[1;33m\u001b[0m\u001b[1;33m\u001b[0m\u001b[0m\n\u001b[1;32m----> 2\u001b[1;33m \u001b[1;32mclass\u001b[0m \u001b[0mStudentmarks\u001b[0m\u001b[1;33m(\u001b[0m\u001b[0mDataBaseOperations\u001b[0m\u001b[1;33m)\u001b[0m\u001b[1;33m:\u001b[0m \u001b[1;31m# inheriting the DatabaseOperation class\u001b[0m\u001b[1;33m\u001b[0m\u001b[1;33m\u001b[0m\u001b[0m\n\u001b[0m\u001b[0;32m      3\u001b[0m \u001b[1;33m\u001b[0m\u001b[0m\n\u001b[0;32m      4\u001b[0m     \u001b[1;32mdef\u001b[0m \u001b[0m__init__\u001b[0m\u001b[1;33m(\u001b[0m\u001b[0mself\u001b[0m\u001b[1;33m,\u001b[0m \u001b[0mID\u001b[0m\u001b[1;33m,\u001b[0m \u001b[0mRollNumber\u001b[0m\u001b[1;33m,\u001b[0m \u001b[0mMarks\u001b[0m\u001b[1;33m)\u001b[0m\u001b[1;33m:\u001b[0m\u001b[1;33m\u001b[0m\u001b[1;33m\u001b[0m\u001b[0m\n\u001b[0;32m      5\u001b[0m \u001b[1;33m\u001b[0m\u001b[0m\n",
      "\u001b[1;31mNameError\u001b[0m: name 'DataBaseOperations' is not defined"
     ]
    }
   ],
   "source": [
    "# Another example\n",
    "class Studentmarks(DataBaseOperations): # inheriting the DatabaseOperation class\n",
    "    \n",
    "    def __init__(self, ID, RollNumber, Marks):\n",
    "         \n",
    "            self.id = ID\n",
    "            self.RollNum = ROllNumber\n",
    "            self.Marks = Marks\n",
    "            self.databasename = 'studentDetails'\n",
    "student1 = Studentmarks(23,34,76)\n",
    "        "
   ]
  },
  {
   "cell_type": "code",
   "execution_count": 20,
   "id": "9a1c9730",
   "metadata": {},
   "outputs": [
    {
     "ename": "NameError",
     "evalue": "name 'Studentmarks' is not defined",
     "output_type": "error",
     "traceback": [
      "\u001b[1;31m---------------------------------------------------------------------------\u001b[0m",
      "\u001b[1;31mNameError\u001b[0m                                 Traceback (most recent call last)",
      "\u001b[1;32m<ipython-input-20-148119262c14>\u001b[0m in \u001b[0;36m<module>\u001b[1;34m\u001b[0m\n\u001b[1;32m----> 1\u001b[1;33m \u001b[0mstudent1\u001b[0m \u001b[1;33m=\u001b[0m \u001b[0mStudentmarks\u001b[0m\u001b[1;33m(\u001b[0m\u001b[1;36m23\u001b[0m\u001b[1;33m,\u001b[0m\u001b[1;36m34\u001b[0m\u001b[1;33m,\u001b[0m\u001b[1;36m76\u001b[0m\u001b[1;33m)\u001b[0m\u001b[1;33m\u001b[0m\u001b[1;33m\u001b[0m\u001b[0m\n\u001b[0m",
      "\u001b[1;31mNameError\u001b[0m: name 'Studentmarks' is not defined"
     ]
    }
   ],
   "source": [
    "student1 = Studentmarks(23,34,76)"
   ]
  },
  {
   "cell_type": "code",
   "execution_count": 21,
   "id": "4316b516",
   "metadata": {},
   "outputs": [
    {
     "ename": "NameError",
     "evalue": "name 'student1' is not defined",
     "output_type": "error",
     "traceback": [
      "\u001b[1;31m---------------------------------------------------------------------------\u001b[0m",
      "\u001b[1;31mNameError\u001b[0m                                 Traceback (most recent call last)",
      "\u001b[1;32m<ipython-input-21-69d1c8479514>\u001b[0m in \u001b[0;36m<module>\u001b[1;34m\u001b[0m\n\u001b[1;32m----> 1\u001b[1;33m \u001b[0mstudent1\u001b[0m\u001b[1;33m.\u001b[0m\u001b[0mcreateDatabase\u001b[0m\u001b[1;33m(\u001b[0m\u001b[1;33m)\u001b[0m\u001b[1;33m\u001b[0m\u001b[1;33m\u001b[0m\u001b[0m\n\u001b[0m",
      "\u001b[1;31mNameError\u001b[0m: name 'student1' is not defined"
     ]
    }
   ],
   "source": [
    "student1.createDatabase()"
   ]
  },
  {
   "cell_type": "code",
   "execution_count": 25,
   "id": "85f7f01f",
   "metadata": {},
   "outputs": [
    {
     "ename": "NameError",
     "evalue": "name 'DataBaseOperations' is not defined",
     "output_type": "error",
     "traceback": [
      "\u001b[1;31m---------------------------------------------------------------------------\u001b[0m",
      "\u001b[1;31mNameError\u001b[0m                                 Traceback (most recent call last)",
      "\u001b[1;32m<ipython-input-25-a76bbe1436d5>\u001b[0m in \u001b[0;36m<module>\u001b[1;34m\u001b[0m\n\u001b[0;32m      1\u001b[0m \u001b[1;31m# Another example\u001b[0m\u001b[1;33m\u001b[0m\u001b[1;33m\u001b[0m\u001b[1;33m\u001b[0m\u001b[0m\n\u001b[1;32m----> 2\u001b[1;33m \u001b[1;32mclass\u001b[0m \u001b[0mStudentMarks\u001b[0m\u001b[1;33m(\u001b[0m\u001b[0mDataBaseOperations\u001b[0m\u001b[1;33m)\u001b[0m\u001b[1;33m:\u001b[0m \u001b[1;31m# inheriting the DatabaseOperation class\u001b[0m\u001b[1;33m\u001b[0m\u001b[1;33m\u001b[0m\u001b[0m\n\u001b[0m\u001b[0;32m      3\u001b[0m \u001b[1;33m\u001b[0m\u001b[0m\n\u001b[0;32m      4\u001b[0m     \u001b[1;32mdef\u001b[0m \u001b[0m__init__\u001b[0m \u001b[1;33m(\u001b[0m\u001b[0mself\u001b[0m\u001b[1;33m,\u001b[0m \u001b[0mID\u001b[0m\u001b[1;33m,\u001b[0m \u001b[0mRollNumber\u001b[0m\u001b[1;33m,\u001b[0m \u001b[0mMarks\u001b[0m\u001b[1;33m)\u001b[0m\u001b[1;33m:\u001b[0m\u001b[1;33m\u001b[0m\u001b[1;33m\u001b[0m\u001b[0m\n\u001b[0;32m      5\u001b[0m \u001b[1;33m\u001b[0m\u001b[0m\n",
      "\u001b[1;31mNameError\u001b[0m: name 'DataBaseOperations' is not defined"
     ]
    }
   ],
   "source": [
    "# Another example \n",
    "class StudentMarks(DataBaseOperations): # inheriting the DatabaseOperation class\n",
    "    \n",
    "    def __init__ (self, ID, RollNumber, Marks):\n",
    "        \n",
    "        self.id= ID\n",
    "        self.RollNum = RollNumber\n",
    "        self.Marks = Marks\n",
    "        self.databasename = \"StudentDetails\""
   ]
  },
  {
   "cell_type": "markdown",
   "id": "9149c732",
   "metadata": {},
   "source": [
    "### Overriding methods\n",
    "\n",
    "Inheritance allows to add new methods to a subclass but often is useful to change the behavior of a method defined in the superclass. To override a method just define it again."
   ]
  },
  {
   "cell_type": "code",
   "execution_count": 39,
   "id": "e6127283",
   "metadata": {},
   "outputs": [
    {
     "ename": "AttributeError",
     "evalue": "'Student' object has no attribute '_name'",
     "output_type": "error",
     "traceback": [
      "\u001b[1;31m---------------------------------------------------------------------------\u001b[0m",
      "\u001b[1;31mAttributeError\u001b[0m                            Traceback (most recent call last)",
      "\u001b[1;32m<ipython-input-39-fc8891fb0809>\u001b[0m in \u001b[0;36m<module>\u001b[1;34m\u001b[0m\n\u001b[0;32m      8\u001b[0m \u001b[1;33m\u001b[0m\u001b[0m\n\u001b[0;32m      9\u001b[0m \u001b[0mcharlie\u001b[0m \u001b[1;33m=\u001b[0m \u001b[0mStudent\u001b[0m\u001b[1;33m(\u001b[0m\u001b[1;36m1\u001b[0m\u001b[1;33m,\u001b[0m \u001b[1;34m'charlie'\u001b[0m\u001b[1;33m,\u001b[0m \u001b[1;34m'Brown'\u001b[0m\u001b[1;33m,\u001b[0m \u001b[1;36m2006\u001b[0m\u001b[1;33m)\u001b[0m\u001b[1;33m\u001b[0m\u001b[1;33m\u001b[0m\u001b[0m\n\u001b[1;32m---> 10\u001b[1;33m \u001b[0mprint\u001b[0m\u001b[1;33m(\u001b[0m\u001b[0mcharlie\u001b[0m\u001b[1;33m)\u001b[0m\u001b[1;33m\u001b[0m\u001b[1;33m\u001b[0m\u001b[0m\n\u001b[0m",
      "\u001b[1;32m<ipython-input-39-fc8891fb0809>\u001b[0m in \u001b[0;36m__str__\u001b[1;34m(self)\u001b[0m\n\u001b[0;32m      5\u001b[0m \u001b[1;33m\u001b[0m\u001b[0m\n\u001b[0;32m      6\u001b[0m     \u001b[1;32mdef\u001b[0m \u001b[0m__str__\u001b[0m\u001b[1;33m(\u001b[0m\u001b[0mself\u001b[0m\u001b[1;33m)\u001b[0m\u001b[1;33m:\u001b[0m\u001b[1;33m\u001b[0m\u001b[1;33m\u001b[0m\u001b[0m\n\u001b[1;32m----> 7\u001b[1;33m         \u001b[1;32mreturn\u001b[0m \u001b[0msuper\u001b[0m\u001b[1;33m(\u001b[0m\u001b[0mStudent\u001b[0m\u001b[1;33m,\u001b[0m \u001b[0mself\u001b[0m\u001b[1;33m)\u001b[0m\u001b[1;33m.\u001b[0m\u001b[0m__str__\u001b[0m\u001b[1;33m(\u001b[0m\u001b[1;33m)\u001b[0m \u001b[1;33m+\u001b[0m \u001b[1;34m\"And has ID: %d\"\u001b[0m \u001b[1;33m%\u001b[0m \u001b[0mself\u001b[0m\u001b[1;33m.\u001b[0m\u001b[0m_student_id\u001b[0m\u001b[1;33m\u001b[0m\u001b[1;33m\u001b[0m\u001b[0m\n\u001b[0m\u001b[0;32m      8\u001b[0m \u001b[1;33m\u001b[0m\u001b[0m\n\u001b[0;32m      9\u001b[0m \u001b[0mcharlie\u001b[0m \u001b[1;33m=\u001b[0m \u001b[0mStudent\u001b[0m\u001b[1;33m(\u001b[0m\u001b[1;36m1\u001b[0m\u001b[1;33m,\u001b[0m \u001b[1;34m'charlie'\u001b[0m\u001b[1;33m,\u001b[0m \u001b[1;34m'Brown'\u001b[0m\u001b[1;33m,\u001b[0m \u001b[1;36m2006\u001b[0m\u001b[1;33m)\u001b[0m\u001b[1;33m\u001b[0m\u001b[1;33m\u001b[0m\u001b[0m\n",
      "\u001b[1;32m<ipython-input-1-c73f1e6c9c58>\u001b[0m in \u001b[0;36m__str__\u001b[1;34m(self)\u001b[0m\n\u001b[0;32m     10\u001b[0m     \u001b[1;32mdef\u001b[0m \u001b[0m__str__\u001b[0m\u001b[1;33m(\u001b[0m\u001b[0mself\u001b[0m\u001b[1;33m)\u001b[0m\u001b[1;33m:\u001b[0m\u001b[1;33m\u001b[0m\u001b[1;33m\u001b[0m\u001b[0m\n\u001b[0;32m     11\u001b[0m         \u001b[1;32mreturn\u001b[0m \u001b[1;34m\"%s %s and was born %d.\"\u001b[0m\u001b[0;31m\\\u001b[0m\u001b[1;33m\u001b[0m\u001b[1;33m\u001b[0m\u001b[0m\n\u001b[1;32m---> 12\u001b[1;33m                 \u001b[1;33m%\u001b[0m\u001b[1;33m(\u001b[0m\u001b[0mself\u001b[0m\u001b[1;33m.\u001b[0m\u001b[0m_name\u001b[0m\u001b[1;33m,\u001b[0m \u001b[0mself\u001b[0m\u001b[1;33m.\u001b[0m\u001b[0m_surame\u001b[0m\u001b[1;33m,\u001b[0m\u001b[0mself\u001b[0m\u001b[1;33m.\u001b[0m\u001b[0m_year_of_birth\u001b[0m\u001b[1;33m)\u001b[0m\u001b[1;33m\u001b[0m\u001b[1;33m\u001b[0m\u001b[0m\n\u001b[0m\u001b[0;32m     13\u001b[0m \u001b[0malec\u001b[0m \u001b[1;33m=\u001b[0m \u001b[0mPerson\u001b[0m\u001b[1;33m(\u001b[0m\u001b[1;34m\"Alec\"\u001b[0m\u001b[1;33m,\u001b[0m\u001b[1;34m\"Baldwin\"\u001b[0m\u001b[1;33m,\u001b[0m\u001b[1;36m1958\u001b[0m\u001b[1;33m)\u001b[0m\u001b[1;33m\u001b[0m\u001b[1;33m\u001b[0m\u001b[0m\n\u001b[0;32m     14\u001b[0m \u001b[0mprint\u001b[0m\u001b[1;33m(\u001b[0m\u001b[0malec\u001b[0m\u001b[1;33m.\u001b[0m\u001b[0m_Person__name\u001b[0m\u001b[1;33m)\u001b[0m \u001b[1;31m#For accessing private element of a class\u001b[0m\u001b[1;33m\u001b[0m\u001b[1;33m\u001b[0m\u001b[0m\n",
      "\u001b[1;31mAttributeError\u001b[0m: 'Student' object has no attribute '_name'"
     ]
    }
   ],
   "source": [
    "class Student(Person):\n",
    "    def __init__(self, student_id, *args, **kwargs):\n",
    "        super(Student, self).__init__(*args, **kwargs)\n",
    "        self.__student_id = student_id\n",
    "        \n",
    "    def __str__(self):\n",
    "        return super(Student, self).__str__() + \"And has ID: %d\" % self._student_id\n",
    "    \n",
    "charlie = Student(1, 'charlie', 'Brown', 2006)\n",
    "print(charlie)"
   ]
  },
  {
   "cell_type": "markdown",
   "id": "cf0aa9cc",
   "metadata": {},
   "source": [
    "We defined `__str__` again overriding the one wrote in Person, but we wanted to extend it, so we used super to achieve our goal."
   ]
  },
  {
   "cell_type": "code",
   "execution_count": 2,
   "id": "5ffafec3",
   "metadata": {},
   "outputs": [
    {
     "ename": "NameError",
     "evalue": "name 'DataBaseOperations' is not defined",
     "output_type": "error",
     "traceback": [
      "\u001b[1;31m---------------------------------------------------------------------------\u001b[0m",
      "\u001b[1;31mNameError\u001b[0m                                 Traceback (most recent call last)",
      "\u001b[1;32m<ipython-input-2-53dec34a72fe>\u001b[0m in \u001b[0;36m<module>\u001b[1;34m\u001b[0m\n\u001b[0;32m      1\u001b[0m \u001b[1;31m#another class inheriting the DataBaseOperation class with overRiding the insert function\u001b[0m\u001b[1;33m\u001b[0m\u001b[1;33m\u001b[0m\u001b[1;33m\u001b[0m\u001b[0m\n\u001b[1;32m----> 2\u001b[1;33m \u001b[1;32mclass\u001b[0m \u001b[0mStudentDetails\u001b[0m\u001b[1;33m(\u001b[0m\u001b[0mDataBaseOperations\u001b[0m\u001b[1;33m)\u001b[0m\u001b[1;33m:\u001b[0m \u001b[1;31m# inheriting the DatabaseOperation class\u001b[0m\u001b[1;33m\u001b[0m\u001b[1;33m\u001b[0m\u001b[0m\n\u001b[0m\u001b[0;32m      3\u001b[0m \u001b[1;33m\u001b[0m\u001b[0m\n\u001b[0;32m      4\u001b[0m         \u001b[1;32mdef\u001b[0m \u001b[0m__init__\u001b[0m \u001b[1;33m(\u001b[0m\u001b[0mself\u001b[0m\u001b[1;33m,\u001b[0m \u001b[0mFirstName\u001b[0m\u001b[1;33m,\u001b[0m\u001b[0mLastName\u001b[0m\u001b[1;33m,\u001b[0m \u001b[0mRollNumber\u001b[0m\u001b[1;33m,\u001b[0m \u001b[0mClass\u001b[0m\u001b[1;33m)\u001b[0m\u001b[1;33m:\u001b[0m\u001b[1;33m\u001b[0m\u001b[1;33m\u001b[0m\u001b[0m\n\u001b[0;32m      5\u001b[0m \u001b[1;33m\u001b[0m\u001b[0m\n",
      "\u001b[1;31mNameError\u001b[0m: name 'DataBaseOperations' is not defined"
     ]
    }
   ],
   "source": [
    "#another class inheriting the DataBaseOperation class with overRiding the insert function\n",
    "class StudentDetails(DataBaseOperations): # inheriting the DatabaseOperation class\n",
    "        \n",
    "        def __init__ (self, FirstName,LastName, RollNumber, Class):\n",
    "        \n",
    "            self.FirstName= FirstName\n",
    "            self.LastName = LastName\n",
    "            self.RollNumber = RollNumber\n",
    "            self.Class = Class\n",
    "            self.databasename = \"StudentDetails\"\n",
    "            \n",
    "        #overriding the insert method of parent class to insert string values in table\n",
    "        def insertIntoTable(self,tablename):\n",
    "            try:\n",
    "                \n",
    "                firstName = '\"' + self.FirstName + '\"' #putting string value under quotes to insert into database\n",
    "                LastName = '\"' + self.LastName + '\"'\n",
    "                Class = '\"' + self.Class + '\"'\n",
    "                \n",
    "                listOfvaluesToInsert= (\"{0},{1},{2},{3}\".format(firstName,LastName,self.RollNumber,Class))\n",
    "                conn = self.createDatabase()\n",
    "                conn.execute('INSERT INTO {tablename}  values ({values})'.format(tablename = tablename,values=(listOfvaluesToInsert)))\n",
    "                conn.commit()\n",
    "                print(\"Values Inserted Successfully!!!\")\n",
    "                self.closeDbConnection(conn)\n",
    "                print(\"Connection to database closed!!\")\n",
    "            except Exception as e:\n",
    "                conn.rollback()\n",
    "                self.closeDbConnection(conn)\n",
    "                print(\"Connection to database closed!!\")\n",
    "                print(\"Error occured: \" + str(e))"
   ]
  },
  {
   "cell_type": "markdown",
   "id": "f25d0c29",
   "metadata": {},
   "source": [
    "## 13.4 Encapsulation\n",
    "\n",
    "Encapsulation is an another powerful way to extend a class which consists on wrapping an object with a second one.\n",
    "\n",
    "Encapsulations is applications of a software or a program will not reveal the internal implementation details to the outer world.\n",
    "The only constraint on the programmer is to maintain the public interface for the component, as other programmers will\n",
    "be writing code that depends on that developed interface. \n",
    "Encapsulation allows the implementation details of a program to\n",
    "be change without affecting other parts of the program, thereby making it easier to fix bugs or add new functionality with some local changes to an application.\n",
    "\n",
    "\n",
    "There are two main reasons to use encapsulation:\n",
    "\n",
    "* Composition\n",
    "* Dynamic Extension"
   ]
  },
  {
   "cell_type": "code",
   "execution_count": null,
   "id": "3cabb3ea",
   "metadata": {},
   "outputs": [],
   "source": []
  }
 ],
 "metadata": {
  "kernelspec": {
   "display_name": "Python 3",
   "language": "python",
   "name": "python3"
  },
  "language_info": {
   "codemirror_mode": {
    "name": "ipython",
    "version": 3
   },
   "file_extension": ".py",
   "mimetype": "text/x-python",
   "name": "python",
   "nbconvert_exporter": "python",
   "pygments_lexer": "ipython3",
   "version": "3.8.8"
  }
 },
 "nbformat": 4,
 "nbformat_minor": 5
}
