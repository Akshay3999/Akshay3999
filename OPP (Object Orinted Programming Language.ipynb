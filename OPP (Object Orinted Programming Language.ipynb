{
 "cells": [
  {
   "cell_type": "code",
   "execution_count": 1,
   "id": "8216df96",
   "metadata": {},
   "outputs": [],
   "source": [
    "class car:\n",
    "    pass"
   ]
  },
  {
   "cell_type": "markdown",
   "id": "a7590878",
   "metadata": {},
   "source": [
    "## What is this --init-- methods\n"
   ]
  },
  {
   "cell_type": "markdown",
   "id": "1e65c573",
   "metadata": {},
   "source": [
    "What aver function start with double underscore and ends with double under score is an inbiuld function is allready written by someone "
   ]
  },
  {
   "cell_type": "markdown",
   "id": "28e89318",
   "metadata": {},
   "source": [
    "What is -init- ?"
   ]
  },
  {
   "cell_type": "markdown",
   "id": "b13bd06f",
   "metadata": {},
   "source": [
    "* -init- is called constractor.\n",
    "* Constractor are nothing but kind of entity or kind of method or kind of function which is responsible providing data to the particular class that is somthing called as constructor."
   ]
  },
  {
   "cell_type": "code",
   "execution_count": 2,
   "id": "902873cd",
   "metadata": {},
   "outputs": [],
   "source": [
    "class car:\n",
    "    def __init__(self , brand_name, fuletype, body_type):\n",
    "        # self is pointer\n",
    "        self.brand_name = brand_name\n",
    "        self.fuletype = fuletype\n",
    "        self.body_type = body_type\n",
    "   \n",
    "    # inside the class created many number of varibale many number of methods \n",
    "    def desc_car(self):\n",
    "        print(self.brand_name , self.fuletype , self.body_type)"
   ]
  },
  {
   "cell_type": "code",
   "execution_count": 3,
   "id": "f3a463fe",
   "metadata": {},
   "outputs": [],
   "source": [
    "innova = car(\"toyta\", \"petrol\", \"suv\")\n",
    "nexon = car(\"tata\", \"diseal\", \"Min suv\")\n",
    "fortuner = car(\"toyta\",\"petrol\",\"suv\")"
   ]
  },
  {
   "cell_type": "code",
   "execution_count": 4,
   "id": "55582d6f",
   "metadata": {},
   "outputs": [
    {
     "data": {
      "text/plain": [
       "'petrol'"
      ]
     },
     "execution_count": 4,
     "metadata": {},
     "output_type": "execute_result"
    }
   ],
   "source": [
    "fortuner.fuletype"
   ]
  },
  {
   "cell_type": "code",
   "execution_count": 5,
   "id": "fb4be50b",
   "metadata": {},
   "outputs": [
    {
     "name": "stdout",
     "output_type": "stream",
     "text": [
      "tata diseal Min suv\n"
     ]
    }
   ],
   "source": [
    "nexon.desc_car()"
   ]
  },
  {
   "cell_type": "markdown",
   "id": "a682ec9f",
   "metadata": {},
   "source": [
    "# Inheritance"
   ]
  },
  {
   "cell_type": "code",
   "execution_count": 1,
   "id": "2eb2b2fc",
   "metadata": {},
   "outputs": [],
   "source": [
    "class xyz:\n",
    "    def __init__(self,a,b,c):\n",
    "        self.a = a\n",
    "        self.b = b\n",
    "        self.c = c\n",
    "        \n",
    "    def test(self):\n",
    "        print(\"this is my first method of xyz class\")\n",
    "    \n",
    "    def test1(self):\n",
    "        print(\"this is my test1 method of xyz class\")\n",
    "        \n",
    "    def test2(self):\n",
    "        print(\"this is my test2 method of xyz class\")"
   ]
  },
  {
   "cell_type": "code",
   "execution_count": 2,
   "id": "4f4ca08a",
   "metadata": {},
   "outputs": [],
   "source": [
    "p = xyz(1,2,3)"
   ]
  },
  {
   "cell_type": "code",
   "execution_count": 3,
   "id": "7c160e32",
   "metadata": {},
   "outputs": [
    {
     "name": "stdout",
     "output_type": "stream",
     "text": [
      "this is my test2 method of xyz class\n"
     ]
    }
   ],
   "source": [
    "p.test2()"
   ]
  },
  {
   "cell_type": "code",
   "execution_count": 4,
   "id": "05054028",
   "metadata": {},
   "outputs": [],
   "source": [
    "class xyz1(xyz):\n",
    "    pass"
   ]
  },
  {
   "cell_type": "code",
   "execution_count": 6,
   "id": "1ed2438b",
   "metadata": {},
   "outputs": [],
   "source": [
    "q = xyz1(1,3,4)"
   ]
  },
  {
   "cell_type": "code",
   "execution_count": 7,
   "id": "e1563c95",
   "metadata": {},
   "outputs": [
    {
     "name": "stdout",
     "output_type": "stream",
     "text": [
      "this is my test1 method of xyz class\n"
     ]
    }
   ],
   "source": [
    "q.test1()"
   ]
  },
  {
   "cell_type": "code",
   "execution_count": 8,
   "id": "f4147d1a",
   "metadata": {},
   "outputs": [
    {
     "name": "stdout",
     "output_type": "stream",
     "text": [
      "this is my first method of xyz class\n"
     ]
    }
   ],
   "source": [
    "q.test()"
   ]
  },
  {
   "cell_type": "code",
   "execution_count": 9,
   "id": "999f1417",
   "metadata": {},
   "outputs": [
    {
     "name": "stdout",
     "output_type": "stream",
     "text": [
      "this is my test2 method of xyz class\n"
     ]
    }
   ],
   "source": [
    "q.test2()"
   ]
  },
  {
   "cell_type": "code",
   "execution_count": 16,
   "id": "2c8dcf04",
   "metadata": {},
   "outputs": [],
   "source": [
    "class xyz1(xyz):\n",
    "    def test(self):\n",
    "        print(\"this is a test math avaiable in xyz1\")"
   ]
  },
  {
   "cell_type": "code",
   "execution_count": 17,
   "id": "409835ec",
   "metadata": {},
   "outputs": [],
   "source": [
    "g = xyz1(4,5,6)"
   ]
  },
  {
   "cell_type": "code",
   "execution_count": 18,
   "id": "8ea6d29c",
   "metadata": {},
   "outputs": [
    {
     "name": "stdout",
     "output_type": "stream",
     "text": [
      "this is a test math avaiable in xyz1\n"
     ]
    }
   ],
   "source": [
    "g.test()"
   ]
  },
  {
   "cell_type": "code",
   "execution_count": 22,
   "id": "1152b7d4",
   "metadata": {},
   "outputs": [],
   "source": [
    "class xyz:\n",
    "    def __init__(self,a,b,c):\n",
    "        self.a=a\n",
    "        self.b=b\n",
    "        self.c=c\n",
    "        \n",
    "    def test(self):\n",
    "        print(\"this is a meth of xyz class\")\n",
    "        \n",
    "class xyz1:\n",
    "    def __init__(self, p,q,v):\n",
    "        self.p=p\n",
    "        self.q=q\n",
    "        self.v=v\n",
    "        \n",
    "    def test1(self):\n",
    "        print(\"this is a meth of xyz1 class\")\n",
    "        \n",
    "class child(xyz1,xyz):\n",
    "    def __init__(self, *args,**kwargs):\n",
    "        xyz.__init__(self,*args)\n",
    "        xyz1.__init__(self,**kwargs)"
   ]
  },
  {
   "cell_type": "code",
   "execution_count": 23,
   "id": "d9b526fc",
   "metadata": {},
   "outputs": [],
   "source": [
    "n = child(4,5,6, p = 1, q=2, v=3)"
   ]
  },
  {
   "cell_type": "code",
   "execution_count": 24,
   "id": "fde829de",
   "metadata": {},
   "outputs": [
    {
     "data": {
      "text/plain": [
       "1"
      ]
     },
     "execution_count": 24,
     "metadata": {},
     "output_type": "execute_result"
    }
   ],
   "source": [
    "n.p"
   ]
  },
  {
   "cell_type": "code",
   "execution_count": 25,
   "id": "7a85d67d",
   "metadata": {},
   "outputs": [
    {
     "data": {
      "text/plain": [
       "2"
      ]
     },
     "execution_count": 25,
     "metadata": {},
     "output_type": "execute_result"
    }
   ],
   "source": [
    "n.q"
   ]
  },
  {
   "cell_type": "code",
   "execution_count": 26,
   "id": "3da57a6d",
   "metadata": {},
   "outputs": [
    {
     "data": {
      "text/plain": [
       "3"
      ]
     },
     "execution_count": 26,
     "metadata": {},
     "output_type": "execute_result"
    }
   ],
   "source": [
    "n.v"
   ]
  },
  {
   "cell_type": "code",
   "execution_count": 27,
   "id": "9c99ac2c",
   "metadata": {},
   "outputs": [
    {
     "data": {
      "text/plain": [
       "4"
      ]
     },
     "execution_count": 27,
     "metadata": {},
     "output_type": "execute_result"
    }
   ],
   "source": [
    "n.a"
   ]
  },
  {
   "cell_type": "code",
   "execution_count": 28,
   "id": "41e80ecb",
   "metadata": {},
   "outputs": [
    {
     "data": {
      "text/plain": [
       "5"
      ]
     },
     "execution_count": 28,
     "metadata": {},
     "output_type": "execute_result"
    }
   ],
   "source": [
    "n.b"
   ]
  },
  {
   "cell_type": "code",
   "execution_count": 29,
   "id": "1fd895d1",
   "metadata": {},
   "outputs": [
    {
     "data": {
      "text/plain": [
       "6"
      ]
     },
     "execution_count": 29,
     "metadata": {},
     "output_type": "execute_result"
    }
   ],
   "source": [
    "n.c"
   ]
  },
  {
   "cell_type": "code",
   "execution_count": 30,
   "id": "267bcbd9",
   "metadata": {},
   "outputs": [
    {
     "name": "stdout",
     "output_type": "stream",
     "text": [
      "this is a meth of xyz class\n"
     ]
    }
   ],
   "source": [
    "n.test()"
   ]
  },
  {
   "cell_type": "code",
   "execution_count": 31,
   "id": "8037b703",
   "metadata": {},
   "outputs": [
    {
     "name": "stdout",
     "output_type": "stream",
     "text": [
      "this is a meth of xyz1 class\n"
     ]
    }
   ],
   "source": [
    "n.test1()"
   ]
  },
  {
   "cell_type": "code",
   "execution_count": 43,
   "id": "a431d0da",
   "metadata": {},
   "outputs": [],
   "source": [
    "y =xyz(3,4,5)"
   ]
  },
  {
   "cell_type": "code",
   "execution_count": 44,
   "id": "e30e20af",
   "metadata": {},
   "outputs": [
    {
     "data": {
      "text/plain": [
       "4"
      ]
     },
     "execution_count": 44,
     "metadata": {},
     "output_type": "execute_result"
    }
   ],
   "source": [
    "y.b"
   ]
  },
  {
   "cell_type": "code",
   "execution_count": 46,
   "id": "cc92f827",
   "metadata": {},
   "outputs": [],
   "source": [
    "m= xyz3(1,2,3)"
   ]
  },
  {
   "cell_type": "code",
   "execution_count": 47,
   "id": "26f9b0fe",
   "metadata": {},
   "outputs": [
    {
     "data": {
      "text/plain": [
       "1"
      ]
     },
     "execution_count": 47,
     "metadata": {},
     "output_type": "execute_result"
    }
   ],
   "source": [
    "m.a"
   ]
  },
  {
   "cell_type": "code",
   "execution_count": 48,
   "id": "7e816b2a",
   "metadata": {},
   "outputs": [
    {
     "data": {
      "text/plain": [
       "5"
      ]
     },
     "execution_count": 48,
     "metadata": {},
     "output_type": "execute_result"
    }
   ],
   "source": [
    "y.c"
   ]
  },
  {
   "cell_type": "markdown",
   "id": "e3f9dba1",
   "metadata": {},
   "source": [
    "q1 - create a file class for reading data from respective file with a method name read and erite.\n",
    "\n",
    "q2 - try to inherit read and write method from parent class to child class to perform read and write operation."
   ]
  },
  {
   "cell_type": "code",
   "execution_count": 5,
   "id": "d3ccaf0a",
   "metadata": {},
   "outputs": [
    {
     "name": "stdout",
     "output_type": "stream",
     "text": [
      "Inheritance of readFile class\n"
     ]
    }
   ],
   "source": [
    "class readFile:\n",
    "    def __init__(self,fileObj,lines):\n",
    "        self.file = fileObj\n",
    "        self.lines = lines\n",
    "    def readFIles(self):\n",
    "        file2=open(self.file,'r')\n",
    "        line=file2.readline()\n",
    "        while(line!=\"\"):\n",
    "            print(line)\n",
    "            line = file2.readline()\n",
    "            \n",
    "    def writeFile(self):\n",
    "        content_write = open(self.file,'w')\n",
    "        content_write.writelines(lines)\n",
    "        content_write.close()\n",
    "        \n",
    "class readFile(readFile):\n",
    "    def readFile(self):\n",
    "        print(\"Inheritance of readFile class\")\n",
    "file1 = r'test.txt'\n",
    "lines = 'Inserted lines'\n",
    "\n",
    "read_write = readFile(file1,lines)\n",
    "read_write .writeFile()\n",
    "read_write.readFile()"
   ]
  },
  {
   "cell_type": "code",
   "execution_count": 8,
   "id": "7441f389",
   "metadata": {},
   "outputs": [],
   "source": [
    "class test:\n",
    "    def __init__(self,a,b,c):\n",
    "        self.a = a\n",
    "        self.b = b\n",
    "        self.c = c\n",
    "        \n",
    "class test1(test):\n",
    "    pass\n",
    "u = test(4,5,6)"
   ]
  },
  {
   "cell_type": "code",
   "execution_count": 9,
   "id": "acfe0dfe",
   "metadata": {},
   "outputs": [],
   "source": [
    "v = test1(3,4,5)"
   ]
  },
  {
   "cell_type": "code",
   "execution_count": 13,
   "id": "825a6a21",
   "metadata": {},
   "outputs": [],
   "source": [
    "class test:\n",
    "    def __init__(self):\n",
    "        self._a =4\n",
    "        \n",
    "class test1(test):\n",
    "    def __init__(self):\n",
    "        self._a=7\n",
    "                \n",
    "u = test()"
   ]
  },
  {
   "cell_type": "code",
   "execution_count": 16,
   "id": "8e78052b",
   "metadata": {},
   "outputs": [
    {
     "data": {
      "text/plain": [
       "4"
      ]
     },
     "execution_count": 16,
     "metadata": {},
     "output_type": "execute_result"
    }
   ],
   "source": [
    "u._a"
   ]
  },
  {
   "cell_type": "code",
   "execution_count": 18,
   "id": "0deee337",
   "metadata": {},
   "outputs": [],
   "source": [
    "v = test1()"
   ]
  },
  {
   "cell_type": "code",
   "execution_count": 19,
   "id": "5cf0be2d",
   "metadata": {},
   "outputs": [
    {
     "data": {
      "text/plain": [
       "7"
      ]
     },
     "execution_count": 19,
     "metadata": {},
     "output_type": "execute_result"
    }
   ],
   "source": [
    "v._a"
   ]
  },
  {
   "cell_type": "code",
   "execution_count": 2,
   "id": "aca3546e",
   "metadata": {},
   "outputs": [],
   "source": [
    "class test:\n",
    "    def __init__(self,a,b,c):\n",
    "        self.a=a\n",
    "        self.__b=b\n",
    "        self.c=c\n",
    "v= test(4,5,6)"
   ]
  },
  {
   "cell_type": "code",
   "execution_count": 3,
   "id": "e4524f69",
   "metadata": {},
   "outputs": [
    {
     "data": {
      "text/plain": [
       "4"
      ]
     },
     "execution_count": 3,
     "metadata": {},
     "output_type": "execute_result"
    }
   ],
   "source": [
    "v.a"
   ]
  },
  {
   "cell_type": "code",
   "execution_count": 4,
   "id": "f8358a77",
   "metadata": {},
   "outputs": [
    {
     "data": {
      "text/plain": [
       "5"
      ]
     },
     "execution_count": 4,
     "metadata": {},
     "output_type": "execute_result"
    }
   ],
   "source": [
    "v._test__b"
   ]
  },
  {
   "cell_type": "code",
   "execution_count": 5,
   "id": "13327bcd",
   "metadata": {},
   "outputs": [
    {
     "data": {
      "text/plain": [
       "6"
      ]
     },
     "execution_count": 5,
     "metadata": {},
     "output_type": "execute_result"
    }
   ],
   "source": [
    "v.c"
   ]
  },
  {
   "cell_type": "code",
   "execution_count": 4,
   "id": "332e8f40",
   "metadata": {},
   "outputs": [],
   "source": [
    "class test:\n",
    "    def __init__(self,a,b,c):\n",
    "        self._a=a\n",
    "        self.__b=b\n",
    "        self.c=c\n",
    "        \n",
    "class test1(test):\n",
    "    pass\n",
    "\n",
    "v = test(4,5,6)\n"
   ]
  },
  {
   "cell_type": "code",
   "execution_count": 5,
   "id": "7260cbbc",
   "metadata": {},
   "outputs": [
    {
     "data": {
      "text/plain": [
       "4"
      ]
     },
     "execution_count": 5,
     "metadata": {},
     "output_type": "execute_result"
    }
   ],
   "source": [
    "v._a"
   ]
  },
  {
   "cell_type": "code",
   "execution_count": 7,
   "id": "d86df7df",
   "metadata": {},
   "outputs": [
    {
     "data": {
      "text/plain": [
       "5"
      ]
     },
     "execution_count": 7,
     "metadata": {},
     "output_type": "execute_result"
    }
   ],
   "source": [
    "v._test__b"
   ]
  },
  {
   "cell_type": "code",
   "execution_count": 8,
   "id": "8e4ff372",
   "metadata": {},
   "outputs": [
    {
     "data": {
      "text/plain": [
       "6"
      ]
     },
     "execution_count": 8,
     "metadata": {},
     "output_type": "execute_result"
    }
   ],
   "source": [
    "v.c"
   ]
  },
  {
   "cell_type": "code",
   "execution_count": 9,
   "id": "f3e50c56",
   "metadata": {},
   "outputs": [],
   "source": [
    "u = test1(3,4,5)"
   ]
  },
  {
   "cell_type": "code",
   "execution_count": 10,
   "id": "61bf4bb3",
   "metadata": {},
   "outputs": [
    {
     "data": {
      "text/plain": [
       "5"
      ]
     },
     "execution_count": 10,
     "metadata": {},
     "output_type": "execute_result"
    }
   ],
   "source": [
    "u.c"
   ]
  },
  {
   "cell_type": "code",
   "execution_count": 11,
   "id": "33794970",
   "metadata": {},
   "outputs": [
    {
     "data": {
      "text/plain": [
       "3"
      ]
     },
     "execution_count": 11,
     "metadata": {},
     "output_type": "execute_result"
    }
   ],
   "source": [
    "u._a"
   ]
  },
  {
   "cell_type": "code",
   "execution_count": 13,
   "id": "3dd84c50",
   "metadata": {},
   "outputs": [
    {
     "ename": "AttributeError",
     "evalue": "'test1' object has no attribute '_test1__b'",
     "output_type": "error",
     "traceback": [
      "\u001b[1;31m---------------------------------------------------------------------------\u001b[0m",
      "\u001b[1;31mAttributeError\u001b[0m                            Traceback (most recent call last)",
      "\u001b[1;32m<ipython-input-13-28b27c9c3546>\u001b[0m in \u001b[0;36m<module>\u001b[1;34m\u001b[0m\n\u001b[1;32m----> 1\u001b[1;33m \u001b[0mu\u001b[0m\u001b[1;33m.\u001b[0m\u001b[0m_test1__b\u001b[0m\u001b[1;33m\u001b[0m\u001b[1;33m\u001b[0m\u001b[0m\n\u001b[0m",
      "\u001b[1;31mAttributeError\u001b[0m: 'test1' object has no attribute '_test1__b'"
     ]
    }
   ],
   "source": [
    "u._test1__b"
   ]
  },
  {
   "cell_type": "code",
   "execution_count": 126,
   "id": "895b89cb",
   "metadata": {},
   "outputs": [],
   "source": [
    "class bonuscalculator:\n",
    "    def __init__(self, empid, empidrating):\n",
    "        self.empid = empid\n",
    "        self.empidrating = empidrating\n",
    "        self._empmail = \"jsdcjsndj\"\n",
    "        self.__bonusforratingA = \"70%\"\n",
    "        self.__bonusforratingB = \"60%\"\n",
    "        self.__bonusforratingC = \"40%\"\n",
    "        \n",
    "    def bonuscalculator(self):\n",
    "        if self.empidrating == \"A\":\n",
    "            bonus = self.__bonusforratingA\n",
    "            return bonus\n",
    "        elif self.empidrating == \"B\":\n",
    "            bonus = self.__bonusforratingB\n",
    "            return bonus\n",
    "        else: \n",
    "            bonus = self.__bonusforratingC\n",
    "            return bonus"
   ]
  },
  {
   "cell_type": "code",
   "execution_count": 127,
   "id": "31a2a6d8",
   "metadata": {},
   "outputs": [],
   "source": [
    "emp1 = bonuscalculator(101,\"A\")\n",
    "emp2 = bonuscalculator(102,\"B\")\n",
    "emp3 = bonuscalculator(103,\"c\")"
   ]
  },
  {
   "cell_type": "code",
   "execution_count": 157,
   "id": "6c5c2093",
   "metadata": {},
   "outputs": [
    {
     "data": {
      "text/plain": [
       "'50%'"
      ]
     },
     "execution_count": 157,
     "metadata": {},
     "output_type": "execute_result"
    }
   ],
   "source": [
    "emp4.bonuscalculator()"
   ]
  },
  {
   "cell_type": "code",
   "execution_count": 128,
   "id": "477984f1",
   "metadata": {},
   "outputs": [
    {
     "data": {
      "text/plain": [
       "'70%'"
      ]
     },
     "execution_count": 128,
     "metadata": {},
     "output_type": "execute_result"
    }
   ],
   "source": [
    "emp1.bonuscalculator()"
   ]
  },
  {
   "cell_type": "code",
   "execution_count": 68,
   "id": "f98a6c36",
   "metadata": {},
   "outputs": [
    {
     "data": {
      "text/plain": [
       "'60%'"
      ]
     },
     "execution_count": 68,
     "metadata": {},
     "output_type": "execute_result"
    }
   ],
   "source": [
    "emp2.bonuscalculator()"
   ]
  },
  {
   "cell_type": "code",
   "execution_count": 69,
   "id": "64c835fc",
   "metadata": {},
   "outputs": [
    {
     "data": {
      "text/plain": [
       "'40%'"
      ]
     },
     "execution_count": 69,
     "metadata": {},
     "output_type": "execute_result"
    }
   ],
   "source": [
    "emp3.bonuscalculator()"
   ]
  },
  {
   "cell_type": "code",
   "execution_count": 70,
   "id": "2d9a1a48",
   "metadata": {},
   "outputs": [],
   "source": [
    "emp1.empid  = 104"
   ]
  },
  {
   "cell_type": "code",
   "execution_count": 71,
   "id": "774c0954",
   "metadata": {},
   "outputs": [
    {
     "data": {
      "text/plain": [
       "104"
      ]
     },
     "execution_count": 71,
     "metadata": {},
     "output_type": "execute_result"
    }
   ],
   "source": [
    "emp1.empid"
   ]
  },
  {
   "cell_type": "code",
   "execution_count": 72,
   "id": "3814ac88",
   "metadata": {},
   "outputs": [],
   "source": [
    "emp1.emprating = \"B\""
   ]
  },
  {
   "cell_type": "code",
   "execution_count": 73,
   "id": "f8394f73",
   "metadata": {},
   "outputs": [
    {
     "data": {
      "text/plain": [
       "'70%'"
      ]
     },
     "execution_count": 73,
     "metadata": {},
     "output_type": "execute_result"
    }
   ],
   "source": [
    "emp1.bonuscalculator()"
   ]
  },
  {
   "cell_type": "code",
   "execution_count": 74,
   "id": "5b83b783",
   "metadata": {},
   "outputs": [],
   "source": [
    "emp1.__bonusforratingB = \"90%\""
   ]
  },
  {
   "cell_type": "code",
   "execution_count": 75,
   "id": "b39a47cd",
   "metadata": {},
   "outputs": [
    {
     "data": {
      "text/plain": [
       "'70%'"
      ]
     },
     "execution_count": 75,
     "metadata": {},
     "output_type": "execute_result"
    }
   ],
   "source": [
    "emp1.bonuscalculator()"
   ]
  },
  {
   "cell_type": "code",
   "execution_count": 76,
   "id": "e27c7708",
   "metadata": {},
   "outputs": [
    {
     "data": {
      "text/plain": [
       "'B'"
      ]
     },
     "execution_count": 76,
     "metadata": {},
     "output_type": "execute_result"
    }
   ],
   "source": [
    "emp2.empidrating"
   ]
  },
  {
   "cell_type": "code",
   "execution_count": 77,
   "id": "bc49edd3",
   "metadata": {},
   "outputs": [
    {
     "data": {
      "text/plain": [
       "'60%'"
      ]
     },
     "execution_count": 77,
     "metadata": {},
     "output_type": "execute_result"
    }
   ],
   "source": [
    "emp2.bonuscalculator()"
   ]
  },
  {
   "cell_type": "code",
   "execution_count": 78,
   "id": "060f5b3a",
   "metadata": {},
   "outputs": [],
   "source": [
    "emp2.__bonusforrating = \"100%\""
   ]
  },
  {
   "cell_type": "code",
   "execution_count": 79,
   "id": "09c5902f",
   "metadata": {},
   "outputs": [
    {
     "data": {
      "text/plain": [
       "'60%'"
      ]
     },
     "execution_count": 79,
     "metadata": {},
     "output_type": "execute_result"
    }
   ],
   "source": [
    "emp2.bonuscalculator()"
   ]
  },
  {
   "cell_type": "code",
   "execution_count": 80,
   "id": "895043e2",
   "metadata": {},
   "outputs": [],
   "source": [
    "emp2.empid = 234343"
   ]
  },
  {
   "cell_type": "code",
   "execution_count": 81,
   "id": "2ef9e410",
   "metadata": {},
   "outputs": [
    {
     "data": {
      "text/plain": [
       "234343"
      ]
     },
     "execution_count": 81,
     "metadata": {},
     "output_type": "execute_result"
    }
   ],
   "source": [
    "emp2.empid"
   ]
  },
  {
   "cell_type": "code",
   "execution_count": 82,
   "id": "2b6649ca",
   "metadata": {},
   "outputs": [],
   "source": [
    "emp2._bonusratingB = \"sfnnsjcsdk\""
   ]
  },
  {
   "cell_type": "code",
   "execution_count": 83,
   "id": "019ffab4",
   "metadata": {},
   "outputs": [
    {
     "data": {
      "text/plain": [
       "'60%'"
      ]
     },
     "execution_count": 83,
     "metadata": {},
     "output_type": "execute_result"
    }
   ],
   "source": [
    "emp2._bonuscalculator__bonusforratingB"
   ]
  },
  {
   "cell_type": "code",
   "execution_count": 84,
   "id": "cc5c8b2e",
   "metadata": {},
   "outputs": [],
   "source": [
    "emp2._bonuscalculator__bonusforratingB = \"Akshay\""
   ]
  },
  {
   "cell_type": "code",
   "execution_count": 85,
   "id": "d54bf185",
   "metadata": {},
   "outputs": [
    {
     "data": {
      "text/plain": [
       "'Akshay'"
      ]
     },
     "execution_count": 85,
     "metadata": {},
     "output_type": "execute_result"
    }
   ],
   "source": [
    "emp2._bonuscalculator__bonusforratingB"
   ]
  },
  {
   "cell_type": "code",
   "execution_count": 87,
   "id": "9ffad35a",
   "metadata": {},
   "outputs": [
    {
     "data": {
      "text/plain": [
       "'jsdcjsndj'"
      ]
     },
     "execution_count": 87,
     "metadata": {},
     "output_type": "execute_result"
    }
   ],
   "source": [
    "emp1._empmail"
   ]
  },
  {
   "cell_type": "code",
   "execution_count": 88,
   "id": "ddc407b2",
   "metadata": {},
   "outputs": [],
   "source": [
    "emp1._empmail = \"jdnccjsdk.com\""
   ]
  },
  {
   "cell_type": "code",
   "execution_count": 89,
   "id": "6a87039a",
   "metadata": {},
   "outputs": [
    {
     "data": {
      "text/plain": [
       "'jdnccjsdk.com'"
      ]
     },
     "execution_count": 89,
     "metadata": {},
     "output_type": "execute_result"
    }
   ],
   "source": [
    "emp1._empmail"
   ]
  },
  {
   "cell_type": "markdown",
   "id": "6ce189d7",
   "metadata": {},
   "source": [
    "# Thired class 20220130"
   ]
  },
  {
   "cell_type": "code",
   "execution_count": 1,
   "id": "6312c016",
   "metadata": {},
   "outputs": [],
   "source": [
    "def test(a,b):\n",
    "    return a+ b"
   ]
  },
  {
   "cell_type": "code",
   "execution_count": 2,
   "id": "2bdddef2",
   "metadata": {},
   "outputs": [
    {
     "data": {
      "text/plain": [
       "7"
      ]
     },
     "execution_count": 2,
     "metadata": {},
     "output_type": "execute_result"
    }
   ],
   "source": [
    "test(3,4)"
   ]
  },
  {
   "cell_type": "code",
   "execution_count": 4,
   "id": "3831ecd5",
   "metadata": {},
   "outputs": [
    {
     "data": {
      "text/plain": [
       "'Akshay Tate'"
      ]
     },
     "execution_count": 4,
     "metadata": {},
     "output_type": "execute_result"
    }
   ],
   "source": [
    "test(\"Akshay\", \" Tate\")"
   ]
  },
  {
   "cell_type": "code",
   "execution_count": 13,
   "id": "7aac86e6",
   "metadata": {},
   "outputs": [],
   "source": [
    "class insta:\n",
    "    def share_stories(self):\n",
    "        print(\"this will share my insta story\")\n",
    "        \n",
    "class facebook:\n",
    "    def share_stories(self):\n",
    "        print(\"this will share my facebook stories\")"
   ]
  },
  {
   "cell_type": "code",
   "execution_count": 14,
   "id": "1e55ab14",
   "metadata": {},
   "outputs": [],
   "source": [
    "def sharestories(app):\n",
    "    app.share_stories()"
   ]
  },
  {
   "cell_type": "code",
   "execution_count": 15,
   "id": "7a5647bc",
   "metadata": {},
   "outputs": [],
   "source": [
    "i = insta()\n",
    "f = facebook()"
   ]
  },
  {
   "cell_type": "code",
   "execution_count": 16,
   "id": "133f8dc0",
   "metadata": {},
   "outputs": [
    {
     "name": "stdout",
     "output_type": "stream",
     "text": [
      "this will share my insta story\n"
     ]
    }
   ],
   "source": [
    "sharestories(i)"
   ]
  },
  {
   "cell_type": "code",
   "execution_count": 17,
   "id": "f27bb5c8",
   "metadata": {},
   "outputs": [
    {
     "name": "stdout",
     "output_type": "stream",
     "text": [
      "this will share my facebook stories\n"
     ]
    }
   ],
   "source": [
    "sharestories(f)"
   ]
  },
  {
   "cell_type": "code",
   "execution_count": 30,
   "id": "3a903cbd",
   "metadata": {},
   "outputs": [],
   "source": [
    "class social_media:\n",
    "    def share_stories(self):\n",
    "        print(\"share a stories\")\n",
    "    def upload_pic(self):\n",
    "        print(\"this will help you to uplod pic on social media\")\n",
    "\n",
    "class facebbok(social_media):\n",
    "    def share_stories(self):\n",
    "        print(\"this is a fun for sharing an story for facebook\")\n",
    "    \n",
    "class insta(social_media):\n",
    "    def share_stories(self):\n",
    "        print(\"this will print a story from insta\")"
   ]
  },
  {
   "cell_type": "code",
   "execution_count": 32,
   "id": "6949fc77",
   "metadata": {},
   "outputs": [],
   "source": [
    "f = facebook()\n",
    "i = insta()"
   ]
  },
  {
   "cell_type": "code",
   "execution_count": 33,
   "id": "7f33b93d",
   "metadata": {},
   "outputs": [
    {
     "name": "stdout",
     "output_type": "stream",
     "text": [
      "this will share my facebook stories\n"
     ]
    }
   ],
   "source": [
    "f.share_stories()"
   ]
  },
  {
   "cell_type": "code",
   "execution_count": 34,
   "id": "1389a205",
   "metadata": {},
   "outputs": [
    {
     "name": "stdout",
     "output_type": "stream",
     "text": [
      "this will print a story from insta\n"
     ]
    }
   ],
   "source": [
    "i.share_stories()"
   ]
  },
  {
   "cell_type": "code",
   "execution_count": 35,
   "id": "08b096ef",
   "metadata": {},
   "outputs": [],
   "source": [
    "class test(Exception):\n",
    "    def __init__(self, msg):\n",
    "        self.msg = msg"
   ]
  },
  {
   "cell_type": "code",
   "execution_count": 36,
   "id": "a46805f7",
   "metadata": {},
   "outputs": [
    {
     "name": "stdout",
     "output_type": "stream",
     "text": [
      "this is my own exception class\n"
     ]
    }
   ],
   "source": [
    "try:\n",
    "    raise(test(\"this is my own exception class\"))\n",
    "    \n",
    "except test as t:\n",
    "    print(t)"
   ]
  },
  {
   "cell_type": "code",
   "execution_count": 3,
   "id": "449af1c2",
   "metadata": {},
   "outputs": [
    {
     "data": {
      "text/plain": [
       "'\\nQ1 create your own class for to achive multiple, multilvel inheritance\\nQ2 create your own class to represence polymorphism\\nq3 crate your own class for custome exception\\nq4 create your own class to achive encapsulation\\nq5 create your own class to achive method overlodiing and overriding\\n'"
      ]
     },
     "execution_count": 3,
     "metadata": {},
     "output_type": "execute_result"
    }
   ],
   "source": [
    "\"\"\"\n",
    "Q1 create your own class for to achive multiple, multilvel inheritance\n",
    "Q2 create your own class to represence polymorphism\n",
    "q3 crate your own class for custome exception\n",
    "q4 create your own class to achive encapsulation\n",
    "q5 create your own class to achive method overlodiing and overriding\n",
    "\"\"\""
   ]
  },
  {
   "cell_type": "code",
   "execution_count": 43,
   "id": "490205c5",
   "metadata": {},
   "outputs": [
    {
     "name": "stdout",
     "output_type": "stream",
     "text": [
      "Batch : 2\n",
      "course : FSDS\n"
     ]
    }
   ],
   "source": [
    "# Q1 create your own class for to achive multiple, multilvel inheritance\n",
    "\n",
    "# parent class\n",
    "\n",
    "class Batch_number:\n",
    "    batchnumber = \"\"\n",
    "    def __init__(self,a,b,c):\n",
    "        self.a = a\n",
    "        self.b = b\n",
    "        self.c = c\n",
    "    @staticmethod  # there is the decorator knowm as static method\n",
    "#     Decoretor are nothing but specially desinged function which is going to help other functions or intances to behave as per the ddefinition\n",
    "    def batch(self):\n",
    "        print(self.batchnumber)\n",
    "        \n",
    "# parent class2\n",
    "\n",
    "class course_name:\n",
    "    cname = \"\"\n",
    "    def course(self):\n",
    "        print(self.cname)\n",
    "        \n",
    "# child class\n",
    "\n",
    "class student(Batch_number, course_name):\n",
    "    def test(self):\n",
    "        print(\"Batch :\", self.batchnumber)\n",
    "        print(\"course :\", self.cname)\n",
    "        \n",
    "# child class code\n",
    "s1  = student(4,5,6)\n",
    "s1.batchnumber = \"2\"\n",
    "s1.cname = \"FSDS\"\n",
    "s1.test()"
   ]
  },
  {
   "cell_type": "code",
   "execution_count": 45,
   "id": "48518b2b",
   "metadata": {},
   "outputs": [],
   "source": [
    "# parent class\n",
    "\n",
    "class Batch_number:\n",
    "    batchnumber = \"FSDS\"\n",
    "    def __init__(self,a,b,c):\n",
    "        self.a = a\n",
    "        self.b = b\n",
    "        self.c = c\n",
    "    @staticmethod  # there is the decorator knowm as static method\n",
    "#     This is the prereturn function available in python module\n",
    "    def batch():\n",
    "        print(\"alsksnksd\")\n",
    "#  Intance function       \n",
    "    def batch1(self):\n",
    "        print(\"this is mmccdk\")"
   ]
  },
  {
   "cell_type": "code",
   "execution_count": 47,
   "id": "df6be92c",
   "metadata": {},
   "outputs": [
    {
     "name": "stdout",
     "output_type": "stream",
     "text": [
      "alsksnksd\n"
     ]
    }
   ],
   "source": [
    "Batch_number.batch()"
   ]
  },
  {
   "cell_type": "code",
   "execution_count": 50,
   "id": "cf09af35",
   "metadata": {},
   "outputs": [
    {
     "name": "stdout",
     "output_type": "stream",
     "text": [
      "this is mmccdk\n"
     ]
    }
   ],
   "source": [
    "Batch_number.batch1(1)"
   ]
  },
  {
   "cell_type": "code",
   "execution_count": 40,
   "id": "d321e09d",
   "metadata": {},
   "outputs": [],
   "source": [
    "bn = Batch_number(1,23,2)"
   ]
  },
  {
   "cell_type": "code",
   "execution_count": 41,
   "id": "9cbc8f59",
   "metadata": {},
   "outputs": [
    {
     "name": "stdout",
     "output_type": "stream",
     "text": [
      "alsksnksd\n"
     ]
    }
   ],
   "source": [
    "bn.batch()"
   ]
  },
  {
   "cell_type": "code",
   "execution_count": 19,
   "id": "d131c0fe",
   "metadata": {},
   "outputs": [],
   "source": [
    "bn1.batchnumber = 'Aksh'  "
   ]
  },
  {
   "cell_type": "code",
   "execution_count": 21,
   "id": "35f20edf",
   "metadata": {},
   "outputs": [
    {
     "data": {
      "text/plain": [
       "'Aksh'"
      ]
     },
     "execution_count": 21,
     "metadata": {},
     "output_type": "execute_result"
    }
   ],
   "source": [
    "bn1.batchnumber"
   ]
  },
  {
   "cell_type": "code",
   "execution_count": 23,
   "id": "a82eeeb5",
   "metadata": {},
   "outputs": [
    {
     "data": {
      "text/plain": [
       "''"
      ]
     },
     "execution_count": 23,
     "metadata": {},
     "output_type": "execute_result"
    }
   ],
   "source": [
    "Batch_number.batchnumber"
   ]
  },
  {
   "cell_type": "code",
   "execution_count": 7,
   "id": "ef1c6deb",
   "metadata": {},
   "outputs": [
    {
     "data": {
      "text/plain": [
       "6"
      ]
     },
     "execution_count": 7,
     "metadata": {},
     "output_type": "execute_result"
    }
   ],
   "source": [
    "# static vrible\n",
    "bn = Batch_number(4,5,6)\n",
    "bn.batchnumber\n",
    "bn.a\n",
    "bn.b\n",
    "bn.c"
   ]
  },
  {
   "cell_type": "code",
   "execution_count": 13,
   "id": "6452b340",
   "metadata": {},
   "outputs": [
    {
     "data": {
      "text/plain": [
       "''"
      ]
     },
     "execution_count": 13,
     "metadata": {},
     "output_type": "execute_result"
    }
   ],
   "source": [
    "bn1 = Batch_number(1,2,3)\n",
    "bn1.a\n",
    "bn1.batchnumber"
   ]
  },
  {
   "cell_type": "code",
   "execution_count": 85,
   "id": "92edcbfd",
   "metadata": {},
   "outputs": [
    {
     "name": "stdout",
     "output_type": "stream",
     "text": [
      "This is my method of xyz1 class\n"
     ]
    }
   ],
   "source": [
    "# multilabel inheritance\n",
    "class xyz:\n",
    "    def __init__(self,a,b,c):\n",
    "        self.a = a\n",
    "        self.b = b\n",
    "        self.c = c\n",
    "        \n",
    "    def test(self):\n",
    "        print(\"This is my method of xyz class\")\n",
    "        \n",
    "class xyz1(xyz):\n",
    "    def test1(self):\n",
    "        print(\"This is my method of xyz1 class\")\n",
    "        \n",
    "class xyz2(xyz1):\n",
    "    def test2(self):\n",
    "        pritn(\"this is the my xyz2 class\")\n",
    "        \n",
    "n = xyz1(3,4,5)\n",
    "n.test1()"
   ]
  },
  {
   "cell_type": "code",
   "execution_count": 88,
   "id": "0336e58a",
   "metadata": {},
   "outputs": [
    {
     "name": "stdout",
     "output_type": "stream",
     "text": [
      "enter first number4\n",
      "enter second number0\n"
     ]
    },
    {
     "ename": "ZeroDivisionError",
     "evalue": "division by zero",
     "output_type": "error",
     "traceback": [
      "\u001b[1;31m---------------------------------------------------------------------------\u001b[0m",
      "\u001b[1;31mZeroDivisionError\u001b[0m                         Traceback (most recent call last)",
      "\u001b[1;32m<ipython-input-88-cd9bacf8ce06>\u001b[0m in \u001b[0;36m<module>\u001b[1;34m\u001b[0m\n\u001b[0;32m     20\u001b[0m \u001b[1;33m\u001b[0m\u001b[0m\n\u001b[0;32m     21\u001b[0m \u001b[1;32melse\u001b[0m\u001b[1;33m:\u001b[0m\u001b[1;33m\u001b[0m\u001b[1;33m\u001b[0m\u001b[0m\n\u001b[1;32m---> 22\u001b[1;33m     \u001b[0mresult\u001b[0m \u001b[1;33m=\u001b[0m \u001b[0ma\u001b[0m\u001b[1;33m/\u001b[0m\u001b[0mb\u001b[0m\u001b[1;33m\u001b[0m\u001b[1;33m\u001b[0m\u001b[0m\n\u001b[0m\u001b[0;32m     23\u001b[0m     \u001b[0mprint\u001b[0m\u001b[1;33m(\u001b[0m\u001b[0mresult\u001b[0m\u001b[1;33m)\u001b[0m\u001b[1;33m\u001b[0m\u001b[1;33m\u001b[0m\u001b[0m\n",
      "\u001b[1;31mZeroDivisionError\u001b[0m: division by zero"
     ]
    }
   ],
   "source": [
    "# costom exception\n",
    "class division_by_5(Exception):\n",
    "    def __init__(self,msg):\n",
    "        self.msg = msg\n",
    "        \n",
    "try:\n",
    "    a = int(input(\"enter first number\"))\n",
    "    b = int(input(\"enter second number\"))\n",
    "    if b == 5:\n",
    "        raise division_by_5(\"division by 5 error\")\n",
    "        \n",
    "except ValueError as msg:\n",
    "    print(msg)\n",
    "    \n",
    "except ZeroDivisionError as msg:\n",
    "    print(msg)\n",
    "    \n",
    "except division_by_5 as msg:\n",
    "    print(msg)\n",
    "    \n",
    "else:\n",
    "    result = a/b\n",
    "    print(result)"
   ]
  },
  {
   "cell_type": "code",
   "execution_count": 90,
   "id": "f36756a6",
   "metadata": {},
   "outputs": [],
   "source": [
    "# multilabel inheritance\n",
    "\n",
    "class class1:\n",
    "    def __init__(self,a,b,c):\n",
    "        self.a = a\n",
    "        self.b = b\n",
    "        self.c = c\n",
    "        \n",
    "    def test(self):\n",
    "        print(\"this is the method of class1\")\n",
    "        \n",
    "class class2:\n",
    "    def __init__(self,p,q,r):\n",
    "        self.p = p\n",
    "        self.q = q\n",
    "        self.r = r\n",
    "        \n",
    "    def test1(self):\n",
    "        print(\"this is meth of class2\")\n",
    "        \n",
    "class child(class1, class2):\n",
    "    def __init__(self, *args,**kwargs):\n",
    "        class1.__init__(self,*args)\n",
    "        class2.__init__(self, **kwargs)\n",
    "        \n",
    "        "
   ]
  },
  {
   "cell_type": "markdown",
   "id": "e8c55c9e",
   "metadata": {},
   "source": [
    "# Abstraction \n",
    "\n",
    "Abstraction is the crating a blue print."
   ]
  },
  {
   "cell_type": "code",
   "execution_count": 95,
   "id": "89b7500f",
   "metadata": {},
   "outputs": [],
   "source": [
    "from abc import abstractmethod\n",
    "class data_project:\n",
    "    @abstractmethod\n",
    "    def read_file(self):\n",
    "        pass\n",
    "    \n",
    "    def validate_file_name(self):\n",
    "        pass\n",
    "    \n",
    "    def validate_datatype(self):\n",
    "        pass\n",
    "    \n",
    "    def validate_db_conn(self):\n",
    "        pass\n",
    "    \n",
    "    def create_conn(self):\n",
    "        pass\n",
    "    \n",
    "    def insert_data(self):\n",
    "        pass\n",
    "    \n",
    "    def delete_data(self):\n",
    "        pass\n",
    "    \n",
    "    def update_data(self):\n",
    "        pass\n",
    "    \n",
    "    def perform_stats(self):\n",
    "        pass"
   ]
  },
  {
   "cell_type": "code",
   "execution_count": 93,
   "id": "440c9011",
   "metadata": {},
   "outputs": [
    {
     "ename": "SyntaxError",
     "evalue": "invalid syntax (<ipython-input-93-f68c6543ddae>, line 1)",
     "output_type": "error",
     "traceback": [
      "\u001b[1;36m  File \u001b[1;32m\"<ipython-input-93-f68c6543ddae>\"\u001b[1;36m, line \u001b[1;32m1\u001b[0m\n\u001b[1;33m    class class db_opps(data_project):\u001b[0m\n\u001b[1;37m          ^\u001b[0m\n\u001b[1;31mSyntaxError\u001b[0m\u001b[1;31m:\u001b[0m invalid syntax\n"
     ]
    }
   ],
   "source": [
    "class class db_opps(data_project):\n",
    "    "
   ]
  },
  {
   "cell_type": "code",
   "execution_count": 103,
   "id": "18019755",
   "metadata": {},
   "outputs": [],
   "source": [
    "# overloding and overiding\n",
    "class test:\n",
    "    def function(self):\n",
    "        print(\"this is  my sample class\")\n",
    "#   str are the inbild function\n",
    "    def __str__(self):\n",
    "        return str(\"this is the function called at a time of object print\")"
   ]
  },
  {
   "cell_type": "code",
   "execution_count": 104,
   "id": "bc2e6d1e",
   "metadata": {},
   "outputs": [],
   "source": [
    "t = test()"
   ]
  },
  {
   "cell_type": "code",
   "execution_count": 105,
   "id": "bfff71f8",
   "metadata": {},
   "outputs": [
    {
     "name": "stdout",
     "output_type": "stream",
     "text": [
      "this is the function called at a time of object print\n"
     ]
    }
   ],
   "source": [
    "print(t)"
   ]
  },
  {
   "cell_type": "code",
   "execution_count": 106,
   "id": "3d294809",
   "metadata": {},
   "outputs": [
    {
     "data": {
      "text/plain": [
       "<__main__.test at 0x25fc75ac700>"
      ]
     },
     "execution_count": 106,
     "metadata": {},
     "output_type": "execute_result"
    }
   ],
   "source": [
    "t"
   ]
  },
  {
   "cell_type": "code",
   "execution_count": null,
   "id": "ed708f21",
   "metadata": {},
   "outputs": [],
   "source": []
  }
 ],
 "metadata": {
  "kernelspec": {
   "display_name": "Python 3",
   "language": "python",
   "name": "python3"
  },
  "language_info": {
   "codemirror_mode": {
    "name": "ipython",
    "version": 3
   },
   "file_extension": ".py",
   "mimetype": "text/x-python",
   "name": "python",
   "nbconvert_exporter": "python",
   "pygments_lexer": "ipython3",
   "version": "3.8.8"
  }
 },
 "nbformat": 4,
 "nbformat_minor": 5
}
