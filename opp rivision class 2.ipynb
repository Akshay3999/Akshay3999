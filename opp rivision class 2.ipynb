{
 "cells": [
  {
   "cell_type": "markdown",
   "id": "f0f76912",
   "metadata": {},
   "source": [
    "- Class Methods\n",
    "\n",
    "- Creating Class Methods\n",
    "\n",
    "- Accessing Class Methods\n",
    "\n",
    "- Static Methods\n",
    "\n",
    "- Accessing Static Methods\n",
    "\n",
    "- Difference Between Instance Method , Class Method and Static Methods"
   ]
  },
  {
   "cell_type": "markdown",
   "id": "e20c091c",
   "metadata": {},
   "source": [
    "Just like we can have class variables , similarly Python also allows us to create class methods.\n",
    "\n",
    "\n",
    "\n",
    "These are those methods which work on the class as a whole , instead of working on it’s object.\n",
    "\n",
    "\n",
    "For , example in our Emp class if we want to initialize the class variable raise_per inside a method , then the best way would be to create a class method for this purpose"
   ]
  },
  {
   "cell_type": "code",
   "execution_count": null,
   "id": "c8d4662f",
   "metadata": {},
   "outputs": [],
   "source": [
    "To create a class method we write the special word @classmethod on top of method definition\n",
    "\n",
    "Syntax:\n",
    "class <class_name>:\n",
    "@classmethod #decorator\n",
    "def  <method_name>(cls)\n",
    "// class specific code"
   ]
  },
  {
   "cell_type": "markdown",
   "id": "94835fcd",
   "metadata": {},
   "source": [
    "Notice that a class method gets a special object reference passed as argument by Python called as class refercnce"
   ]
  },
  {
   "cell_type": "markdown",
   "id": "c70d5875",
   "metadata": {},
   "source": [
    "To define a class method it is compulsory to use the decorator @classmethod\n",
    "\n",
    "\n",
    "ClassMethods can only access class level data and not instance specific data\n",
    "\n",
    "Just like Python passed self as argument to instance methods , it automatically passes cls as argument to classmethods\n",
    "\n",
    "\n",
    "The argument cls is always passed as the first argument and represents the class object."
   ]
  },
  {
   "cell_type": "markdown",
   "id": "50261ae9",
   "metadata": {},
   "source": [
    "Recall , that for every class Python creates a special object called class object , so the reference cls points to this object.\n",
    "\n",
    "\n",
    "\n",
    "\n",
    "The name cls is just a convention , although we can give any name to it.\n",
    "\n",
    "To call a classmethod we simply prefix it with classname followed by dot operator.\n",
    "\n",
    "\n",
    "Although we can use object reference also to call a classmethod but it is highly recommended not to do so , since classmethods do not work upon individual instances of the class "
   ]
  },
  {
   "cell_type": "markdown",
   "id": "cfe3e98b",
   "metadata": {},
   "source": [
    "Write a program to create a class called Emp , having an instance members called name , age and sal . Also declare a class variable called raise_amount to store the increment percentage of sal and set it the value given by the user\n",
    "Now provide following methods in your class"
   ]
  },
  {
   "cell_type": "markdown",
   "id": "89a5f8ed",
   "metadata": {},
   "source": [
    "\n",
    "__init___() : This method should initialize instance members  with the parameter passed\n",
    "increase_sal(): This method should calculate the increment in sal and add ot to the instance member sal\n",
    "display(): This method should display name , age and sal of the employee\n",
    "Finally , in the main script , create 2 Emp objects , initialize them and increase their salary . Finally display the data"
   ]
  },
  {
   "cell_type": "code",
   "execution_count": 12,
   "id": "ff1ad4f6",
   "metadata": {},
   "outputs": [],
   "source": [
    "class Emp:\n",
    "    raise_amount=0\n",
    "    @classmethod\n",
    "    def set_raise_amount(cls):\n",
    "        print(id(cls))\n",
    "        cls.raise_amount=float(input(\"Enter raise percentage:\")) #This can also be written as Emp.raise.amount\n",
    "\n",
    "    def __init__(self,name,age,sal):\n",
    "        print(id(self))\n",
    "        self.name=name\n",
    "        self.age=age          \n",
    "        self.sal=sal\n",
    "    \n",
    "    def increase_sal(self):\n",
    "        self.sal=self.sal\n",
    "    \n",
    "    def increase_sal(self):\n",
    "        self.sal=self.sal+(self.sal*Emp.raise_amount/100)\n",
    "    \n",
    "    def display(self):\n",
    "        print(self.name,self.age,self.sal)"
   ]
  },
  {
   "cell_type": "code",
   "execution_count": 13,
   "id": "afd62f3f",
   "metadata": {},
   "outputs": [
    {
     "name": "stdout",
     "output_type": "stream",
     "text": [
      "1757221127648\n",
      "Enter raise percentage:22.2\n"
     ]
    }
   ],
   "source": [
    "Emp.set_raise_amount()"
   ]
  },
  {
   "cell_type": "code",
   "execution_count": 15,
   "id": "f591d106",
   "metadata": {},
   "outputs": [
    {
     "name": "stdout",
     "output_type": "stream",
     "text": [
      "1757232177648\n",
      "1757232177648\n"
     ]
    }
   ],
   "source": [
    "e1=Emp('Akshay',18,100000)\n",
    "print(id(e1))"
   ]
  },
  {
   "cell_type": "code",
   "execution_count": 16,
   "id": "d3457192",
   "metadata": {},
   "outputs": [
    {
     "name": "stdout",
     "output_type": "stream",
     "text": [
      "Akshay 18 100000\n"
     ]
    }
   ],
   "source": [
    "e1.display()"
   ]
  },
  {
   "cell_type": "code",
   "execution_count": 17,
   "id": "66f2e1b1",
   "metadata": {},
   "outputs": [],
   "source": [
    "e1.increase_sal()"
   ]
  },
  {
   "cell_type": "code",
   "execution_count": 18,
   "id": "a4df8148",
   "metadata": {},
   "outputs": [
    {
     "name": "stdout",
     "output_type": "stream",
     "text": [
      "Akshay 18 122200.0\n"
     ]
    }
   ],
   "source": [
    "e1.display()"
   ]
  },
  {
   "cell_type": "code",
   "execution_count": 44,
   "id": "dca926e1",
   "metadata": {},
   "outputs": [],
   "source": [
    "class Emp:\n",
    "    def __init__(self,name,age,sal):\n",
    "        print(id(self))\n",
    "        self.name=name\n",
    "        self.age=age\n",
    "        self.sal=sal\n",
    "    def increase_sal(self):\n",
    "        self.sal=self.sal+(self.sal*Emp.set_raise_amount/100)\n",
    "    def display(self):\n",
    "        print(self.name,self.age,self.sal)"
   ]
  },
  {
   "cell_type": "code",
   "execution_count": 45,
   "id": "53c1f52f",
   "metadata": {},
   "outputs": [
    {
     "ename": "AttributeError",
     "evalue": "type object 'Emp' has no attribute 'set_raise_amount'",
     "output_type": "error",
     "traceback": [
      "\u001b[1;31m---------------------------------------------------------------------------\u001b[0m",
      "\u001b[1;31mAttributeError\u001b[0m                            Traceback (most recent call last)",
      "\u001b[1;32m<ipython-input-45-03600a4974bf>\u001b[0m in \u001b[0;36m<module>\u001b[1;34m\u001b[0m\n\u001b[1;32m----> 1\u001b[1;33m \u001b[0mEmp\u001b[0m\u001b[1;33m.\u001b[0m\u001b[0mset_raise_amount\u001b[0m\u001b[1;33m(\u001b[0m\u001b[1;33m)\u001b[0m\u001b[1;33m\u001b[0m\u001b[1;33m\u001b[0m\u001b[0m\n\u001b[0m",
      "\u001b[1;31mAttributeError\u001b[0m: type object 'Emp' has no attribute 'set_raise_amount'"
     ]
    }
   ],
   "source": [
    "Emp.set_raise_amount()"
   ]
  },
  {
   "cell_type": "code",
   "execution_count": 30,
   "id": "c99f2d48",
   "metadata": {},
   "outputs": [
    {
     "name": "stdout",
     "output_type": "stream",
     "text": [
      "1757232177648\n"
     ]
    }
   ],
   "source": [
    "e1=Emp('Akshay',18,25000)"
   ]
  },
  {
   "cell_type": "code",
   "execution_count": 31,
   "id": "62206322",
   "metadata": {},
   "outputs": [
    {
     "name": "stdout",
     "output_type": "stream",
     "text": [
      "Akshay 18 25000\n"
     ]
    }
   ],
   "source": [
    "e1.display()"
   ]
  },
  {
   "cell_type": "code",
   "execution_count": 32,
   "id": "540427c0",
   "metadata": {},
   "outputs": [
    {
     "name": "stdout",
     "output_type": "stream",
     "text": [
      "1757232177648\n"
     ]
    }
   ],
   "source": [
    "print(id(e1))"
   ]
  },
  {
   "cell_type": "code",
   "execution_count": 33,
   "id": "a6f499be",
   "metadata": {},
   "outputs": [
    {
     "name": "stdout",
     "output_type": "stream",
     "text": [
      "1757232178896\n"
     ]
    }
   ],
   "source": [
    "e2=Emp('Akshay',20,240000)"
   ]
  },
  {
   "cell_type": "code",
   "execution_count": 34,
   "id": "3ac10437",
   "metadata": {},
   "outputs": [
    {
     "name": "stdout",
     "output_type": "stream",
     "text": [
      "Akshay 20 240000\n"
     ]
    }
   ],
   "source": [
    "e2.display()"
   ]
  },
  {
   "cell_type": "code",
   "execution_count": 43,
   "id": "461e4dbd",
   "metadata": {},
   "outputs": [
    {
     "ename": "AttributeError",
     "evalue": "type object 'Emp' has no attribute 'raise_amount'",
     "output_type": "error",
     "traceback": [
      "\u001b[1;31m---------------------------------------------------------------------------\u001b[0m",
      "\u001b[1;31mAttributeError\u001b[0m                            Traceback (most recent call last)",
      "\u001b[1;32m<ipython-input-43-c27896545d97>\u001b[0m in \u001b[0;36m<module>\u001b[1;34m\u001b[0m\n\u001b[1;32m----> 1\u001b[1;33m \u001b[0me2\u001b[0m\u001b[1;33m.\u001b[0m\u001b[0mincrease_sal\u001b[0m\u001b[1;33m(\u001b[0m\u001b[1;33m)\u001b[0m\u001b[1;33m\u001b[0m\u001b[1;33m\u001b[0m\u001b[0m\n\u001b[0m",
      "\u001b[1;32m<ipython-input-28-f93d1ed82ae8>\u001b[0m in \u001b[0;36mincrease_sal\u001b[1;34m(self)\u001b[0m\n\u001b[0;32m      6\u001b[0m         \u001b[0mself\u001b[0m\u001b[1;33m.\u001b[0m\u001b[0msal\u001b[0m\u001b[1;33m=\u001b[0m\u001b[0msal\u001b[0m\u001b[1;33m\u001b[0m\u001b[1;33m\u001b[0m\u001b[0m\n\u001b[0;32m      7\u001b[0m     \u001b[1;32mdef\u001b[0m \u001b[0mincrease_sal\u001b[0m\u001b[1;33m(\u001b[0m\u001b[0mself\u001b[0m\u001b[1;33m)\u001b[0m\u001b[1;33m:\u001b[0m\u001b[1;33m\u001b[0m\u001b[1;33m\u001b[0m\u001b[0m\n\u001b[1;32m----> 8\u001b[1;33m         \u001b[0mself\u001b[0m\u001b[1;33m.\u001b[0m\u001b[0msal\u001b[0m\u001b[1;33m=\u001b[0m\u001b[0mself\u001b[0m\u001b[1;33m.\u001b[0m\u001b[0msal\u001b[0m\u001b[1;33m+\u001b[0m\u001b[1;33m(\u001b[0m\u001b[0mself\u001b[0m\u001b[1;33m.\u001b[0m\u001b[0msal\u001b[0m\u001b[1;33m*\u001b[0m\u001b[0mEmp\u001b[0m\u001b[1;33m.\u001b[0m\u001b[0mraise_amount\u001b[0m\u001b[1;33m/\u001b[0m\u001b[1;36m100\u001b[0m\u001b[1;33m)\u001b[0m\u001b[1;33m\u001b[0m\u001b[1;33m\u001b[0m\u001b[0m\n\u001b[0m\u001b[0;32m      9\u001b[0m     \u001b[1;32mdef\u001b[0m \u001b[0mdisplay\u001b[0m\u001b[1;33m(\u001b[0m\u001b[0mself\u001b[0m\u001b[1;33m)\u001b[0m\u001b[1;33m:\u001b[0m\u001b[1;33m\u001b[0m\u001b[1;33m\u001b[0m\u001b[0m\n\u001b[0;32m     10\u001b[0m         \u001b[0mprint\u001b[0m\u001b[1;33m(\u001b[0m\u001b[0mself\u001b[0m\u001b[1;33m.\u001b[0m\u001b[0mname\u001b[0m\u001b[1;33m,\u001b[0m\u001b[0mself\u001b[0m\u001b[1;33m.\u001b[0m\u001b[0mage\u001b[0m\u001b[1;33m,\u001b[0m\u001b[0mself\u001b[0m\u001b[1;33m.\u001b[0m\u001b[0msal\u001b[0m\u001b[1;33m)\u001b[0m\u001b[1;33m\u001b[0m\u001b[1;33m\u001b[0m\u001b[0m\n",
      "\u001b[1;31mAttributeError\u001b[0m: type object 'Emp' has no attribute 'raise_amount'"
     ]
    }
   ],
   "source": [
    "e2.increase_sal()"
   ]
  },
  {
   "cell_type": "code",
   "execution_count": null,
   "id": "54936453",
   "metadata": {},
   "outputs": [],
   "source": []
  },
  {
   "cell_type": "code",
   "execution_count": null,
   "id": "f3d7d110",
   "metadata": {},
   "outputs": [],
   "source": []
  }
 ],
 "metadata": {
  "kernelspec": {
   "display_name": "Python 3",
   "language": "python",
   "name": "python3"
  },
  "language_info": {
   "codemirror_mode": {
    "name": "ipython",
    "version": 3
   },
   "file_extension": ".py",
   "mimetype": "text/x-python",
   "name": "python",
   "nbconvert_exporter": "python",
   "pygments_lexer": "ipython3",
   "version": "3.8.8"
  }
 },
 "nbformat": 4,
 "nbformat_minor": 5
}
