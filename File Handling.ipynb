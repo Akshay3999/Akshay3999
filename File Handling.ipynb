{
 "cells": [
  {
   "cell_type": "markdown",
   "id": "a39154f3",
   "metadata": {},
   "source": [
    "* \"r\"   Opens a file for reading only.\n",
    "* \"r+\"  Opens a file for both reading and writing.\n",
    "* \"rb\"  Opens a file for reading only in binary format.\n",
    "* \"rb+\" Opens a file for both reading and writing in binary format.\n",
    "* \"w\"   Opens a file for writing only.\n",
    "* \"a\"   Open for writing. The file is created if it does not exist.\n",
    "* \"a+\"  Open for reading and writing.  The file is created if it does not exist."
   ]
  },
  {
   "cell_type": "code",
   "execution_count": 3,
   "id": "1f69a444",
   "metadata": {},
   "outputs": [],
   "source": [
    "f= open('MyData',\"w\")"
   ]
  },
  {
   "cell_type": "code",
   "execution_count": 4,
   "id": "93a54d2f",
   "metadata": {},
   "outputs": [
    {
     "data": {
      "text/plain": [
       "<_io.TextIOWrapper name='MyData' mode='w' encoding='cp1252'>"
      ]
     },
     "execution_count": 4,
     "metadata": {},
     "output_type": "execute_result"
    }
   ],
   "source": [
    "f"
   ]
  },
  {
   "cell_type": "code",
   "execution_count": 1,
   "id": "27c5761f",
   "metadata": {},
   "outputs": [],
   "source": [
    "f = open(\"text.txt\",\"w\")"
   ]
  },
  {
   "cell_type": "code",
   "execution_count": 2,
   "id": "ad614385",
   "metadata": {},
   "outputs": [
    {
     "data": {
      "text/plain": [
       "'C:\\\\Users\\\\tatea\\\\Data Science\\\\Python rivision 2'"
      ]
     },
     "execution_count": 2,
     "metadata": {},
     "output_type": "execute_result"
    }
   ],
   "source": [
    "pwd"
   ]
  },
  {
   "cell_type": "code",
   "execution_count": 3,
   "id": "355c8360",
   "metadata": {},
   "outputs": [
    {
     "data": {
      "text/plain": [
       "<function dir>"
      ]
     },
     "execution_count": 3,
     "metadata": {},
     "output_type": "execute_result"
    }
   ],
   "source": [
    "dir"
   ]
  },
  {
   "cell_type": "code",
   "execution_count": 4,
   "id": "5740d9ad",
   "metadata": {},
   "outputs": [
    {
     "name": "stdout",
     "output_type": "stream",
     "text": [
      " Volume in drive C is Windows\n",
      " Volume Serial Number is 1EF5-10B4\n",
      "\n",
      " Directory of C:\\Users\\tatea\\Data Science\\Python rivision 2\n",
      "\n",
      "02-03-2022  21:48    <DIR>          .\n",
      "02-03-2022  21:48    <DIR>          ..\n",
      "01-03-2022  13:33    <DIR>          .ipynb_checkpoints\n",
      "27-02-2022  14:57            22,502 Eceptional handling.ipynb\n",
      "02-03-2022  21:48             1,704 File Handling.ipynb\n",
      "01-03-2022  11:18            72,888 Function.ipynb\n",
      "27-02-2022  19:16            18,299 Iterator and generator .ipynb\n",
      "01-03-2022  15:19             7,866 Logging.log.ipynb\n",
      "28-02-2022  20:09             2,192 Strings.py.ipynb\n",
      "02-03-2022  21:48                 0 text.txt\n",
      "               7 File(s)        125,451 bytes\n",
      "               3 Dir(s)  98,004,353,024 bytes free\n"
     ]
    }
   ],
   "source": [
    "!dir"
   ]
  },
  {
   "cell_type": "code",
   "execution_count": 5,
   "id": "06f80c38",
   "metadata": {},
   "outputs": [
    {
     "name": "stderr",
     "output_type": "stream",
     "text": [
      "'ls' is not recognized as an internal or external command,\n",
      "operable program or batch file.\n"
     ]
    }
   ],
   "source": [
    "!ls"
   ]
  },
  {
   "cell_type": "code",
   "execution_count": 6,
   "id": "0fae4d75",
   "metadata": {},
   "outputs": [
    {
     "name": "stdout",
     "output_type": "stream",
     "text": [
      " Volume in drive C is Windows\n",
      " Volume Serial Number is 1EF5-10B4\n",
      "\n",
      " Directory of C:\\Users\\tatea\\Data Science\\Python rivision 2\n",
      "\n",
      "02-03-2022  21:50    <DIR>          .\n",
      "02-03-2022  21:50    <DIR>          ..\n",
      "01-03-2022  13:33    <DIR>          .ipynb_checkpoints\n",
      "27-02-2022  14:57            22,502 Eceptional handling.ipynb\n",
      "02-03-2022  21:50             3,718 File Handling.ipynb\n",
      "01-03-2022  11:18            72,888 Function.ipynb\n",
      "27-02-2022  19:16            18,299 Iterator and generator .ipynb\n",
      "01-03-2022  15:19             7,866 Logging.log.ipynb\n",
      "28-02-2022  20:09             2,192 Strings.py.ipynb\n",
      "02-03-2022  21:48                 0 text.txt\n",
      "               7 File(s)        127,465 bytes\n",
      "               3 Dir(s)  98,004,230,144 bytes free\n"
     ]
    }
   ],
   "source": [
    "%ls"
   ]
  },
  {
   "cell_type": "code",
   "execution_count": 7,
   "id": "9c23aaa5",
   "metadata": {},
   "outputs": [
    {
     "data": {
      "text/plain": [
       "21"
      ]
     },
     "execution_count": 7,
     "metadata": {},
     "output_type": "execute_result"
    }
   ],
   "source": [
    "f.write(\"this is my first file\")"
   ]
  },
  {
   "cell_type": "code",
   "execution_count": 8,
   "id": "8dfeaddc",
   "metadata": {},
   "outputs": [],
   "source": [
    "f.close()"
   ]
  },
  {
   "cell_type": "code",
   "execution_count": 10,
   "id": "6ebfaf48",
   "metadata": {},
   "outputs": [],
   "source": [
    "f = open(\"text.txt\",\"r\")"
   ]
  },
  {
   "cell_type": "code",
   "execution_count": 11,
   "id": "927d4c81",
   "metadata": {},
   "outputs": [
    {
     "ename": "NameError",
     "evalue": "name 'write' is not defined",
     "output_type": "error",
     "traceback": [
      "\u001b[1;31m---------------------------------------------------------------------------\u001b[0m",
      "\u001b[1;31mNameError\u001b[0m                                 Traceback (most recent call last)",
      "\u001b[1;32m<ipython-input-11-a38194233ea2>\u001b[0m in \u001b[0;36m<module>\u001b[1;34m\u001b[0m\n\u001b[1;32m----> 1\u001b[1;33m \u001b[0mf\u001b[0m\u001b[1;33m,\u001b[0m\u001b[0mwrite\u001b[0m\u001b[1;33m(\u001b[0m\u001b[1;34m\"aksjdj\"\u001b[0m\u001b[1;33m)\u001b[0m\u001b[1;33m\u001b[0m\u001b[1;33m\u001b[0m\u001b[0m\n\u001b[0m",
      "\u001b[1;31mNameError\u001b[0m: name 'write' is not defined"
     ]
    }
   ],
   "source": [
    "f,write(\"aksjdj\")"
   ]
  },
  {
   "cell_type": "code",
   "execution_count": 12,
   "id": "97673794",
   "metadata": {},
   "outputs": [],
   "source": [
    "f.close()"
   ]
  },
  {
   "cell_type": "code",
   "execution_count": 13,
   "id": "91748537",
   "metadata": {},
   "outputs": [],
   "source": [
    "f = open(\"test1.txt\",\"w\")"
   ]
  },
  {
   "cell_type": "code",
   "execution_count": 14,
   "id": "4637549d",
   "metadata": {},
   "outputs": [
    {
     "data": {
      "text/plain": [
       "43"
      ]
     },
     "execution_count": 14,
     "metadata": {},
     "output_type": "execute_result"
    }
   ],
   "source": [
    "f.write(\"Akshay is a hard working man in the class.\\n\")"
   ]
  },
  {
   "cell_type": "code",
   "execution_count": 15,
   "id": "a70a1065",
   "metadata": {},
   "outputs": [],
   "source": [
    "f.close()"
   ]
  },
  {
   "cell_type": "code",
   "execution_count": 1,
   "id": "fa9206b9",
   "metadata": {},
   "outputs": [],
   "source": [
    "f = open(\"text2.txt\",\"w\")"
   ]
  },
  {
   "cell_type": "code",
   "execution_count": 7,
   "id": "37ba1e81",
   "metadata": {},
   "outputs": [
    {
     "name": "stdout",
     "output_type": "stream",
     "text": [
      "Overwriting text2.txt\n"
     ]
    }
   ],
   "source": [
    "%%writefile text2.txt\n",
    "Hi i am akshay from velapur and what about you.\n",
    "Mangi is the best sheli in all \n",
    "Also"
   ]
  },
  {
   "cell_type": "code",
   "execution_count": 5,
   "id": "475c719a",
   "metadata": {},
   "outputs": [
    {
     "name": "stdout",
     "output_type": "stream",
     "text": [
      " Volume in drive C is Windows\n",
      " Volume Serial Number is 1EF5-10B4\n",
      "\n",
      " Directory of C:\\Users\\tatea\\Data Science\\Python rivision 2\n",
      "\n",
      "03-03-2022  13:07    <DIR>          .\n",
      "03-03-2022  13:07    <DIR>          ..\n",
      "01-03-2022  13:33    <DIR>          .ipynb_checkpoints\n",
      "27-02-2022  14:57            22,502 Eceptional handling.ipynb\n",
      "03-03-2022  13:07             8,243 File Handling.ipynb\n",
      "01-03-2022  11:18            72,888 Function.ipynb\n",
      "27-02-2022  19:16            18,299 Iterator and generator .ipynb\n",
      "01-03-2022  15:19             7,866 Logging.log.ipynb\n",
      "28-02-2022  20:09             2,192 Strings.py.ipynb\n",
      "02-03-2022  22:01                44 test1.txt\n",
      "02-03-2022  21:53                21 text.txt\n",
      "03-03-2022  13:07                86 text2.txt\n",
      "               9 File(s)        132,141 bytes\n",
      "               3 Dir(s)  97,876,533,248 bytes free\n"
     ]
    }
   ],
   "source": [
    "%ls"
   ]
  },
  {
   "cell_type": "code",
   "execution_count": 6,
   "id": "9d28bb92",
   "metadata": {},
   "outputs": [],
   "source": [
    "f.close()"
   ]
  },
  {
   "cell_type": "code",
   "execution_count": 9,
   "id": "3535818e",
   "metadata": {},
   "outputs": [],
   "source": [
    "f = open(\"text2.txt\")"
   ]
  },
  {
   "cell_type": "code",
   "execution_count": 10,
   "id": "4bad5547",
   "metadata": {},
   "outputs": [
    {
     "data": {
      "text/plain": [
       "'Hi i am akshay from velapur and what about you.\\nMangi is the best sheli in all \\nAlso\\n'"
      ]
     },
     "execution_count": 10,
     "metadata": {},
     "output_type": "execute_result"
    }
   ],
   "source": [
    "f.read()"
   ]
  },
  {
   "cell_type": "code",
   "execution_count": 11,
   "id": "f176f125",
   "metadata": {},
   "outputs": [
    {
     "name": "stdout",
     "output_type": "stream",
     "text": [
      "Overwriting text.txt\n"
     ]
    }
   ],
   "source": [
    "%%writefile text.txt\n",
    "Akxjs wkjxnkjc hje ,aksieuee kahbcygfr wgfbbc  wheeh e gdu3dh"
   ]
  },
  {
   "cell_type": "code",
   "execution_count": 12,
   "id": "636bb866",
   "metadata": {},
   "outputs": [],
   "source": [
    "f.close()"
   ]
  },
  {
   "cell_type": "code",
   "execution_count": 13,
   "id": "7ea78649",
   "metadata": {},
   "outputs": [],
   "source": [
    "f = open(\"text.txt\")"
   ]
  },
  {
   "cell_type": "code",
   "execution_count": 14,
   "id": "981726c3",
   "metadata": {},
   "outputs": [
    {
     "data": {
      "text/plain": [
       "'Akxjs wkjxnkjc hje ,aksieuee kahbcygfr wgfbbc  wheeh e gdu3dh\\n'"
      ]
     },
     "execution_count": 14,
     "metadata": {},
     "output_type": "execute_result"
    }
   ],
   "source": [
    "f.read()"
   ]
  },
  {
   "cell_type": "code",
   "execution_count": 15,
   "id": "c219bde3",
   "metadata": {},
   "outputs": [
    {
     "data": {
      "text/plain": [
       "''"
      ]
     },
     "execution_count": 15,
     "metadata": {},
     "output_type": "execute_result"
    }
   ],
   "source": [
    "f.read()"
   ]
  },
  {
   "cell_type": "code",
   "execution_count": 16,
   "id": "94ffed1f",
   "metadata": {},
   "outputs": [
    {
     "data": {
      "text/plain": [
       "5"
      ]
     },
     "execution_count": 16,
     "metadata": {},
     "output_type": "execute_result"
    }
   ],
   "source": [
    "f.seek(5)"
   ]
  },
  {
   "cell_type": "code",
   "execution_count": 17,
   "id": "70cb0f50",
   "metadata": {},
   "outputs": [
    {
     "data": {
      "text/plain": [
       "' wkjxnkjc hje ,aksieuee kahbcygfr wgfbbc  wheeh e gdu3dh\\n'"
      ]
     },
     "execution_count": 17,
     "metadata": {},
     "output_type": "execute_result"
    }
   ],
   "source": [
    "f.read()"
   ]
  },
  {
   "cell_type": "code",
   "execution_count": 18,
   "id": "29337290",
   "metadata": {},
   "outputs": [
    {
     "data": {
      "text/plain": [
       "0"
      ]
     },
     "execution_count": 18,
     "metadata": {},
     "output_type": "execute_result"
    }
   ],
   "source": [
    "f.seek(0)"
   ]
  },
  {
   "cell_type": "code",
   "execution_count": 19,
   "id": "6aa8d784",
   "metadata": {},
   "outputs": [
    {
     "data": {
      "text/plain": [
       "'Akxjs wkjxnkjc hje ,aksieuee kahbcygfr wgfbbc  wheeh e gdu3dh\\n'"
      ]
     },
     "execution_count": 19,
     "metadata": {},
     "output_type": "execute_result"
    }
   ],
   "source": [
    "f.read()"
   ]
  },
  {
   "cell_type": "code",
   "execution_count": 20,
   "id": "56afba5f",
   "metadata": {},
   "outputs": [
    {
     "data": {
      "text/plain": [
       "63"
      ]
     },
     "execution_count": 20,
     "metadata": {},
     "output_type": "execute_result"
    }
   ],
   "source": [
    "f.tell()"
   ]
  },
  {
   "cell_type": "code",
   "execution_count": 21,
   "id": "5723276c",
   "metadata": {},
   "outputs": [
    {
     "data": {
      "text/plain": [
       "5"
      ]
     },
     "execution_count": 21,
     "metadata": {},
     "output_type": "execute_result"
    }
   ],
   "source": [
    "f.seek(5)"
   ]
  },
  {
   "cell_type": "code",
   "execution_count": 22,
   "id": "501738b7",
   "metadata": {},
   "outputs": [
    {
     "data": {
      "text/plain": [
       "5"
      ]
     },
     "execution_count": 22,
     "metadata": {},
     "output_type": "execute_result"
    }
   ],
   "source": [
    "f.tell()"
   ]
  },
  {
   "cell_type": "code",
   "execution_count": 23,
   "id": "b33c00d3",
   "metadata": {},
   "outputs": [
    {
     "data": {
      "text/plain": [
       "61"
      ]
     },
     "execution_count": 23,
     "metadata": {},
     "output_type": "execute_result"
    }
   ],
   "source": [
    "f.seek(61)"
   ]
  },
  {
   "cell_type": "code",
   "execution_count": 24,
   "id": "8b522981",
   "metadata": {},
   "outputs": [
    {
     "data": {
      "text/plain": [
       "61"
      ]
     },
     "execution_count": 24,
     "metadata": {},
     "output_type": "execute_result"
    }
   ],
   "source": [
    "f.tell()"
   ]
  },
  {
   "cell_type": "code",
   "execution_count": 25,
   "id": "0a6cd52a",
   "metadata": {},
   "outputs": [],
   "source": [
    "f.close()"
   ]
  },
  {
   "cell_type": "code",
   "execution_count": 26,
   "id": "2ed6e466",
   "metadata": {},
   "outputs": [],
   "source": [
    "f = open(\"text2.txt\")"
   ]
  },
  {
   "cell_type": "code",
   "execution_count": 27,
   "id": "9d4b166c",
   "metadata": {},
   "outputs": [
    {
     "data": {
      "text/plain": [
       "0"
      ]
     },
     "execution_count": 27,
     "metadata": {},
     "output_type": "execute_result"
    }
   ],
   "source": [
    "f.tell()"
   ]
  },
  {
   "cell_type": "code",
   "execution_count": 28,
   "id": "5b5dd9ec",
   "metadata": {},
   "outputs": [
    {
     "data": {
      "text/plain": [
       "'Hi i am akshay from velapur and what about you.\\n'"
      ]
     },
     "execution_count": 28,
     "metadata": {},
     "output_type": "execute_result"
    }
   ],
   "source": [
    "f.readline()"
   ]
  },
  {
   "cell_type": "code",
   "execution_count": 29,
   "id": "292c0a42",
   "metadata": {},
   "outputs": [
    {
     "data": {
      "text/plain": [
       "'Mangi is the best sheli in all \\n'"
      ]
     },
     "execution_count": 29,
     "metadata": {},
     "output_type": "execute_result"
    }
   ],
   "source": [
    "f.readline()"
   ]
  },
  {
   "cell_type": "code",
   "execution_count": 30,
   "id": "e756544e",
   "metadata": {},
   "outputs": [
    {
     "data": {
      "text/plain": [
       "'Also\\n'"
      ]
     },
     "execution_count": 30,
     "metadata": {},
     "output_type": "execute_result"
    }
   ],
   "source": [
    "f.readline()"
   ]
  },
  {
   "cell_type": "code",
   "execution_count": 33,
   "id": "7facb05d",
   "metadata": {},
   "outputs": [
    {
     "name": "stdout",
     "output_type": "stream",
     "text": [
      "Overwriting text2.txt\n"
     ]
    }
   ],
   "source": [
    "%%writefile text2.txt\n",
    "hgjfgfytdj yufufy yk"
   ]
  },
  {
   "cell_type": "code",
   "execution_count": 34,
   "id": "972c1b65",
   "metadata": {},
   "outputs": [
    {
     "data": {
      "text/plain": [
       "''"
      ]
     },
     "execution_count": 34,
     "metadata": {},
     "output_type": "execute_result"
    }
   ],
   "source": [
    "f.readline()"
   ]
  },
  {
   "cell_type": "code",
   "execution_count": 35,
   "id": "0ce4e446",
   "metadata": {},
   "outputs": [],
   "source": [
    "f.close()"
   ]
  },
  {
   "cell_type": "code",
   "execution_count": 4,
   "id": "7afd659c",
   "metadata": {},
   "outputs": [],
   "source": [
    "f = open(\"google.txt\",\"w\")"
   ]
  },
  {
   "cell_type": "code",
   "execution_count": 5,
   "id": "7809a00d",
   "metadata": {},
   "outputs": [
    {
     "data": {
      "text/plain": [
       "232"
      ]
     },
     "execution_count": 5,
     "metadata": {},
     "output_type": "execute_result"
    }
   ],
   "source": [
    "f.write('''Russia Ukraine Conflict Live News, Russia Ukraine War Crisis News Today, 3 Mar: The UN General Assembly voted at an emergency session to demand an immediate halt to Moscow's attack on Ukraine and the withdrawal of all Russian troops''')"
   ]
  },
  {
   "cell_type": "code",
   "execution_count": 6,
   "id": "b99270d2",
   "metadata": {},
   "outputs": [],
   "source": [
    "f.close()"
   ]
  },
  {
   "cell_type": "code",
   "execution_count": 10,
   "id": "f5b55230",
   "metadata": {},
   "outputs": [],
   "source": [
    "f = open(\"google.txt\",'r+')"
   ]
  },
  {
   "cell_type": "code",
   "execution_count": 11,
   "id": "c97fc9c5",
   "metadata": {},
   "outputs": [
    {
     "data": {
      "text/plain": [
       "\"Russia Ukraine Conflict Live News, Russia Ukraine War Crisis News Today, 3 Mar: The UN General Assembly voted at an emergency session to demand an immediate halt to Moscow's attack on Ukraine and the withdrawal of all Russian troops\""
      ]
     },
     "execution_count": 11,
     "metadata": {},
     "output_type": "execute_result"
    }
   ],
   "source": [
    "f.read()"
   ]
  },
  {
   "cell_type": "code",
   "execution_count": 12,
   "id": "0d73e137",
   "metadata": {},
   "outputs": [
    {
     "data": {
      "text/plain": [
       "0"
      ]
     },
     "execution_count": 12,
     "metadata": {},
     "output_type": "execute_result"
    }
   ],
   "source": [
    "f.seek(0)"
   ]
  },
  {
   "cell_type": "code",
   "execution_count": 13,
   "id": "1dcea7e4",
   "metadata": {},
   "outputs": [
    {
     "data": {
      "text/plain": [
       "\"Russia Ukraine Conflict Live News, Russia Ukraine War Crisis News Today, 3 Mar: The UN General Assembly voted at an emergency session to demand an immediate halt to Moscow's attack on Ukraine and the withdrawal of all Russian troops\""
      ]
     },
     "execution_count": 13,
     "metadata": {},
     "output_type": "execute_result"
    }
   ],
   "source": [
    "f.readline()"
   ]
  },
  {
   "cell_type": "code",
   "execution_count": 15,
   "id": "db04e859",
   "metadata": {},
   "outputs": [
    {
     "data": {
      "text/plain": [
       "232"
      ]
     },
     "execution_count": 15,
     "metadata": {},
     "output_type": "execute_result"
    }
   ],
   "source": [
    "f.tell()"
   ]
  },
  {
   "cell_type": "code",
   "execution_count": 16,
   "id": "3c25f8d9",
   "metadata": {},
   "outputs": [
    {
     "data": {
      "text/plain": [
       "''"
      ]
     },
     "execution_count": 16,
     "metadata": {},
     "output_type": "execute_result"
    }
   ],
   "source": [
    "f.readline()"
   ]
  },
  {
   "cell_type": "code",
   "execution_count": 17,
   "id": "34f8b8b3",
   "metadata": {},
   "outputs": [],
   "source": [
    "f.close()"
   ]
  },
  {
   "cell_type": "code",
   "execution_count": 20,
   "id": "e53e35bc",
   "metadata": {},
   "outputs": [
    {
     "name": "stdout",
     "output_type": "stream",
     "text": [
      "Russia Ukraine Conflict Live News, Russia Ukraine War Crisis News Today, 3 Mar: The UN General Assembly voted at an emergency session to demand an immediate halt to Moscow's attack on Ukraine and the withdrawal of all Russian troops "
     ]
    }
   ],
   "source": [
    "f = open(\"google.txt\", \"r+\")\n",
    "for line in f:\n",
    "    print(line, end = \" \")"
   ]
  },
  {
   "cell_type": "code",
   "execution_count": 21,
   "id": "c38fbfaa",
   "metadata": {},
   "outputs": [
    {
     "data": {
      "text/plain": [
       "36"
      ]
     },
     "execution_count": 21,
     "metadata": {},
     "output_type": "execute_result"
    }
   ],
   "source": [
    "f.write(\"sdc sdcbhjajte ate skdcta ete atate \")"
   ]
  },
  {
   "cell_type": "code",
   "execution_count": 22,
   "id": "5247d99e",
   "metadata": {},
   "outputs": [],
   "source": [
    "f.close()"
   ]
  },
  {
   "cell_type": "code",
   "execution_count": 24,
   "id": "ae614cf8",
   "metadata": {},
   "outputs": [],
   "source": [
    "f = open(\"google.txt\", 'r+')"
   ]
  },
  {
   "cell_type": "code",
   "execution_count": 25,
   "id": "c626c6b5",
   "metadata": {},
   "outputs": [
    {
     "data": {
      "text/plain": [
       "10"
      ]
     },
     "execution_count": 25,
     "metadata": {},
     "output_type": "execute_result"
    }
   ],
   "source": [
    "f.seek(10)"
   ]
  },
  {
   "cell_type": "code",
   "execution_count": 27,
   "id": "1368e2c5",
   "metadata": {},
   "outputs": [
    {
     "data": {
      "text/plain": [
       "258"
      ]
     },
     "execution_count": 27,
     "metadata": {},
     "output_type": "execute_result"
    }
   ],
   "source": [
    "len(f.readline())"
   ]
  },
  {
   "cell_type": "code",
   "execution_count": 37,
   "id": "5ad823dd",
   "metadata": {},
   "outputs": [
    {
     "data": {
      "text/plain": [
       "0"
      ]
     },
     "execution_count": 37,
     "metadata": {},
     "output_type": "execute_result"
    }
   ],
   "source": [
    "f.seek(0)"
   ]
  },
  {
   "cell_type": "code",
   "execution_count": 38,
   "id": "6959be3a",
   "metadata": {},
   "outputs": [
    {
     "data": {
      "text/plain": [
       "\"Russia Ukraine Conflict Live News, Russia Ukraine War Crisis News Today, 3 Mar: The UN General Assembly voted at an emergency session to demand an immediate halt to Moscow's attack on Ukraine and the withdrawal of all Russian troopssdc sdcbhjajte ate skdcta ete atate \""
      ]
     },
     "execution_count": 38,
     "metadata": {},
     "output_type": "execute_result"
    }
   ],
   "source": [
    "f.readline()"
   ]
  },
  {
   "cell_type": "code",
   "execution_count": 42,
   "id": "59bb19de",
   "metadata": {},
   "outputs": [
    {
     "data": {
      "text/plain": [
       "0"
      ]
     },
     "execution_count": 42,
     "metadata": {},
     "output_type": "execute_result"
    }
   ],
   "source": [
    "f.seek(0)"
   ]
  },
  {
   "cell_type": "code",
   "execution_count": 43,
   "id": "bbf0ca4d",
   "metadata": {},
   "outputs": [],
   "source": [
    "l = f.readline()"
   ]
  },
  {
   "cell_type": "code",
   "execution_count": 51,
   "id": "631c8025",
   "metadata": {},
   "outputs": [
    {
     "data": {
      "text/plain": [
       "\"Russia Ukraine Conflict Live News, Russia Ukraine War Crisis News Today, 3 Mar: The UN General Assembly voted at an emergency session to demand an immediate halt to Moscow's attack on Ukraine and the withdrawal of all Russian troopssdc sdcbhjajte ate skdcta ete atate \""
      ]
     },
     "execution_count": 51,
     "metadata": {},
     "output_type": "execute_result"
    }
   ],
   "source": [
    "l"
   ]
  },
  {
   "cell_type": "code",
   "execution_count": 52,
   "id": "c73ec719",
   "metadata": {},
   "outputs": [
    {
     "data": {
      "text/plain": [
       "0"
      ]
     },
     "execution_count": 52,
     "metadata": {},
     "output_type": "execute_result"
    }
   ],
   "source": [
    "f.seek(0)"
   ]
  },
  {
   "cell_type": "code",
   "execution_count": 57,
   "id": "95abaad8",
   "metadata": {},
   "outputs": [
    {
     "data": {
      "text/plain": [
       "['Russia',\n",
       " 'Ukraine',\n",
       " 'Conflict',\n",
       " 'Live',\n",
       " 'News,',\n",
       " 'Russia',\n",
       " 'Ukraine',\n",
       " 'War',\n",
       " 'Crisis',\n",
       " 'News',\n",
       " 'Today,',\n",
       " '3',\n",
       " 'Mar:',\n",
       " 'The',\n",
       " 'UN',\n",
       " 'General',\n",
       " 'Assembly',\n",
       " 'voted',\n",
       " 'at',\n",
       " 'an',\n",
       " 'emergency',\n",
       " 'session',\n",
       " 'to',\n",
       " 'demand',\n",
       " 'an',\n",
       " 'immediate',\n",
       " 'halt',\n",
       " 'to',\n",
       " \"Moscow's\",\n",
       " 'attack',\n",
       " 'on',\n",
       " 'Ukraine',\n",
       " 'and',\n",
       " 'the',\n",
       " 'withdrawal',\n",
       " 'of',\n",
       " 'all',\n",
       " 'Russian',\n",
       " 'troopssdc',\n",
       " 'sdcbhjajte',\n",
       " 'ate',\n",
       " 'skdcta',\n",
       " 'ete',\n",
       " 'atate']"
      ]
     },
     "execution_count": 57,
     "metadata": {},
     "output_type": "execute_result"
    }
   ],
   "source": [
    "l.split()"
   ]
  },
  {
   "cell_type": "code",
   "execution_count": 56,
   "id": "5c15938d",
   "metadata": {},
   "outputs": [
    {
     "name": "stdout",
     "output_type": "stream",
     "text": [
      "Russia\n",
      "Ukraine\n",
      "Conflict\n",
      "Live\n",
      "News,\n",
      "Russia\n",
      "Ukraine\n",
      "War\n",
      "Crisis\n",
      "News\n",
      "Today,\n",
      "3\n",
      "Mar:\n",
      "The\n",
      "UN\n",
      "General\n",
      "Assembly\n",
      "voted\n",
      "at\n",
      "an\n",
      "emergency\n",
      "session\n",
      "to\n",
      "demand\n",
      "an\n",
      "immediate\n",
      "halt\n",
      "to\n",
      "Moscow's\n",
      "attack\n",
      "on\n",
      "Ukraine\n",
      "and\n",
      "the\n",
      "withdrawal\n",
      "of\n",
      "all\n",
      "Russian\n",
      "troopssdc\n",
      "sdcbhjajte\n",
      "ate\n",
      "skdcta\n",
      "ete\n",
      "atate\n"
     ]
    }
   ],
   "source": [
    "l1 =[]\n",
    "for i in l.split():\n",
    "    print(i)"
   ]
  },
  {
   "cell_type": "code",
   "execution_count": 58,
   "id": "7d5c7cb8",
   "metadata": {},
   "outputs": [],
   "source": [
    "f.close()"
   ]
  },
  {
   "cell_type": "code",
   "execution_count": 59,
   "id": "aab27cb0",
   "metadata": {},
   "outputs": [
    {
     "data": {
      "text/plain": [
       "'google.txt'"
      ]
     },
     "execution_count": 59,
     "metadata": {},
     "output_type": "execute_result"
    }
   ],
   "source": [
    "f = open('google.txt', 'r+')\n",
    "f.name"
   ]
  },
  {
   "cell_type": "code",
   "execution_count": 60,
   "id": "8b5efc0f",
   "metadata": {},
   "outputs": [],
   "source": [
    "l = [\"this is line no1\", \"this is line no 2\", \"this is line no3\", \"this is line no4\"]"
   ]
  },
  {
   "cell_type": "code",
   "execution_count": 61,
   "id": "8b578322",
   "metadata": {},
   "outputs": [
    {
     "data": {
      "text/plain": [
       "17"
      ]
     },
     "execution_count": 61,
     "metadata": {},
     "output_type": "execute_result"
    }
   ],
   "source": [
    "f.write(\"this is line no 5\")"
   ]
  },
  {
   "cell_type": "code",
   "execution_count": 63,
   "id": "5eff1799",
   "metadata": {},
   "outputs": [],
   "source": [
    "f.writelines(l)"
   ]
  },
  {
   "cell_type": "code",
   "execution_count": 64,
   "id": "97d91494",
   "metadata": {},
   "outputs": [],
   "source": [
    "f.close()"
   ]
  },
  {
   "cell_type": "code",
   "execution_count": 70,
   "id": "fba1f0d7",
   "metadata": {},
   "outputs": [
    {
     "data": {
      "text/plain": [
       "5"
      ]
     },
     "execution_count": 70,
     "metadata": {},
     "output_type": "execute_result"
    }
   ],
   "source": [
    "f = open('google.txt', 'r+')\n",
    "f.fileno()"
   ]
  },
  {
   "cell_type": "code",
   "execution_count": 71,
   "id": "a068e5a6",
   "metadata": {},
   "outputs": [
    {
     "name": "stdout",
     "output_type": "stream",
     "text": [
      " Volume in drive C is Windows\n",
      " Volume Serial Number is 1EF5-10B4\n",
      "\n",
      " Directory of C:\\Users\\tatea\\Data Science\\Python rivision 2\n",
      "\n",
      "03-03-2022  14:43    <DIR>          .\n",
      "03-03-2022  14:43    <DIR>          ..\n",
      "01-03-2022  13:33    <DIR>          .ipynb_checkpoints\n",
      "27-02-2022  14:57            22,502 Eceptional handling.ipynb\n",
      "03-03-2022  14:43            28,728 File Handling.ipynb\n",
      "01-03-2022  11:18            72,888 Function.ipynb\n",
      "03-03-2022  14:41               268 google.txt\n",
      "27-02-2022  19:16            18,299 Iterator and generator .ipynb\n",
      "01-03-2022  15:19             7,866 Logging.log.ipynb\n",
      "28-02-2022  20:09             2,192 Strings.py.ipynb\n",
      "               7 File(s)        152,743 bytes\n",
      "               3 Dir(s)  97,914,916,864 bytes free\n"
     ]
    }
   ],
   "source": [
    "%ls"
   ]
  },
  {
   "cell_type": "code",
   "execution_count": 72,
   "id": "e0e5ccdd",
   "metadata": {},
   "outputs": [],
   "source": [
    "f.close()"
   ]
  },
  {
   "cell_type": "code",
   "execution_count": 2,
   "id": "27066bc9",
   "metadata": {},
   "outputs": [],
   "source": [
    "import os"
   ]
  },
  {
   "cell_type": "code",
   "execution_count": 3,
   "id": "a0f9700d",
   "metadata": {},
   "outputs": [],
   "source": [
    "os.remove('google.txt')"
   ]
  },
  {
   "cell_type": "code",
   "execution_count": 4,
   "id": "4bec7753",
   "metadata": {},
   "outputs": [
    {
     "name": "stdout",
     "output_type": "stream",
     "text": [
      " Volume in drive C is Windows\n",
      " Volume Serial Number is 1EF5-10B4\n",
      "\n",
      " Directory of C:\\Users\\tatea\\Data Science\\Python rivision 2\n",
      "\n",
      "03-03-2022  14:52    <DIR>          .\n",
      "03-03-2022  14:52    <DIR>          ..\n",
      "01-03-2022  13:33    <DIR>          .ipynb_checkpoints\n",
      "27-02-2022  14:57            22,502 Eceptional handling.ipynb\n",
      "03-03-2022  14:51            33,566 File Handling.ipynb\n",
      "01-03-2022  11:18            72,888 Function.ipynb\n",
      "27-02-2022  19:16            18,299 Iterator and generator .ipynb\n",
      "01-03-2022  15:19             7,866 Logging.log.ipynb\n",
      "28-02-2022  20:09             2,192 Strings.py.ipynb\n",
      "               6 File(s)        157,313 bytes\n",
      "               3 Dir(s)  97,911,832,576 bytes free\n"
     ]
    }
   ],
   "source": [
    "%ls"
   ]
  },
  {
   "cell_type": "code",
   "execution_count": 5,
   "id": "641a2557",
   "metadata": {},
   "outputs": [
    {
     "ename": "FileNotFoundError",
     "evalue": "[WinError 2] The system cannot find the file specified: 'google.txt'",
     "output_type": "error",
     "traceback": [
      "\u001b[1;31m---------------------------------------------------------------------------\u001b[0m",
      "\u001b[1;31mFileNotFoundError\u001b[0m                         Traceback (most recent call last)",
      "\u001b[1;32m<ipython-input-5-68727aa7b741>\u001b[0m in \u001b[0;36m<module>\u001b[1;34m\u001b[0m\n\u001b[1;32m----> 1\u001b[1;33m \u001b[0mos\u001b[0m\u001b[1;33m.\u001b[0m\u001b[0mremove\u001b[0m\u001b[1;33m(\u001b[0m\u001b[1;34m'google.txt'\u001b[0m\u001b[1;33m)\u001b[0m\u001b[1;33m\u001b[0m\u001b[1;33m\u001b[0m\u001b[0m\n\u001b[0m",
      "\u001b[1;31mFileNotFoundError\u001b[0m: [WinError 2] The system cannot find the file specified: 'google.txt'"
     ]
    }
   ],
   "source": [
    "os.remove('google.txt')"
   ]
  },
  {
   "cell_type": "code",
   "execution_count": 4,
   "id": "d5acd39c",
   "metadata": {},
   "outputs": [],
   "source": [
    "f = open('googl1.txt','w')"
   ]
  },
  {
   "cell_type": "code",
   "execution_count": 10,
   "id": "9e744fb0",
   "metadata": {},
   "outputs": [
    {
     "ename": "FileNotFoundError",
     "evalue": "[WinError 2] The system cannot find the file specified: 'google1.txt'",
     "output_type": "error",
     "traceback": [
      "\u001b[1;31m---------------------------------------------------------------------------\u001b[0m",
      "\u001b[1;31mFileNotFoundError\u001b[0m                         Traceback (most recent call last)",
      "\u001b[1;32m<ipython-input-10-5018388c5083>\u001b[0m in \u001b[0;36m<module>\u001b[1;34m\u001b[0m\n\u001b[1;32m----> 1\u001b[1;33m \u001b[0mos\u001b[0m\u001b[1;33m.\u001b[0m\u001b[0mremove\u001b[0m\u001b[1;33m(\u001b[0m\u001b[1;34m'google1.txt'\u001b[0m\u001b[1;33m)\u001b[0m\u001b[1;33m\u001b[0m\u001b[1;33m\u001b[0m\u001b[0m\n\u001b[0m",
      "\u001b[1;31mFileNotFoundError\u001b[0m: [WinError 2] The system cannot find the file specified: 'google1.txt'"
     ]
    }
   ],
   "source": [
    "os.remove('google1.txt')"
   ]
  },
  {
   "cell_type": "code",
   "execution_count": 11,
   "id": "2c864c41",
   "metadata": {},
   "outputs": [
    {
     "name": "stdout",
     "output_type": "stream",
     "text": [
      " Volume in drive C is Windows\n",
      " Volume Serial Number is 1EF5-10B4\n",
      "\n",
      " Directory of C:\\Users\\tatea\\Data Science\\Python rivision 2\n",
      "\n",
      "03-03-2022  15:03    <DIR>          .\n",
      "03-03-2022  15:03    <DIR>          ..\n",
      "01-03-2022  13:33    <DIR>          .ipynb_checkpoints\n",
      "27-02-2022  14:57            22,502 Eceptional handling.ipynb\n",
      "03-03-2022  15:03            33,697 File Handling.ipynb\n",
      "01-03-2022  11:18            72,888 Function.ipynb\n",
      "03-03-2022  14:58                 0 googl.txt\n",
      "03-03-2022  15:02                 0 googl1.txt\n",
      "27-02-2022  19:16            18,299 Iterator and generator .ipynb\n",
      "01-03-2022  15:19             7,866 Logging.log.ipynb\n",
      "28-02-2022  20:09             2,192 Strings.py.ipynb\n",
      "               8 File(s)        157,444 bytes\n",
      "               3 Dir(s)  97,922,416,640 bytes free\n"
     ]
    }
   ],
   "source": [
    "%ls"
   ]
  },
  {
   "cell_type": "code",
   "execution_count": 12,
   "id": "eee425bf",
   "metadata": {},
   "outputs": [
    {
     "data": {
      "text/plain": [
       "'C:\\\\Users\\\\tatea\\\\Data Science\\\\Python rivision 2'"
      ]
     },
     "execution_count": 12,
     "metadata": {},
     "output_type": "execute_result"
    }
   ],
   "source": [
    "os.getcwd()"
   ]
  },
  {
   "cell_type": "code",
   "execution_count": 13,
   "id": "91f9e407",
   "metadata": {},
   "outputs": [
    {
     "data": {
      "text/plain": [
       "['.ipynb_checkpoints',\n",
       " 'Eceptional handling.ipynb',\n",
       " 'File Handling.ipynb',\n",
       " 'Function.ipynb',\n",
       " 'googl.txt',\n",
       " 'googl1.txt',\n",
       " 'Iterator and generator .ipynb',\n",
       " 'Logging.log.ipynb',\n",
       " 'Strings.py.ipynb']"
      ]
     },
     "execution_count": 13,
     "metadata": {},
     "output_type": "execute_result"
    }
   ],
   "source": [
    "os.listdir()"
   ]
  },
  {
   "cell_type": "code",
   "execution_count": null,
   "id": "fb776c3b",
   "metadata": {},
   "outputs": [],
   "source": []
  }
 ],
 "metadata": {
  "kernelspec": {
   "display_name": "Python 3",
   "language": "python",
   "name": "python3"
  },
  "language_info": {
   "codemirror_mode": {
    "name": "ipython",
    "version": 3
   },
   "file_extension": ".py",
   "mimetype": "text/x-python",
   "name": "python",
   "nbconvert_exporter": "python",
   "pygments_lexer": "ipython3",
   "version": "3.8.8"
  }
 },
 "nbformat": 4,
 "nbformat_minor": 5
}
