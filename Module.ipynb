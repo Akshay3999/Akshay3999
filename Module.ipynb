{
 "cells": [
  {
   "cell_type": "code",
   "execution_count": 1,
   "id": "86b6e933",
   "metadata": {},
   "outputs": [],
   "source": [
    "import os"
   ]
  },
  {
   "cell_type": "code",
   "execution_count": 2,
   "id": "2585bc53",
   "metadata": {},
   "outputs": [],
   "source": [
    "def test(a,b):\n",
    "    return a+b"
   ]
  },
  {
   "cell_type": "code",
   "execution_count": 3,
   "id": "d1da2260",
   "metadata": {},
   "outputs": [
    {
     "name": "stdout",
     "output_type": "stream",
     "text": [
      " Volume in drive C is Windows\n",
      " Volume Serial Number is 1EF5-10B4\n",
      "\n",
      " Directory of C:\\Users\\tatea\\Data Science\\Python rivision 2\n",
      "\n",
      "30-03-2022  20:47    <DIR>          .\n",
      "26-02-2022  14:43    <DIR>          ..\n",
      "29-03-2022  14:21    <DIR>          .ipynb_checkpoints\n",
      "30-03-2022  20:46    <DIR>          __pycache__\n",
      "15-03-2022  11:46                15 demo_file\n",
      "13-03-2022  15:49            22,637 Eceptional handling.ipynb\n",
      "24-03-2022  14:51            47,009 Exception Handling 2.ipynb\n",
      "03-03-2022  15:04            35,926 File Handling.ipynb\n",
      "17-03-2022  17:11            72,888 Function.ipynb\n",
      "06-03-2022  22:03            18,299 Iterator and generator .ipynb\n",
      "01-03-2022  15:19             7,866 Logging.log.ipynb\n",
      "30-03-2022  20:47             6,394 Module.ipynb\n",
      "28-02-2022  20:09             2,192 Strings.py.ipynb\n",
      "30-03-2022  13:20                 0 test1.py\n",
      "30-03-2022  20:45               155 test2.py\n",
      "              11 File(s)        213,381 bytes\n",
      "               4 Dir(s)  75,198,021,632 bytes free\n"
     ]
    }
   ],
   "source": [
    "ls"
   ]
  },
  {
   "cell_type": "code",
   "execution_count": 4,
   "id": "46c93fc7",
   "metadata": {},
   "outputs": [
    {
     "data": {
      "text/plain": [
       "<_io.TextIOWrapper name='test2.py' mode='w' encoding='cp1252'>"
      ]
     },
     "execution_count": 4,
     "metadata": {},
     "output_type": "execute_result"
    }
   ],
   "source": [
    "open(\"test2.py\",\"w\")"
   ]
  },
  {
   "cell_type": "code",
   "execution_count": 5,
   "id": "bbfece3c",
   "metadata": {},
   "outputs": [
    {
     "name": "stdout",
     "output_type": "stream",
     "text": [
      " Volume in drive C is Windows\n",
      " Volume Serial Number is 1EF5-10B4\n",
      "\n",
      " Directory of C:\\Users\\tatea\\Data Science\\Python rivision 2\n",
      "\n",
      "30-03-2022  20:47    <DIR>          .\n",
      "26-02-2022  14:43    <DIR>          ..\n",
      "29-03-2022  14:21    <DIR>          .ipynb_checkpoints\n",
      "30-03-2022  20:46    <DIR>          __pycache__\n",
      "15-03-2022  11:46                15 demo_file\n",
      "13-03-2022  15:49            22,637 Eceptional handling.ipynb\n",
      "24-03-2022  14:51            47,009 Exception Handling 2.ipynb\n",
      "03-03-2022  15:04            35,926 File Handling.ipynb\n",
      "17-03-2022  17:11            72,888 Function.ipynb\n",
      "06-03-2022  22:03            18,299 Iterator and generator .ipynb\n",
      "01-03-2022  15:19             7,866 Logging.log.ipynb\n",
      "30-03-2022  20:47             6,394 Module.ipynb\n",
      "28-02-2022  20:09             2,192 Strings.py.ipynb\n",
      "30-03-2022  13:20                 0 test1.py\n",
      "31-03-2022  20:27                 0 test2.py\n",
      "              11 File(s)        213,226 bytes\n",
      "               4 Dir(s)  75,198,021,632 bytes free\n"
     ]
    }
   ],
   "source": [
    "ls"
   ]
  },
  {
   "cell_type": "code",
   "execution_count": 28,
   "id": "878c07fd",
   "metadata": {},
   "outputs": [],
   "source": [
    "import test2"
   ]
  },
  {
   "cell_type": "code",
   "execution_count": 17,
   "id": "1945a0e1",
   "metadata": {},
   "outputs": [
    {
     "data": {
      "text/plain": [
       "-1"
      ]
     },
     "execution_count": 17,
     "metadata": {},
     "output_type": "execute_result"
    }
   ],
   "source": [
    "test2.test2(4,5)"
   ]
  },
  {
   "cell_type": "code",
   "execution_count": 18,
   "id": "2696015a",
   "metadata": {},
   "outputs": [
    {
     "data": {
      "text/plain": [
       "1.5"
      ]
     },
     "execution_count": 18,
     "metadata": {},
     "output_type": "execute_result"
    }
   ],
   "source": [
    "test2.test3(3,2)"
   ]
  },
  {
   "cell_type": "code",
   "execution_count": 19,
   "id": "fbf54ee9",
   "metadata": {},
   "outputs": [
    {
     "data": {
      "text/plain": [
       "6"
      ]
     },
     "execution_count": 19,
     "metadata": {},
     "output_type": "execute_result"
    }
   ],
   "source": [
    "test2.test4(2,3)"
   ]
  },
  {
   "cell_type": "code",
   "execution_count": 20,
   "id": "1740616a",
   "metadata": {},
   "outputs": [
    {
     "data": {
      "text/plain": [
       "12"
      ]
     },
     "execution_count": 20,
     "metadata": {},
     "output_type": "execute_result"
    }
   ],
   "source": [
    "test2.test4(4,3)"
   ]
  },
  {
   "cell_type": "code",
   "execution_count": 21,
   "id": "bdca6044",
   "metadata": {},
   "outputs": [
    {
     "data": {
      "text/plain": [
       "10"
      ]
     },
     "execution_count": 21,
     "metadata": {},
     "output_type": "execute_result"
    }
   ],
   "source": [
    "test2.test1(9,1)"
   ]
  },
  {
   "cell_type": "code",
   "execution_count": 30,
   "id": "170822cd",
   "metadata": {},
   "outputs": [
    {
     "name": "stdout",
     "output_type": "stream",
     "text": [
      "this is the my code\n"
     ]
    }
   ],
   "source": [
    "test2.test5(4,7)"
   ]
  },
  {
   "cell_type": "code",
   "execution_count": null,
   "id": "7eb4f634",
   "metadata": {},
   "outputs": [],
   "source": [
    "from test2 import *"
   ]
  },
  {
   "cell_type": "code",
   "execution_count": null,
   "id": "c9d171e6",
   "metadata": {},
   "outputs": [],
   "source": [
    "test1(3,2)"
   ]
  },
  {
   "cell_type": "code",
   "execution_count": 25,
   "id": "74886feb",
   "metadata": {},
   "outputs": [],
   "source": [
    "from test2 import *"
   ]
  },
  {
   "cell_type": "code",
   "execution_count": 27,
   "id": "ebf8914c",
   "metadata": {},
   "outputs": [
    {
     "data": {
      "text/plain": [
       "2"
      ]
     },
     "execution_count": 27,
     "metadata": {},
     "output_type": "execute_result"
    }
   ],
   "source": [
    "test4(1,2)"
   ]
  },
  {
   "cell_type": "code",
   "execution_count": 2,
   "id": "d2ef499b",
   "metadata": {
    "scrolled": true
   },
   "outputs": [
    {
     "data": {
      "text/plain": [
       "['In',\n",
       " 'Out',\n",
       " '_',\n",
       " '_1',\n",
       " '__',\n",
       " '___',\n",
       " '__builtin__',\n",
       " '__builtins__',\n",
       " '__doc__',\n",
       " '__loader__',\n",
       " '__name__',\n",
       " '__package__',\n",
       " '__spec__',\n",
       " '_dh',\n",
       " '_i',\n",
       " '_i1',\n",
       " '_i2',\n",
       " '_ih',\n",
       " '_ii',\n",
       " '_iii',\n",
       " '_oh',\n",
       " 'exit',\n",
       " 'get_ipython',\n",
       " 'quit']"
      ]
     },
     "execution_count": 2,
     "metadata": {},
     "output_type": "execute_result"
    }
   ],
   "source": [
    "dir()"
   ]
  },
  {
   "cell_type": "code",
   "execution_count": 3,
   "id": "e57301d3",
   "metadata": {},
   "outputs": [
    {
     "data": {
      "text/plain": [
       "<_io.TextIOWrapper name='my_module.py' mode='w' encoding='cp1252'>"
      ]
     },
     "execution_count": 3,
     "metadata": {},
     "output_type": "execute_result"
    }
   ],
   "source": [
    "open(\"my_module.py\",'w')"
   ]
  },
  {
   "cell_type": "code",
   "execution_count": 4,
   "id": "0cc198fc",
   "metadata": {},
   "outputs": [
    {
     "name": "stdout",
     "output_type": "stream",
     "text": [
      " Volume in drive C is Windows\n",
      " Volume Serial Number is 1EF5-10B4\n",
      "\n",
      " Directory of C:\\Users\\tatea\\Data Science\\Python rivision 2\n",
      "\n",
      "01-04-2022  14:52    <DIR>          .\n",
      "26-02-2022  14:43    <DIR>          ..\n",
      "29-03-2022  14:21    <DIR>          .ipynb_checkpoints\n",
      "31-03-2022  21:49    <DIR>          __pycache__\n",
      "15-03-2022  11:46                15 demo_file\n",
      "13-03-2022  15:49            22,637 Eceptional handling.ipynb\n",
      "24-03-2022  14:51            47,009 Exception Handling 2.ipynb\n",
      "03-03-2022  15:04            35,926 File Handling.ipynb\n",
      "17-03-2022  17:11            72,888 Function.ipynb\n",
      "06-03-2022  22:03            18,299 Iterator and generator .ipynb\n",
      "01-03-2022  15:19             7,866 Logging.log.ipynb\n",
      "01-04-2022  14:52             7,983 Module.ipynb\n",
      "01-04-2022  14:52                 0 my_module.py\n",
      "28-02-2022  20:09             2,192 Strings.py.ipynb\n",
      "30-03-2022  13:20                 0 test1.py\n",
      "31-03-2022  21:57               172 test2.py\n",
      "              12 File(s)        214,987 bytes\n",
      "               4 Dir(s)  75,046,076,416 bytes free\n"
     ]
    }
   ],
   "source": [
    "ls"
   ]
  },
  {
   "cell_type": "code",
   "execution_count": 9,
   "id": "aa8b19b8",
   "metadata": {},
   "outputs": [],
   "source": [
    "import my_module"
   ]
  },
  {
   "cell_type": "code",
   "execution_count": 11,
   "id": "eecc247c",
   "metadata": {},
   "outputs": [
    {
     "data": {
      "text/plain": [
       "'greeting from ineron'"
      ]
     },
     "execution_count": 11,
     "metadata": {},
     "output_type": "execute_result"
    }
   ],
   "source": [
    "my_module.greeting()"
   ]
  },
  {
   "cell_type": "code",
   "execution_count": 13,
   "id": "011e90ec",
   "metadata": {
    "scrolled": true
   },
   "outputs": [
    {
     "ename": "KeyError",
     "evalue": "'course'",
     "output_type": "error",
     "traceback": [
      "\u001b[1;31m---------------------------------------------------------------------------\u001b[0m",
      "\u001b[1;31mKeyError\u001b[0m                                  Traceback (most recent call last)",
      "\u001b[1;32m<ipython-input-13-81c131eec7bd>\u001b[0m in \u001b[0;36m<module>\u001b[1;34m\u001b[0m\n\u001b[1;32m----> 1\u001b[1;33m \u001b[0mmy_module\u001b[0m\u001b[1;33m.\u001b[0m\u001b[0mget_course\u001b[0m\u001b[1;33m(\u001b[0m\u001b[1;33m)\u001b[0m\u001b[1;33m\u001b[0m\u001b[1;33m\u001b[0m\u001b[0m\n\u001b[0m",
      "\u001b[1;32m~\\Data Science\\Python rivision 2\\my_module.py\u001b[0m in \u001b[0;36mget_course\u001b[1;34m()\u001b[0m\n\u001b[0;32m      4\u001b[0m \u001b[1;33m\u001b[0m\u001b[0m\n\u001b[0;32m      5\u001b[0m \u001b[1;32mdef\u001b[0m \u001b[0mget_course\u001b[0m\u001b[1;33m(\u001b[0m\u001b[1;33m)\u001b[0m\u001b[1;33m:\u001b[0m\u001b[1;33m\u001b[0m\u001b[1;33m\u001b[0m\u001b[0m\n\u001b[1;32m----> 6\u001b[1;33m         \u001b[1;32mreturn\u001b[0m \u001b[0mdata\u001b[0m\u001b[1;33m[\u001b[0m\u001b[1;34m\"course\"\u001b[0m\u001b[1;33m]\u001b[0m\u001b[1;33m\u001b[0m\u001b[1;33m\u001b[0m\u001b[0m\n\u001b[0m\u001b[0;32m      7\u001b[0m \u001b[1;33m\u001b[0m\u001b[0m\n\u001b[0;32m      8\u001b[0m \u001b[1;32mdef\u001b[0m \u001b[0mgreeting\u001b[0m\u001b[1;33m(\u001b[0m\u001b[1;33m)\u001b[0m\u001b[1;33m:\u001b[0m\u001b[1;33m\u001b[0m\u001b[1;33m\u001b[0m\u001b[0m\n",
      "\u001b[1;31mKeyError\u001b[0m: 'course'"
     ]
    }
   ],
   "source": [
    "my_module.get_course()"
   ]
  },
  {
   "cell_type": "code",
   "execution_count": 1,
   "id": "5e78c5d1",
   "metadata": {},
   "outputs": [
    {
     "name": "stdout",
     "output_type": "stream",
     "text": [
      "4\n"
     ]
    },
    {
     "data": {
      "text/plain": [
       "4"
      ]
     },
     "execution_count": 1,
     "metadata": {},
     "output_type": "execute_result"
    }
   ],
   "source": [
    "def test1(a,b):\n",
    "    print(a+b)\n",
    "    return a+b\n",
    "\n",
    "test1(2,2)"
   ]
  },
  {
   "cell_type": "code",
   "execution_count": null,
   "id": "a45bbbb0",
   "metadata": {},
   "outputs": [],
   "source": []
  }
 ],
 "metadata": {
  "kernelspec": {
   "display_name": "Python 3",
   "language": "python",
   "name": "python3"
  },
  "language_info": {
   "codemirror_mode": {
    "name": "ipython",
    "version": 3
   },
   "file_extension": ".py",
   "mimetype": "text/x-python",
   "name": "python",
   "nbconvert_exporter": "python",
   "pygments_lexer": "ipython3",
   "version": "3.8.8"
  }
 },
 "nbformat": 4,
 "nbformat_minor": 5
}
