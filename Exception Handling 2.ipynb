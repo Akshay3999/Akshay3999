{
 "cells": [
  {
   "cell_type": "markdown",
   "id": "69ceefbe",
   "metadata": {},
   "source": [
    "# Errors and Exception Handling"
   ]
  },
  {
   "cell_type": "markdown",
   "id": "7ef12fcd",
   "metadata": {},
   "source": [
    "In this section, we will lern about errors and Exception Handling in python. You've might have definitely encountered error by this point in the course. For example:"
   ]
  },
  {
   "cell_type": "code",
   "execution_count": null,
   "id": "80ddd631",
   "metadata": {},
   "outputs": [],
   "source": [
    "print('Hello)"
   ]
  },
  {
   "cell_type": "markdown",
   "id": "f504e7e1",
   "metadata": {},
   "source": [
    "Note how we get a SyntaxError, with the further description that it was an End of Line Error (EOL) while scanning the string literal. This is specific enough for us to see that we forgot a single quote at the end of the line. Understanding of these various error types will help you debug your code much faster. \n",
    "\n",
    "This type of error and description is known as an Exception. Even if a statement or expression is syntactically correct, it may cause an error when an attempt is made to execute it. Errors detected during execution are called exceptions and are not unconditionally fatal."
   ]
  },
  {
   "cell_type": "markdown",
   "id": "b809a759",
   "metadata": {},
   "source": [
    "| Exception | Description   |\n",
    "|------|------|\n",
    "|   Exception  | Base class of exception. All other exception derived from this class.|\n",
    "|   ArithmeticError  | Base class for those exceptions that are raised for arithmetic or numeric errors.|\n",
    "|   ZeroDivisionError  | Raised when division or modulo operation is zero|\n",
    "|   ModuleNotFoundError  | Raised by import when imported module could not be located|\n",
    "|   KeyError  | Raised when a mapping (dictionary) key is not found in keys of a dictionary.|\n",
    "|   MemoryError  | Raised when an operation runs out of memory|"
   ]
  },
  {
   "cell_type": "markdown",
   "id": "01995f10",
   "metadata": {},
   "source": [
    "You can check out the full list of built-in exception here. Now, let's lern how to handle error a exception in our own code."
   ]
  },
  {
   "cell_type": "markdown",
   "id": "0b97c076",
   "metadata": {},
   "source": [
    "In python, There are popular saying for code style:-\n",
    "1. LBYL\n",
    "\n",
    "2. EAFP"
   ]
  },
  {
   "cell_type": "markdown",
   "id": "1b83f6e3",
   "metadata": {},
   "source": [
    "### LBYL\n",
    "\n",
    "Look before you leap. \n",
    "This coding style explicitly tests for pre-conditions before making calls or lookups. This style contrasts with the EAFP approach and is characterized by the presence of many if statements.\n",
    "\n",
    "In a multi-threaded environment, the LBYL approach can risk introducing a race condition between “the looking” and “the leaping”. For example, the code, if key in mapping: return mapping[key] can fail if another thread removes key from mapping after the test, but before the lookup. This issue can be solved with locks or by using the EAFP approach.\n",
    "\n",
    "For this, you can refer in python documentation:-\n",
    ">** https://docs.python.org/3/glossary.html **\n",
    "\n",
    "In a simple language, we first check what we are going to do. For example, if we want to check if a file is available before trying to write:\n",
    "\n",
    "```python\n",
    " if filename:\n",
    "     with open()..\n",
    "     ....\n",
    "```"
   ]
  },
  {
   "cell_type": "markdown",
   "id": "738cb61b",
   "metadata": {},
   "source": [
    "### EAFP\n",
    "\n",
    "Easier to ask for forgiveness than permission. \n",
    "\n",
    "This common Python coding style assumes the existence of valid keys or attributes and catches exceptions if the assumption proves false. This clean and fast style is characterized by the presence of many try and except statements. The technique contrasts with the LBYL style common to many other languages such as C. \n",
    "\n",
    "In a simple language,EAFP is like we first write our code so that it performs and executes first, and then we will take care of the consequences if it doesn't work. That means we try running some code, expecting it to work, but if it failes then will handle it in exception in except block.\n",
    "\n",
    "```python\n",
    "try:\n",
    "    with open(filename,'r').. # First executes\n",
    "     ....\n",
    " except:\n",
    "     # handling exception\n",
    "```"
   ]
  },
  {
   "cell_type": "markdown",
   "id": "d2c059ec",
   "metadata": {},
   "source": [
    "## try and except"
   ]
  },
  {
   "cell_type": "markdown",
   "id": "0356c53b",
   "metadata": {},
   "source": [
    "The basic terminology and syntax to handle errors in python is the **try** and **except** statements. The code which can cause an exception to occur is put in the *try* block and the handling of the exception are the implemented in the *except* block of code. The syntax from is:\n",
    "\n",
    "    try:\n",
    "        you do you operations here...\n",
    "        ...\n",
    "    except ExceptionI:\n",
    "        If there is ExceptionI, then execute this block.\n",
    "    except ExceptionII:\n",
    "        If there is ExceptionII, then execute this block.\n",
    "        ...\n",
    "    else:\n",
    "        If there is no exception then execute this block.\n",
    "        \n",
    "\n",
    "Using just except, we can check for any exception: To understand better let's check out a sample code that opens and writes a file: "
   ]
  },
  {
   "cell_type": "code",
   "execution_count": null,
   "id": "38373bb5",
   "metadata": {},
   "outputs": [],
   "source": [
    "try:\n",
    "    f = open('demo_file','w')\n",
    "    f.write('Test write this')\n",
    "except IOError:\n",
    "    # This only ckeck for an IOError exception and then execute this print statement\n",
    "    print(\"Error: Could not find file or read data\")\n",
    "else: # this else block will execute if try block does not raise an exception\n",
    "    print(\"Content written successfully\")\n",
    "    f.close()"
   ]
  },
  {
   "cell_type": "code",
   "execution_count": null,
   "id": "a6d75917",
   "metadata": {},
   "outputs": [],
   "source": [
    "f = open('demo_file','r')\n",
    "f.write('Test write this')\n",
    "print(\"fsfsfsfsfs\")"
   ]
  },
  {
   "cell_type": "code",
   "execution_count": 15,
   "id": "fbe25cfd",
   "metadata": {},
   "outputs": [
    {
     "name": "stdout",
     "output_type": "stream",
     "text": [
      "Error: Could not find file or read data\n"
     ]
    }
   ],
   "source": [
    "try:\n",
    "    f = open('demo_file','r')\n",
    "    f.write(\"Test write this\")\n",
    "except IOError:\n",
    "    # This will only check for an IOError exceptin and then execute this print statement\n",
    "    print(\"Error: Could not find file or read data\")\n",
    "else:\n",
    "    print(\"Content written successfully\")\n",
    "    f.close()"
   ]
  },
  {
   "cell_type": "markdown",
   "id": "97c6ec41",
   "metadata": {},
   "source": [
    "Notice, how we only printed a statement! The code still ran and we were able to continue doing actions and running code blocks. This is extremely useful when you have to account for possible input errors in your code. You can be prepared for the error and keep running code, instead of your code just breaking as we saw above.\n",
    "\n",
    "We could have also just said except: if we weren't sure what exception would occur. For example:"
   ]
  },
  {
   "cell_type": "code",
   "execution_count": null,
   "id": "4715411f",
   "metadata": {},
   "outputs": [],
   "source": [
    "try:\n",
    "    f = open('testfile', 'r')\n",
    "    f.write('Test write this')\n",
    "except:\n",
    "    # This will check for any exception and then execute this print statement\n",
    "    print(\"Error: Could not find file or read data\")\n",
    "else:\n",
    "    print(\"COntent written successfully\")\n",
    "    f.close()"
   ]
  },
  {
   "cell_type": "markdown",
   "id": "99a7b2b5",
   "metadata": {},
   "source": [
    "Now, we don't actually need to memorize the list of exception types! Now what if we keep wanting to run code after the exception occurred? This is where **finally** comes in.\n",
    "## finally \n",
    "\n",
    "The funally: Block of code will always be run regardless if there was an exception in the try code block. The syntax is:\n",
    "\n",
    "        try:\n",
    "            code block here\n",
    "            ...\n",
    "            Due to any exception, this code may be skipped!\n",
    "        finally:\n",
    "            This code block would always be executed.\n",
    "           \n",
    "For example:"
   ]
  },
  {
   "cell_type": "code",
   "execution_count": null,
   "id": "dd9507f8",
   "metadata": {},
   "outputs": [],
   "source": [
    "try:\n",
    "    f = open(\"testfile\",'w')\n",
    "    f.write(\"Test wrie statement\")\n",
    "finally:\n",
    "    print(\"Always execute finally code blocks\")"
   ]
  },
  {
   "cell_type": "markdown",
   "id": "6bb377f5",
   "metadata": {},
   "source": [
    "We can use this in conjunction with except. Let's see a new example that will take into account a user putting in the wrong input: "
   ]
  },
  {
   "cell_type": "code",
   "execution_count": null,
   "id": "29875eaf",
   "metadata": {},
   "outputs": [],
   "source": [
    "def askint():\n",
    "    try:\n",
    "        val = int(input(\"please enter an integer: \"))\n",
    "    except:\n",
    "        print(\"Looks like you did not enter an integer!\")\n",
    "    finally:\n",
    "        print(\"Finally, I executed!\")\n",
    "        print(val)"
   ]
  },
  {
   "cell_type": "code",
   "execution_count": null,
   "id": "8ef0a11c",
   "metadata": {},
   "outputs": [],
   "source": [
    "askint()"
   ]
  },
  {
   "cell_type": "code",
   "execution_count": null,
   "id": "bdaf5060",
   "metadata": {},
   "outputs": [],
   "source": [
    "askint()"
   ]
  },
  {
   "cell_type": "markdown",
   "id": "0e8abbd7",
   "metadata": {},
   "source": [
    "Ckeck how we got an error when trying to print val (because it was properly assigned). Let's find the right solution by asking the user and ckecking to make sure the input is an integer:"
   ]
  },
  {
   "cell_type": "code",
   "execution_count": null,
   "id": "f3e9aa27",
   "metadata": {},
   "outputs": [],
   "source": [
    "def askint():\n",
    "    try:\n",
    "        val = int(input(\"Please enter an integer: \"))\n",
    "    except:\n",
    "        print(\"Looks like you did not enter an integer!\")\n",
    "        try:\n",
    "            val = int(input(\"Try again-Plese enter an integer: \"))\n",
    "        except:\n",
    "            print(\"handle it \")\n",
    "        finally:\n",
    "            print(\"Finally, I executed!\")"
   ]
  },
  {
   "cell_type": "code",
   "execution_count": null,
   "id": "a5e509e7",
   "metadata": {},
   "outputs": [],
   "source": [
    "askint()"
   ]
  },
  {
   "cell_type": "markdown",
   "id": "ac9e271c",
   "metadata": {},
   "source": [
    "Hmmm...that only did one check. How can we continually keep checking?We can use a while loop!"
   ]
  },
  {
   "cell_type": "code",
   "execution_count": null,
   "id": "4ea995ba",
   "metadata": {},
   "outputs": [],
   "source": [
    "def askint():\n",
    "    while True:\n",
    "        try:\n",
    "            val = int(input(\"Please enter an integer: \"))\n",
    "        except:\n",
    "            print(\"Look like you did not enter an intefer!\")\n",
    "            break\n",
    "        else:\n",
    "            print('Yep thts an integer!')\n",
    "            break\n",
    "        finally:\n",
    "            print(\"Finally, I executed!\")\n",
    "            print(val)"
   ]
  },
  {
   "cell_type": "code",
   "execution_count": null,
   "id": "8c8482f4",
   "metadata": {},
   "outputs": [],
   "source": [
    "askint()"
   ]
  },
  {
   "cell_type": "markdown",
   "id": "b397bd2f",
   "metadata": {},
   "source": [
    "## Raising an exception\n",
    "\n",
    "We can raise an exception by using raise statement. Let us ckeck with example:-"
   ]
  },
  {
   "cell_type": "code",
   "execution_count": null,
   "id": "d1204386",
   "metadata": {},
   "outputs": [],
   "source": [
    "def raise_exc(a):\n",
    "    if  a < 5:\n",
    "        raise Exception(a) # If exception raised code below to thise will not execute\n",
    "    \n",
    "    return a\n",
    "try:\n",
    "    res1 = raise_exc(7)\n",
    "    print(res1)\n",
    "    res = raise_exc(2)\n",
    "    print(res)\n",
    "except Exception as e:\n",
    "    print(\"Error is\", e)"
   ]
  },
  {
   "cell_type": "markdown",
   "id": "f9a674fd",
   "metadata": {},
   "source": [
    "## User defined exception\n",
    "Developer can create their own exception by creating a new exception wich be derived from the Exception class. The newly created exception now should be ended with \"Error\" similar to naming of the standerd exceptin in python."
   ]
  },
  {
   "cell_type": "code",
   "execution_count": null,
   "id": "a9bfee3a",
   "metadata": {},
   "outputs": [],
   "source": [
    "''' Create user-defined exception \n",
    "    MyError is derived from super class Exception \n",
    "'''\n",
    "class NewError(Exception): \n",
    "  \n",
    "    # Constructor or Initializer \n",
    "    def __init__(self, val): \n",
    "        self.val = val \n",
    "  \n",
    "    # __str__ is to print() the value \n",
    "    def __str__(self): \n",
    "        return(repr(self.val)) \n",
    "  \n",
    "try: \n",
    "    raise(NewError(5)) \n",
    "except NewError as e: \n",
    "    print('A New Exception occured: ',e.val) "
   ]
  },
  {
   "cell_type": "markdown",
   "id": "ff3d2612",
   "metadata": {},
   "source": [
    "# Assertion"
   ]
  },
  {
   "cell_type": "markdown",
   "id": "edf3d9e3",
   "metadata": {},
   "source": [
    "Python's assert statement helps you find bugs more quickly and with less pain.\n",
    "\n",
    "Assertions are a systematic way to check that the internal state of a program is as the programmer expected, with the goal of catching bugs. In particular, they're good for catching false assumptions that were made while writing the code, or abuse of an interface by another programmer. In addition, they can act as in-line documentation to some extent, by making the programmer's assumptions obvious. (\"Explicit is better than implicit.\")\n",
    "\n",
    "For more,\n",
    ">**Refer:-** https://wiki.python.org/moin/UsingAssertionsEffectively"
   ]
  },
  {
   "cell_type": "code",
   "execution_count": null,
   "id": "d9b877a5",
   "metadata": {},
   "outputs": [],
   "source": [
    "from Ipython.display import Image\n",
    "Image(filename = 'img/assertion.png')"
   ]
  },
  {
   "cell_type": "code",
   "execution_count": null,
   "id": "4c27dc9e",
   "metadata": {},
   "outputs": [],
   "source": [
    "    # Assert for comparing two varibles\n",
    "    try:\n",
    "        x = 1\n",
    "        y = 1\n",
    "        assert x != y, \"Both variable are not the same\"\n",
    "        print(x,y)\n",
    "        \n",
    "    # the error message we provided gets printed\n",
    "    except AssertionError as msg:\n",
    "        print(msg)"
   ]
  },
  {
   "cell_type": "code",
   "execution_count": null,
   "id": "1fd08b1c",
   "metadata": {},
   "outputs": [],
   "source": [
    "    # Looping through list and print division of given element with the element itself if element itself if element is int else raise exception \n",
    "    list1 = ['a', 0, 2] # For str 'a' raise error, for 0 raise zero division error\n",
    "    \n",
    "    for el in list1:\n",
    "        try:\n",
    "            print(\"The element is\", el)\n",
    "            res = int(el)/int(el)\n",
    "            break\n",
    "        except Exception as e:\n",
    "            print(\"Oo!\", e, \"occurred.\")\n",
    "            print(\"Next check for another element in a list.\")\n",
    "    print(res)"
   ]
  },
  {
   "cell_type": "code",
   "execution_count": null,
   "id": "9c1d10d8",
   "metadata": {
    "scrolled": true
   },
   "outputs": [],
   "source": [
    "    # try with if condition if not positive number it will raise an exception using raise\n",
    "    try:\n",
    "        a = int (input(\"Enter a positive integer: \"))\n",
    "        if a < 0:\n",
    "            raise ValueError(\"That is not a positive number!\")\n",
    "    except ValueError as ve:\n",
    "            print(ve)"
   ]
  },
  {
   "cell_type": "code",
   "execution_count": null,
   "id": "1998a937",
   "metadata": {},
   "outputs": [],
   "source": [
    "    # simple program for even number using try else and assert\n",
    "    try:\n",
    "        num = int(input(\"Enter a number: \"))\n",
    "        assert num % 2 == 0\n",
    "    except:\n",
    "        print(\"Not an even number!\")\n",
    "    else:\n",
    "        print(\"Executing else block as try block has't raise an exception.\")"
   ]
  },
  {
   "cell_type": "code",
   "execution_count": null,
   "id": "9ab40299",
   "metadata": {},
   "outputs": [],
   "source": [
    "    # Defining function for rising exception\n",
    "    def raise_exception(ex):\n",
    "        raise ex"
   ]
  },
  {
   "cell_type": "code",
   "execution_count": null,
   "id": "8f146947",
   "metadata": {},
   "outputs": [],
   "source": [
    "    # Use lambda function with exception raise if value < 10 will raise an exception\n",
    "    y  = lambda x: 2*x if x < 10 else raise_exception(Exception('value is greating than 10')) \n",
    "    "
   ]
  },
  {
   "cell_type": "code",
   "execution_count": null,
   "id": "2e38a5d9",
   "metadata": {},
   "outputs": [],
   "source": [
    "    y(5)"
   ]
  },
  {
   "cell_type": "code",
   "execution_count": null,
   "id": "c1d54211",
   "metadata": {},
   "outputs": [],
   "source": [
    "    y(20)"
   ]
  },
  {
   "cell_type": "code",
   "execution_count": null,
   "id": "0fbd7f7e",
   "metadata": {},
   "outputs": [],
   "source": [
    "    # defining function for finding sqrt and checking type of number and raise exception if not an int/float\n",
    "    import math\n",
    "    def find_sqrt(a):\n",
    "        if not isinstance(a,(int,float)):\n",
    "            raise TypeError(\"a must be numeric\")\n",
    "        elif a < 0:\n",
    "            raise TypeError(\"a should no be negative\")\n",
    "        else:\n",
    "            print(math.sqrt(a))"
   ]
  },
  {
   "cell_type": "code",
   "execution_count": null,
   "id": "da838663",
   "metadata": {},
   "outputs": [],
   "source": [
    "find_sqrt(\"scsc\")"
   ]
  },
  {
   "cell_type": "code",
   "execution_count": null,
   "id": "015e53d3",
   "metadata": {},
   "outputs": [],
   "source": [
    "find_sqrt(-56)"
   ]
  },
  {
   "cell_type": "code",
   "execution_count": null,
   "id": "5818b49d",
   "metadata": {},
   "outputs": [],
   "source": [
    "find_sqrt(6)"
   ]
  },
  {
   "cell_type": "markdown",
   "id": "71e1b894",
   "metadata": {},
   "source": [
    "# What Is An Exception"
   ]
  },
  {
   "cell_type": "markdown",
   "id": "b1c6a79b",
   "metadata": {},
   "source": [
    "Exception are error that occur at runtime\n",
    "\n",
    "In other words, if our program encounters an abnormal situation during it's execution it raises an exception.\n",
    "\n",
    "For example, the statement\n",
    "    a=10/0\n",
    "Will generate an exception because python has no way to solve division by 0"
   ]
  },
  {
   "cell_type": "markdown",
   "id": "df254b0f",
   "metadata": {},
   "source": [
    "# What Python Does When An Exception Occurs?"
   ]
  },
  {
   "cell_type": "markdown",
   "id": "61bcdf20",
   "metadata": {},
   "source": [
    "Whenever an exception occurs, python doess 2 things :\n",
    "\n",
    "It immediately terminate the code\n",
    "\n",
    "It displays the error message related to the exception in a technical way\n",
    "\n",
    "Both the steps taken by python cannot be considered user friendly because\n",
    "Even if a statement generates exception, still other parts of the program must get a chance to run\n",
    "\n",
    "The  error message must be simple for the user to understand"
   ]
  },
  {
   "cell_type": "code",
   "execution_count": null,
   "id": "0b30e37d",
   "metadata": {},
   "outputs": [],
   "source": [
    "    a = int(input(\"ENter first no: \"))\n",
    "    b=int(input(\"Enter second no: \"))\n",
    "    c=a/b\n",
    "    print(\"Div is\",c)\n",
    "    d=a+b\n",
    "    print(\"Sum is\",d)"
   ]
  },
  {
   "cell_type": "markdown",
   "id": "8be203d0",
   "metadata": {},
   "source": [
    "As we can observe, in the second run the coe generated exception beacause python does not how to handle division by 0. Morover it did not even calculated the sum of 10 and 0 which is possible"
   ]
  },
  {
   "cell_type": "code",
   "execution_count": null,
   "id": "47f3d0f8",
   "metadata": {},
   "outputs": [],
   "source": [
    "    a=int(input(\"Enter first no: \"))\n",
    "    b=int(input(\"Enter second no: \"))\n",
    "    c=a/b\n",
    "    print(\"Div is c\",c)\n",
    "    d=a+b\n",
    "    print(\"Sum is\",d)"
   ]
  },
  {
   "cell_type": "markdown",
   "id": "8edfbac2",
   "metadata": {},
   "source": [
    "In this case since it is not posible for python to convert \"2a\" into an interger, so it generaed an exception. But the message it displays is too technical to understand"
   ]
  },
  {
   "cell_type": "markdown",
   "id": "1688e1b8",
   "metadata": {},
   "source": [
    "# How To Handle\n",
    "\n",
    "Such Situation?"
   ]
  },
  {
   "cell_type": "markdown",
   "id": "e0ce06a9",
   "metadata": {},
   "source": [
    "If we want our prohram to behave normally, even if an exception occurs, then we will have to apply Exception andling.\n",
    "\n",
    "Exception handling is a machanism which allows us to handle errors gracefully while the program is running instead of abruptly ending the program exception."
   ]
  },
  {
   "cell_type": "markdown",
   "id": "c56b6bf0",
   "metadata": {},
   "source": [
    "Python provides 5 keywords to perform Exception Handling:\n",
    "\n",
    "try \n",
    "\n",
    "except\n",
    "\n",
    "else\n",
    "\n",
    "raise\n",
    "\n",
    "finally"
   ]
  },
  {
   "cell_type": "markdown",
   "id": "0a630313",
   "metadata": {},
   "source": [
    "    Following is the syntax of a python try-except-else block.\n",
    "\n",
    "    try:\n",
    "    \n",
    "        you do you operations here;\n",
    "        ....................\n",
    "\n",
    "    except ExceptionI:\n",
    "\n",
    "        If there is ExceptionII, then execute this block.\n",
    "        ..................\n",
    "    \n",
    "    except ExceptionII:\n",
    "        \n",
    "        If there is ExceptionII, then execute this block\n",
    "        ..................\n",
    "\n",
    "    else:\n",
    "\n",
    "        If there is no exception then execute this block.\n",
    "\n"
   ]
  },
  {
   "cell_type": "code",
   "execution_count": null,
   "id": "cc908a7b",
   "metadata": {},
   "outputs": [],
   "source": [
    "    a=int(input(\"Ener first no: \"))\n",
    "    b=int(input(\"Enter second no: \"))\n",
    "    try:\n",
    "        c=a/b\n",
    "        print(\"Div is\",c)\n",
    "    except ZeroDivisionError as e:\n",
    "        print(e)\n",
    "    d=a+b\n",
    "    print(\"sum is\",d)"
   ]
  },
  {
   "cell_type": "code",
   "execution_count": null,
   "id": "6094ca13",
   "metadata": {},
   "outputs": [],
   "source": [
    "    # Amongst all the exceptions mentioned in the previous slides, we cannot handle syntaxError exception, beacause it is by pthon even before the starts excution\n",
    "  \n",
    "    # Example:\n",
    "    \n",
    "    a=int(input(\"Enter first no: \"))\n",
    "    b=int(input(\"Enter second no: \"))\n",
    "    try:\n",
    "        c=a/b\n",
    "        print(\"DIv is\",c))\n",
    "    except SyntaxError:\n",
    "        print(\"Wrong syntax\")\n",
    "    d=a+b\n",
    "    print(\"sum is\",d)"
   ]
  },
  {
   "cell_type": "markdown",
   "id": "a0bd9a84",
   "metadata": {},
   "source": [
    "A try statement may have more than one except clause for different.But at most one except clause will be executed"
   ]
  },
  {
   "cell_type": "markdown",
   "id": "13621346",
   "metadata": {},
   "source": [
    "Also, we must remember that if we are handling parent and child exceptin classes in except clause then the parent exception must appear after child exception, otherwise child except will never get a chance to run"
   ]
  },
  {
   "cell_type": "code",
   "execution_count": null,
   "id": "b9b529ce",
   "metadata": {},
   "outputs": [],
   "source": [
    "    import math\n",
    "    try:\n",
    "        x=10/5\n",
    "        print(x)\n",
    "        ans=math.exp(3)\n",
    "        print(ans)\n",
    "        \n",
    "    except ZeroDivisionError:\n",
    "        print(\"Division by 0 exception occurred!\")\n",
    "    except ArithmeticError:\n",
    "        print(\"Numeric calculation failed!\")"
   ]
  },
  {
   "cell_type": "code",
   "execution_count": null,
   "id": "28912689",
   "metadata": {},
   "outputs": [],
   "source": [
    "    import math\n",
    "    try:\n",
    "        \n",
    "        x=10/0\n",
    "        print(x)\n",
    "        ans=math.exp(20000)\n",
    "        print(ans)\n",
    "        \n",
    "    except ZeroDivisionError:\n",
    "        print(\"Division by 0 exception occurred!\")\n",
    "    except ArithmeticError:\n",
    "        print(\"Numeric calculation failed!\")"
   ]
  },
  {
   "cell_type": "code",
   "execution_count": null,
   "id": "79b3b35a",
   "metadata": {},
   "outputs": [],
   "source": [
    "    import math\n",
    "    math.exp(20000)"
   ]
  },
  {
   "cell_type": "code",
   "execution_count": null,
   "id": "b2a218ec",
   "metadata": {},
   "outputs": [],
   "source": [
    "    import math\n",
    "    try:\n",
    "        \n",
    "        x=10/5\n",
    "        print(x)\n",
    "        ans=math.exp(20000)\n",
    "        print(ans)\n",
    "        \n",
    "    except ZeroDivisionError:\n",
    "        print(\"Division by 0 exception occurred!\")\n",
    "    except ArithmeticError:\n",
    "        print(\"Numeric calculation failed!\")"
   ]
  },
  {
   "cell_type": "code",
   "execution_count": null,
   "id": "03378650",
   "metadata": {},
   "outputs": [],
   "source": [
    "    import math\n",
    "    try:\n",
    "        \n",
    "        x=10/5\n",
    "        print(x)\n",
    "        ans=math.exp(20000)\n",
    "        print(ans)\n",
    "        \n",
    "    except ArithmeticError:\n",
    "        print(\"Numeric calculation failed!\")\n",
    "    except ZeroDivisionError:\n",
    "        print(\"Division by 0 exception occurred!\")"
   ]
  },
  {
   "cell_type": "code",
   "execution_count": null,
   "id": "1e8ae59a",
   "metadata": {},
   "outputs": [],
   "source": [
    "    import math\n",
    "    try:\n",
    "        \n",
    "        x=10/0\n",
    "        print(x)\n",
    "        ans=math.exxp(20000)\n",
    "        print(ans)\n",
    "        \n",
    "    except ArithmeticError:\n",
    "        print(\"Numeric calculation failed!\")\n",
    "    except ZeroDivisionError:\n",
    "        print(\"Division by 0 exception occurred!\")"
   ]
  },
  {
   "cell_type": "markdown",
   "id": "4f8dee61",
   "metadata": {},
   "source": [
    "# exercise"
   ]
  },
  {
   "cell_type": "markdown",
   "id": "3afae7b4",
   "metadata": {},
   "source": [
    "Write a program to ask the user to input 2 integers and calculate and print their division. Make sure your program behaves as follows:\n",
    "\n",
    "If the user enters a non integer value then ask him to enter only integers If denominators is 0, then ask him to input no-Zero denominator Repeat process until correct is given\n",
    "\n",
    "Only if the input are correct then display their division and terminator the code"
   ]
  },
  {
   "cell_type": "code",
   "execution_count": null,
   "id": "0b414ab6",
   "metadata": {},
   "outputs": [],
   "source": [
    "    while(True):\n",
    "        try:\n",
    "            a=int(input(\"Input first no: \"))\n",
    "            b=int(Input(\"Input second no: \"))\n",
    "            c=a/b\n",
    "            print(\"Div is \",c)\n",
    "            break;\n",
    "        except ValueError:\n",
    "            print(\"Please input integes only! Try again\")\n",
    "        except ZeroDivisionError:\n",
    "            print(\"Please input no-zero denominator\")"
   ]
  },
  {
   "cell_type": "markdown",
   "id": "fb5b9cb3",
   "metadata": {},
   "source": [
    "If we want to write a single except clause to handle multiple exception,We can do this.\n",
    "\n",
    "For this we have to write names of all the exceptions within parenthesis separated with comm after the keywords except"
   ]
  },
  {
   "cell_type": "code",
   "execution_count": null,
   "id": "ec05add7",
   "metadata": {},
   "outputs": [],
   "source": [
    "    while(True):\n",
    "        try:\n",
    "            \n",
    "            a=int(input(\"Input first no: \"))\n",
    "            b=int(input(\"Input second no: \"))\n",
    "            c=a/b\n",
    "            print(\"Div is\",c)\n",
    "        except (ValueError,ZeroDivisionError):\n",
    "            print(\"Either input is incorrect or denominator is 0. Try again\")"
   ]
  },
  {
   "cell_type": "markdown",
   "id": "766cd9ed",
   "metadata": {},
   "source": [
    "    We can write keyword except without any exception class name also.\n",
    "    \n",
    "    In this case for every exception this clause will run.\n",
    "    \n",
    "    The only problem will be that we never know the type of exception that has occurred!\n"
   ]
  },
  {
   "cell_type": "markdown",
   "id": "8acf5686",
   "metadata": {},
   "source": [
    "    Following is the sytax of a python handle all exception block.\n",
    "    \n",
    "    try:\n",
    "        you do your operation here;\n",
    "        .....................\n",
    "    except:\n",
    "        for every kind of exceptio this block will execute"
   ]
  },
  {
   "cell_type": "markdown",
   "id": "0f81387d",
   "metadata": {},
   "source": [
    "## Notice, we have not provided any name for the exception"
   ]
  },
  {
   "cell_type": "code",
   "execution_count": null,
   "id": "f2ae6d96",
   "metadata": {},
   "outputs": [],
   "source": [
    "    while(True):\n",
    "        try:\n",
    "            a=int(input(\"Input first no: \"))\n",
    "            b=int(input(\"Input second no: \"))\n",
    "            c=a/b\n",
    "            print(\"Div is\",c)\n",
    "            break;\n",
    "        except:\n",
    "            print(\"Some problem occurred. Try ahgain!\")"
   ]
  },
  {
   "cell_type": "markdown",
   "id": "d71eeada",
   "metadata": {},
   "source": [
    "    using Exception object"
   ]
  },
  {
   "cell_type": "markdown",
   "id": "125398dc",
   "metadata": {},
   "source": [
    "Now we know how to handle exception, in this section we will learn how to access exception object in exception handler code. \n",
    "\n",
    "\n",
    "To access the exception object created by Python we can use the keyword as and assign it to a variable.\n",
    "\n",
    "Finally using that variable we can get the details of the exception\n"
   ]
  },
  {
   "cell_type": "code",
   "execution_count": null,
   "id": "0f66afb8",
   "metadata": {},
   "outputs": [],
   "source": [
    "    a=10\n",
    "    b='c'\n",
    "    d=a/b\n",
    "    print(d)"
   ]
  },
  {
   "cell_type": "code",
   "execution_count": null,
   "id": "a822bb3b",
   "metadata": {},
   "outputs": [],
   "source": [
    "    a=int(input(\"Input first no: \"))\n",
    "    b=int(input(\"Input second no: \"))\n",
    "    c=a/b\n",
    "    print(c)"
   ]
  },
  {
   "cell_type": "code",
   "execution_count": null,
   "id": "563ff6c8",
   "metadata": {},
   "outputs": [],
   "source": [
    "    while(True):\n",
    "        try:\n",
    "            a=int(input(\"Input first no: \"))\n",
    "            b = int(input(\"Input second no: \"))\n",
    "            c=a/b\n",
    "            print(\"Div is\",c)\n",
    "            break;\n",
    "        except (ValueError,ZeroDivisionError) as e:\n",
    "            print(e)"
   ]
  },
  {
   "cell_type": "markdown",
   "id": "c8b98841",
   "metadata": {},
   "source": [
    "Python allows us to get more details about the exception by calling the function exc_info().\n",
    "\n",
    "Following are it’s important points:\n",
    "\n",
    "It is available in the module sys\n",
    "\n",
    "It returns a tuple containing 3 items called type, value and traceback\n",
    "\n",
    "The variable type is the name of exception class, value is the instance of exception class and traceback contains the complete trace of the exception"
   ]
  },
  {
   "cell_type": "code",
   "execution_count": null,
   "id": "45929d09",
   "metadata": {},
   "outputs": [],
   "source": [
    "    import sys\n",
    "    while(True):\n",
    "        try:\n",
    "            a=int(input(\"Input first no: \"))\n",
    "            b=int(input(\"Input second no: \"))\n",
    "            c=a/b\n",
    "            print(\"Div is\",c)\n",
    "            break\n",
    "        except:\n",
    "            a,b,c=sys.exc_info()\n",
    "            print(\"Exception class\")\n",
    "            print(\"Exception message:\",b)\n",
    "            print(\"Line number:\",c.tb_lineno)"
   ]
  },
  {
   "cell_type": "markdown",
   "id": "2cd25cb4",
   "metadata": {},
   "source": [
    "Somtimes, we need to print the details of the exception exactly like python does.\n",
    "\n",
    "we do this normally, when we are debugging our code.\n",
    "\n",
    "The class traceback which is available in the module traceback helps us do this"
   ]
  },
  {
   "cell_type": "markdown",
   "id": "ce3d38c9",
   "metadata": {},
   "source": [
    "    This class contains a method called format_exc()\n",
    "    \n",
    "    It is class method of traceback class and return complete detils of the exception as a string.\n",
    "\n",
    "    This string contains:\n",
    "        The program name in which exception occured Line number where exception occured The code which generated the exception The name of the exception class The message realated to the exception"
   ]
  },
  {
   "cell_type": "code",
   "execution_count": null,
   "id": "2bcbf20e",
   "metadata": {},
   "outputs": [],
   "source": [
    "    import traceback"
   ]
  },
  {
   "cell_type": "code",
   "execution_count": null,
   "id": "58cfc36d",
   "metadata": {},
   "outputs": [],
   "source": [
    "    while(True):\n",
    "        try:\n",
    "            a=int(input(\"Inpt firat no: \"))\n",
    "            b=int(input(\"Input second no: \"))\n",
    "            c=a/b\n",
    "            print(\"Div is\",c)\n",
    "        except:\n",
    "            print(traceback.format_exc())"
   ]
  },
  {
   "cell_type": "markdown",
   "id": "9d2cf172",
   "metadata": {},
   "source": [
    "## Raising An Exception"
   ]
  },
  {
   "cell_type": "markdown",
   "id": "fc9dc548",
   "metadata": {},
   "source": [
    "We can force Python to generate an Exception using the keyword raise.\n",
    "\n",
    "\n",
    "This is normally done in those situations where we want Python to throw an exception in a particular condition of our choice\n",
    "\n",
    "\n",
    "Syntax:\n",
    "raise ExceptionClassName\n",
    "\n",
    "raise ExceptionClassName( message )\n"
   ]
  },
  {
   "cell_type": "markdown",
   "id": "1680491a",
   "metadata": {},
   "source": [
    "Write a program to ask the user to input 2 integers and calculate and print their division. Make sure your program behaves as follows:\n",
    "\n",
    "If the user enters a non integer value then ask him to enter only integers\n",
    "If denominator is 0 , then ask him to input non-zero denominator\n",
    "If any of the numbers is negative then display the message negative numbers not allowed\n",
    "Repeat the process until correct input is given\n",
    "\n",
    "Only if the inputs are correct then display their division and terminate the code"
   ]
  },
  {
   "cell_type": "code",
   "execution_count": 3,
   "id": "5ef96a27",
   "metadata": {},
   "outputs": [
    {
     "name": "stdout",
     "output_type": "stream",
     "text": [
      "Please write a input: 9\n",
      "Please enter greater than 10\n",
      "Please write a input: 10\n"
     ]
    }
   ],
   "source": [
    "    while(True):\n",
    "        a=int(input(\"Please write a input: \"))\n",
    "        if a>=10:\n",
    "            break\n",
    "        print(\"Please enter greater than 10\")"
   ]
  },
  {
   "cell_type": "markdown",
   "id": "9a977fe6",
   "metadata": {},
   "source": [
    "    If we have a code which we want to run in all situations, then we should write it inside the  finally block.\n",
    "\n",
    "\n",
    "    Python will always run the instructions coded in the finally block.\n",
    "\n",
    "\n",
    "    It is the most common way of doing clean up tasks , like, closing a file or disconnecting with the DB or logging out the user etc\n"
   ]
  },
  {
   "cell_type": "code",
   "execution_count": 5,
   "id": "f21a06fc",
   "metadata": {},
   "outputs": [
    {
     "ename": "SyntaxError",
     "evalue": "invalid syntax (<ipython-input-5-1a51c882914d>, line 1)",
     "output_type": "error",
     "traceback": [
      "\u001b[1;36m  File \u001b[1;32m\"<ipython-input-5-1a51c882914d>\"\u001b[1;36m, line \u001b[1;32m1\u001b[0m\n\u001b[1;33m    The finally block has 2 syntaxes:\u001b[0m\n\u001b[1;37m        ^\u001b[0m\n\u001b[1;31mSyntaxError\u001b[0m\u001b[1;31m:\u001b[0m invalid syntax\n"
     ]
    }
   ],
   "source": [
    "    The finally block has 2 syntaxes:\n",
    "    syntax 1\n",
    "    try:\n",
    "        # some exception generating code\n",
    "    except:\n",
    "        # exception handling code\n",
    "    finally:\n",
    "        # code to be always executed\n",
    "    try:\n",
    "        # some exception generating code\n",
    "    finally:\n",
    "        # code to be always executed"
   ]
  },
  {
   "cell_type": "code",
   "execution_count": 7,
   "id": "1a59c0d6",
   "metadata": {},
   "outputs": [
    {
     "name": "stdout",
     "output_type": "stream",
     "text": [
      "Input firast no: 10\n",
      "Input second no: 4\n",
      "Div is 2.5\n",
      "Thank you for using the app!\n"
     ]
    }
   ],
   "source": [
    "    while(True):\n",
    "        try:\n",
    "            a=int(input(\"Input firast no: \"))\n",
    "            b=int(input(\"Input second no: \"))\n",
    "            c=a/b\n",
    "            print(\"Div is\",c)\n",
    "            break;\n",
    "        except ZeroDivisionError:\n",
    "            print(\"Denominator should not be zero\")\n",
    "        finally:\n",
    "            print(\"Thank you for using the app!\")"
   ]
  },
  {
   "cell_type": "markdown",
   "id": "a8eb1132",
   "metadata": {},
   "source": [
    "    Python has many built-in exceptions which forces our program to output an error when something in it goes wrong.\n",
    "\n",
    "\n",
    "\n",
    "    However, sometimes we may need to create our own exceptions which will be more suitable for our purpose.\n",
    "\n",
    "\n",
    "    Such exceptions are called User Defined Exceptions\n"
   ]
  },
  {
   "cell_type": "markdown",
   "id": "71164e4e",
   "metadata": {},
   "source": [
    "    In Python, users can define such exceptions by creating a new class. \n",
    "\n",
    "\n",
    "\n",
    "    This exception class has to be derived, either directly or indirectly, from Exception class. \n",
    "\n",
    "\n",
    "\n",
    "    Most of the built-in exceptions are also derived form this class.\n"
   ]
  },
  {
   "cell_type": "code",
   "execution_count": 8,
   "id": "d853b0e2",
   "metadata": {},
   "outputs": [],
   "source": [
    "    class NegativeNumberException(Exception):\n",
    "        def _int_(self):\n",
    "            print(\"Please type a pos number\")"
   ]
  },
  {
   "cell_type": "code",
   "execution_count": 9,
   "id": "473a0de6",
   "metadata": {},
   "outputs": [
    {
     "name": "stdout",
     "output_type": "stream",
     "text": [
      "Input first no: 10\n",
      "Input second no: -1\n",
      "\n"
     ]
    },
    {
     "ename": "KeyboardInterrupt",
     "evalue": "Interrupted by user",
     "output_type": "error",
     "traceback": [
      "\u001b[1;31m---------------------------------------------------------------------------\u001b[0m",
      "\u001b[1;31mKeyboardInterrupt\u001b[0m                         Traceback (most recent call last)",
      "\u001b[1;32m<ipython-input-9-ca96ac0e71ba>\u001b[0m in \u001b[0;36m<module>\u001b[1;34m\u001b[0m\n\u001b[0;32m      1\u001b[0m \u001b[1;32mwhile\u001b[0m\u001b[1;33m(\u001b[0m\u001b[1;32mTrue\u001b[0m\u001b[1;33m)\u001b[0m\u001b[1;33m:\u001b[0m\u001b[1;33m\u001b[0m\u001b[1;33m\u001b[0m\u001b[0m\n\u001b[0;32m      2\u001b[0m     \u001b[1;32mtry\u001b[0m\u001b[1;33m:\u001b[0m\u001b[1;33m\u001b[0m\u001b[1;33m\u001b[0m\u001b[0m\n\u001b[1;32m----> 3\u001b[1;33m         \u001b[0ma\u001b[0m\u001b[1;33m=\u001b[0m\u001b[0mint\u001b[0m\u001b[1;33m(\u001b[0m\u001b[0minput\u001b[0m\u001b[1;33m(\u001b[0m\u001b[1;34m\"Input first no: \"\u001b[0m\u001b[1;33m)\u001b[0m\u001b[1;33m)\u001b[0m\u001b[1;33m\u001b[0m\u001b[1;33m\u001b[0m\u001b[0m\n\u001b[0m\u001b[0;32m      4\u001b[0m         \u001b[0mb\u001b[0m\u001b[1;33m=\u001b[0m\u001b[0mint\u001b[0m\u001b[1;33m(\u001b[0m\u001b[0minput\u001b[0m\u001b[1;33m(\u001b[0m\u001b[1;34m\"Input second no: \"\u001b[0m\u001b[1;33m)\u001b[0m\u001b[1;33m)\u001b[0m\u001b[1;33m\u001b[0m\u001b[1;33m\u001b[0m\u001b[0m\n\u001b[0;32m      5\u001b[0m         \u001b[1;32mif\u001b[0m \u001b[0ma\u001b[0m\u001b[1;33m<\u001b[0m\u001b[1;36m0\u001b[0m \u001b[1;32mor\u001b[0m \u001b[0mb\u001b[0m\u001b[1;33m<\u001b[0m\u001b[1;36m0\u001b[0m\u001b[1;33m:\u001b[0m\u001b[1;33m\u001b[0m\u001b[1;33m\u001b[0m\u001b[0m\n",
      "\u001b[1;32m~\\anaconda3\\lib\\site-packages\\ipykernel\\kernelbase.py\u001b[0m in \u001b[0;36mraw_input\u001b[1;34m(self, prompt)\u001b[0m\n\u001b[0;32m    858\u001b[0m                 \u001b[1;34m\"raw_input was called, but this frontend does not support input requests.\"\u001b[0m\u001b[1;33m\u001b[0m\u001b[1;33m\u001b[0m\u001b[0m\n\u001b[0;32m    859\u001b[0m             )\n\u001b[1;32m--> 860\u001b[1;33m         return self._input_request(str(prompt),\n\u001b[0m\u001b[0;32m    861\u001b[0m             \u001b[0mself\u001b[0m\u001b[1;33m.\u001b[0m\u001b[0m_parent_ident\u001b[0m\u001b[1;33m,\u001b[0m\u001b[1;33m\u001b[0m\u001b[1;33m\u001b[0m\u001b[0m\n\u001b[0;32m    862\u001b[0m             \u001b[0mself\u001b[0m\u001b[1;33m.\u001b[0m\u001b[0m_parent_header\u001b[0m\u001b[1;33m,\u001b[0m\u001b[1;33m\u001b[0m\u001b[1;33m\u001b[0m\u001b[0m\n",
      "\u001b[1;32m~\\anaconda3\\lib\\site-packages\\ipykernel\\kernelbase.py\u001b[0m in \u001b[0;36m_input_request\u001b[1;34m(self, prompt, ident, parent, password)\u001b[0m\n\u001b[0;32m    902\u001b[0m             \u001b[1;32mexcept\u001b[0m \u001b[0mKeyboardInterrupt\u001b[0m\u001b[1;33m:\u001b[0m\u001b[1;33m\u001b[0m\u001b[1;33m\u001b[0m\u001b[0m\n\u001b[0;32m    903\u001b[0m                 \u001b[1;31m# re-raise KeyboardInterrupt, to truncate traceback\u001b[0m\u001b[1;33m\u001b[0m\u001b[1;33m\u001b[0m\u001b[1;33m\u001b[0m\u001b[0m\n\u001b[1;32m--> 904\u001b[1;33m                 \u001b[1;32mraise\u001b[0m \u001b[0mKeyboardInterrupt\u001b[0m\u001b[1;33m(\u001b[0m\u001b[1;34m\"Interrupted by user\"\u001b[0m\u001b[1;33m)\u001b[0m \u001b[1;32mfrom\u001b[0m \u001b[1;32mNone\u001b[0m\u001b[1;33m\u001b[0m\u001b[1;33m\u001b[0m\u001b[0m\n\u001b[0m\u001b[0;32m    905\u001b[0m             \u001b[1;32mexcept\u001b[0m \u001b[0mException\u001b[0m \u001b[1;32mas\u001b[0m \u001b[0me\u001b[0m\u001b[1;33m:\u001b[0m\u001b[1;33m\u001b[0m\u001b[1;33m\u001b[0m\u001b[0m\n\u001b[0;32m    906\u001b[0m                 \u001b[0mself\u001b[0m\u001b[1;33m.\u001b[0m\u001b[0mlog\u001b[0m\u001b[1;33m.\u001b[0m\u001b[0mwarning\u001b[0m\u001b[1;33m(\u001b[0m\u001b[1;34m\"Invalid Message:\"\u001b[0m\u001b[1;33m,\u001b[0m \u001b[0mexc_info\u001b[0m\u001b[1;33m=\u001b[0m\u001b[1;32mTrue\u001b[0m\u001b[1;33m)\u001b[0m\u001b[1;33m\u001b[0m\u001b[1;33m\u001b[0m\u001b[0m\n",
      "\u001b[1;31mKeyboardInterrupt\u001b[0m: Interrupted by user"
     ]
    },
    {
     "name": "stdout",
     "output_type": "stream",
     "text": [
      "Input first no: \n"
     ]
    }
   ],
   "source": [
    "    while(True):\n",
    "        try:\n",
    "            a=int(input(\"Input first no: \"))\n",
    "            b=int(input(\"Input second no: \"))\n",
    "            if a<0 or b<0:\n",
    "                raise NegativeNumberException()\n",
    "            c=a/b\n",
    "            print(\"Div is \",c)\n",
    "            break;\n",
    "        except ValueError:\n",
    "            print(\"Please input integers only! Try again\")\n",
    "        except ZeroDivisionError:\n",
    "            print(\"Please input no-zero denominator\")\n",
    "        except NegativeNumberException as e:\n",
    "            print(e)"
   ]
  },
  {
   "cell_type": "code",
   "execution_count": 13,
   "id": "ce9cd370",
   "metadata": {},
   "outputs": [],
   "source": [
    "    import math\n",
    "    ans=math.exp(200)"
   ]
  },
  {
   "cell_type": "code",
   "execution_count": 14,
   "id": "2bbce1c1",
   "metadata": {},
   "outputs": [
    {
     "data": {
      "text/plain": [
       "7.225973768125749e+86"
      ]
     },
     "execution_count": 14,
     "metadata": {},
     "output_type": "execute_result"
    }
   ],
   "source": [
    "ans"
   ]
  },
  {
   "cell_type": "code",
   "execution_count": null,
   "id": "ed7e13e7",
   "metadata": {},
   "outputs": [],
   "source": []
  }
 ],
 "metadata": {
  "kernelspec": {
   "display_name": "Python 3",
   "language": "python",
   "name": "python3"
  },
  "language_info": {
   "codemirror_mode": {
    "name": "ipython",
    "version": 3
   },
   "file_extension": ".py",
   "mimetype": "text/x-python",
   "name": "python",
   "nbconvert_exporter": "python",
   "pygments_lexer": "ipython3",
   "version": "3.8.8"
  }
 },
 "nbformat": 4,
 "nbformat_minor": 5
}
