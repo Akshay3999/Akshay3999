{
 "cells": [
  {
   "cell_type": "markdown",
   "id": "e534e80e",
   "metadata": {},
   "source": [
    "* What is a Function?\n",
    "* Function V/s Method\n",
    "* Steps Required For Developing user Defined\n",
    "* Function and Calling that Function.\n",
    "* Returning Values From Function\n",
    "* Arguments V/s Parameters\n",
    "* Types Of Arguments\n",
    "* Variable Scope\n",
    "* Local Scope\n",
    "* Global Scope\n",
    "* Argument passing\n",
    "* Anonymous Function or Lembda Function\n",
    "* The map() Function\n",
    "* The filter() Function\n",
    "* Using map() and Filter() with Lambda Expresion"
   ]
  },
  {
   "cell_type": "markdown",
   "id": "a8bb2bbf",
   "metadata": {},
   "source": [
    "# 07. Function"
   ]
  },
  {
   "cell_type": "markdown",
   "id": "2414c563",
   "metadata": {},
   "source": [
    "* Definition: Function are nothing but a block of code which performs a specific task and can be called again and again as per requirement in the code.\n",
    "* A  generic way to write a simple function is shown below-"
   ]
  },
  {
   "cell_type": "code",
   "execution_count": 2,
   "id": "bec4765b",
   "metadata": {},
   "outputs": [],
   "source": [
    "def function_name():\n",
    "# function body starts\n",
    "    pass\n",
    "# function body ends\n",
    "# calling function in the code- \n",
    "function_name()"
   ]
  },
  {
   "cell_type": "markdown",
   "id": "4a8ede0d",
   "metadata": {},
   "source": [
    "* DRY: It stand for Do not Repeat Yourself. It means that a good generally should not coantain repeated block of code.So if you observe in your code repeatition of certain lines of code then you can also make it a function and call as per your requirement. Let's see an example below-"
   ]
  },
  {
   "cell_type": "markdown",
   "id": "dda4a897",
   "metadata": {},
   "source": [
    "7.1 A Simple function definition:"
   ]
  },
  {
   "cell_type": "markdown",
   "id": "2ec36d1c",
   "metadata": {},
   "source": [
    "Example:-"
   ]
  },
  {
   "cell_type": "code",
   "execution_count": 1,
   "id": "8736510b",
   "metadata": {},
   "outputs": [],
   "source": [
    "def function_name():\n",
    "# function body starts\n",
    "    pass\n",
    "# function body ends\n",
    "function_name()\n",
    "# calling function in the code"
   ]
  },
  {
   "cell_type": "markdown",
   "id": "d79316a7",
   "metadata": {},
   "source": [
    "Example:-"
   ]
  },
  {
   "cell_type": "code",
   "execution_count": 2,
   "id": "f7923846",
   "metadata": {},
   "outputs": [
    {
     "name": "stdout",
     "output_type": "stream",
     "text": [
      "Hi there from iNeuron\n"
     ]
    }
   ],
   "source": [
    "def greeting():\n",
    "    print(\"Hi there from iNeuron\")\n",
    "    \n",
    "# calling greeting function in the code-\n",
    "greeting()"
   ]
  },
  {
   "cell_type": "markdown",
   "id": "eb58e2da",
   "metadata": {},
   "source": [
    "- We can also pass some value to the function. These values are known as arguments. A function can have following kind of arguments-\n",
    "-1. key word arguments: Here we define the name of arguments."
   ]
  },
  {
   "cell_type": "markdown",
   "id": "a458aec6",
   "metadata": {},
   "source": [
    "**Example**:\n",
    "Obseve the below code from Expressions, Operators, and Precedence Chapter-"
   ]
  },
  {
   "cell_type": "code",
   "execution_count": 5,
   "id": "ba6b8639",
   "metadata": {},
   "outputs": [
    {
     "name": "stdout",
     "output_type": "stream",
     "text": [
      "you have bike: True\n",
      "You have Car: True\n",
      "You can travel 100 KMs: True\n",
      "\n"
     ]
    }
   ],
   "source": [
    "# Block One\n",
    "Bike = True\n",
    "Car = True\n",
    "Travel_100_KM = Bike or Car\n",
    "\n",
    "print(f\"you have bike: {Bike}\")\n",
    "print(f\"You have Car: {Car}\")\n",
    "print(f\"You can travel 100 KMs: {Travel_100_KM}\\n\")"
   ]
  },
  {
   "cell_type": "code",
   "execution_count": 4,
   "id": "7eed135c",
   "metadata": {},
   "outputs": [
    {
     "name": "stdout",
     "output_type": "stream",
     "text": [
      "You have Bike: True\n",
      "You have Car: False\n",
      "You ca travel 100 KMs: True\n",
      "\n"
     ]
    }
   ],
   "source": [
    "# BLock Two \n",
    "Bike = True\n",
    "Car = False\n",
    "Travel_100_KM = Bike or Car\n",
    "\n",
    "print(f\"You have Bike: {Bike}\")\n",
    "print(f\"You have Car: {Car}\")\n",
    "print(f\"You ca travel 100 KMs: {Travel_100_KM}\\n\")\n"
   ]
  },
  {
   "cell_type": "code",
   "execution_count": 8,
   "id": "c947d5d7",
   "metadata": {},
   "outputs": [
    {
     "name": "stdout",
     "output_type": "stream",
     "text": [
      "You have Bike: False\n",
      "You have Car: True\n",
      "You can travel 100 KMs: True\n",
      "\n"
     ]
    }
   ],
   "source": [
    "# Block Three\n",
    "Bike = False\n",
    "Car = True\n",
    "Travel_100_KM = Bike or Car\n",
    "\n",
    "print(f\"You have Bike: {Bike}\")\n",
    "print(f\"You have Car: {Car}\")\n",
    "print(f\"You can travel 100 KMs: {Travel_100_KM}\\n\")"
   ]
  },
  {
   "cell_type": "code",
   "execution_count": 6,
   "id": "38ed0867",
   "metadata": {},
   "outputs": [
    {
     "name": "stdout",
     "output_type": "stream",
     "text": [
      "You have Bike: False\n",
      "You have Car: False\n",
      "You can travel 100 KMs: False\n",
      "\n"
     ]
    }
   ],
   "source": [
    "# Block Four\n",
    "Bike = False\n",
    "Car = False\n",
    "Travel_100_KM = Bike or Car\n",
    "\n",
    "print(f\"You have Bike: {Bike}\")\n",
    "print(f\"You have Car: {Car}\")\n",
    "print(f\"You can travel 100 KMs: {Travel_100_KM}\\n\")"
   ]
  },
  {
   "cell_type": "markdown",
   "id": "d4bfb69c",
   "metadata": {},
   "source": [
    "Example:- So above codes are repetetive. Now lets observe the below code which will give the same results as shown above but in avery less line of code-"
   ]
  },
  {
   "cell_type": "code",
   "execution_count": 9,
   "id": "2fc1b6f0",
   "metadata": {},
   "outputs": [
    {
     "name": "stdout",
     "output_type": "stream",
     "text": [
      "You have Bike: False\n",
      "You have Car: False\n",
      "You can travel 100 KMs: False\n",
      "\n",
      "You have Bike: False\n",
      "You have Car: True\n",
      "You can travel 100 KMs: True\n",
      "\n",
      "You have Bike: True\n",
      "You have Car: False\n",
      "You can travel 100 KMs: True\n",
      "\n",
      "You have Bike: True\n",
      "You have Car: True\n",
      "You can travel 100 KMs: True\n",
      "\n"
     ]
    }
   ],
   "source": [
    "def travel_or_not(Bike,Car):\n",
    "    Travel_100_KM = Bike or Car\n",
    "    \n",
    "    print(f\"You have Bike: {Bike}\")\n",
    "    print(f\"You have Car: {Car}\")\n",
    "    print(f\"You can travel 100 KMs: {Travel_100_KM}\\n\")\n",
    "    \n",
    "travel_or_not(False, False)\n",
    "travel_or_not(False, True)\n",
    "travel_or_not(True, False)\n",
    "travel_or_not(True, True)"
   ]
  },
  {
   "cell_type": "markdown",
   "id": "61abc5e6",
   "metadata": {},
   "source": [
    "Example:- \n",
    "Lets make it more concise using a for loop and remove the repetition"
   ]
  },
  {
   "cell_type": "code",
   "execution_count": 15,
   "id": "ded72991",
   "metadata": {},
   "outputs": [
    {
     "ename": "NameError",
     "evalue": "name 'Zip' is not defined",
     "output_type": "error",
     "traceback": [
      "\u001b[1;31m---------------------------------------------------------------------------\u001b[0m",
      "\u001b[1;31mNameError\u001b[0m                                 Traceback (most recent call last)",
      "\u001b[1;32m<ipython-input-15-07ace33011d6>\u001b[0m in \u001b[0;36m<module>\u001b[1;34m\u001b[0m\n\u001b[0;32m      9\u001b[0m \u001b[0mCar\u001b[0m \u001b[1;33m=\u001b[0m \u001b[1;33m[\u001b[0m\u001b[1;32mFalse\u001b[0m\u001b[1;33m,\u001b[0m \u001b[1;32mTrue\u001b[0m\u001b[1;33m,\u001b[0m \u001b[1;32mFalse\u001b[0m\u001b[1;33m,\u001b[0m \u001b[1;32mTrue\u001b[0m\u001b[1;33m]\u001b[0m\u001b[1;33m\u001b[0m\u001b[1;33m\u001b[0m\u001b[0m\n\u001b[0;32m     10\u001b[0m \u001b[1;33m\u001b[0m\u001b[0m\n\u001b[1;32m---> 11\u001b[1;33m \u001b[1;32mfor\u001b[0m \u001b[0mBike\u001b[0m\u001b[1;33m,\u001b[0m \u001b[0mCar\u001b[0m \u001b[1;32min\u001b[0m \u001b[0mZip\u001b[0m\u001b[1;33m(\u001b[0m\u001b[0mBike\u001b[0m\u001b[1;33m,\u001b[0m \u001b[0mCar\u001b[0m\u001b[1;33m)\u001b[0m\u001b[1;33m:\u001b[0m\u001b[1;33m\u001b[0m\u001b[1;33m\u001b[0m\u001b[0m\n\u001b[0m\u001b[0;32m     12\u001b[0m     \u001b[0mtravel_or_not\u001b[0m\u001b[1;33m(\u001b[0m\u001b[0mBike\u001b[0m\u001b[1;33m,\u001b[0m \u001b[0mCar\u001b[0m\u001b[1;33m)\u001b[0m\u001b[1;33m\u001b[0m\u001b[1;33m\u001b[0m\u001b[0m\n",
      "\u001b[1;31mNameError\u001b[0m: name 'Zip' is not defined"
     ]
    }
   ],
   "source": [
    "def travel_or_not(Bike, Car):\n",
    "    Travel_100_KM = Bike or Car\n",
    "    \n",
    "    print(f\"You have Bike: {Bike}\")\n",
    "    print(f\"You have Car: {Car}\")\n",
    "    print(f\"You can travel 100 Kms: {Travel_100_Km}\\n\")\n",
    "\n",
    "Bike = [False, False,True, True]\n",
    "Car = [False, True, False, True]\n",
    " \n",
    "for Bike, Car in Zip(Bike, Car):\n",
    "    travel_or_not(Bike, Car)"
   ]
  },
  {
   "cell_type": "markdown",
   "id": "2bfb729f",
   "metadata": {},
   "source": [
    "7.2 Default Arguments"
   ]
  },
  {
   "cell_type": "markdown",
   "id": "4d7f1994",
   "metadata": {},
   "source": [
    "Example: - Let's see different varient of above code. You can also define a default value of the arguments which will be utilized when no argument is passed. as shown below.-"
   ]
  },
  {
   "cell_type": "code",
   "execution_count": 21,
   "id": "0e374a65",
   "metadata": {},
   "outputs": [
    {
     "name": "stdout",
     "output_type": "stream",
     "text": [
      "You have a Bike: True\n",
      "You have Car: False\n",
      "You can travel 100Kms: True\n",
      "\n"
     ]
    }
   ],
   "source": [
    "def travel_or_not(Bike = True, Car = False):\n",
    "    Travel_100_KM = Bike or Car\n",
    "    \n",
    "    print(f\"You have a Bike: {Bike}\")\n",
    "    print(f\"You have Car: {Car}\")\n",
    "    print(f\"You can travel 100Kms: {Travel_100_KM}\\n\")\n",
    "\n",
    "travel_or_not()"
   ]
  },
  {
   "cell_type": "code",
   "execution_count": 23,
   "id": "71fdccee",
   "metadata": {},
   "outputs": [
    {
     "name": "stdout",
     "output_type": "stream",
     "text": [
      "You have a Bike: False\n",
      "You have Car: True\n",
      "You can travel 100Kms: True\n",
      "\n"
     ]
    }
   ],
   "source": [
    "def travel_or_no(Bike=True, Car=False):\n",
    "    print(f\"You have Bike: {Bike}\")\n",
    "    print(f\"You have Car: {Car}\")\n",
    "    print(f\"You can travel 100 KMs: {Travel_100_KM}\\n\")\n",
    "    \n",
    "travel_or_not(False, True) #overriding the default arguments value by passing our value "
   ]
  },
  {
   "cell_type": "markdown",
   "id": "75628a75",
   "metadata": {},
   "source": [
    "Example: Here None gets printing if we try to print the output of the given function because it is not returning any value. Its just printing there result."
   ]
  },
  {
   "cell_type": "code",
   "execution_count": 25,
   "id": "bffde902",
   "metadata": {},
   "outputs": [
    {
     "name": "stdout",
     "output_type": "stream",
     "text": [
      "You have a Bike: False\n",
      "You have Car: True\n",
      "You can travel 100Kms: True\n",
      "\n",
      "\n",
      "results:-\n",
      "None\n"
     ]
    }
   ],
   "source": [
    "result = travel_or_not(False, True)\n",
    "print(f\"\\nresults:-\\n{result}\")"
   ]
  },
  {
   "cell_type": "markdown",
   "id": "e6949778",
   "metadata": {},
   "source": [
    "7.3 Return Statement"
   ]
  },
  {
   "cell_type": "markdown",
   "id": "32e3e71b",
   "metadata": {},
   "source": [
    "Example: In some cases you'd like to return some value from a function. So for that we use a return keyword to return the results as show below-"
   ]
  },
  {
   "cell_type": "code",
   "execution_count": 8,
   "id": "73da0b4c",
   "metadata": {},
   "outputs": [
    {
     "name": "stdout",
     "output_type": "stream",
     "text": [
      "You have Bike: False\n",
      "You have Car: True\n",
      "You can travel 100 KMs: True\n",
      "\n",
      "\n",
      "result:-\n",
      "None\n"
     ]
    }
   ],
   "source": [
    "def travel_or_not(Bike=True, Car=False):\n",
    "    Travel_100_KM = Bike or Car\n",
    "    \n",
    "    print(f\"You have Bike: {Bike}\")\n",
    "    print(f\"You have Car: {Car}\")\n",
    "    print(f\"You can travel 100 KMs: {Travel_100_KM}\\n\")\n",
    "    \n",
    "result = travel_or_not(False, True)\n",
    "print(f\"\\nresult:-\\n{result}\")"
   ]
  },
  {
   "cell_type": "code",
   "execution_count": 14,
   "id": "56ef9470",
   "metadata": {},
   "outputs": [
    {
     "name": "stdout",
     "output_type": "stream",
     "text": [
      "You have Bike: False\n",
      "You have car: True\n",
      "You can travel 100 Kms: True\n",
      "\n"
     ]
    }
   ],
   "source": [
    "def travel_or_not(Bike = True, Car = False):\n",
    "    Travel_100_KM = Bike or Car\n",
    "    \n",
    "    return Bike, Car, Travel_100_KM\n",
    "\n",
    "result1, result2, result3 = travel_or_not(False, True)\n",
    "print(f\"You have Bike: {result1}\")\n",
    "\n",
    "print(f\"You have car: {result2}\")\n",
    "\n",
    "print(f\"You can travel 100 Kms: {result3}\\n\")"
   ]
  },
  {
   "cell_type": "markdown",
   "id": "3b3d8463",
   "metadata": {},
   "source": [
    "### 7.4 Variable length args\n",
    "\n",
    "**EXAMPLE**:\n",
    "At some point there may be chance that you don't know how many args that you should pass. Lets check the example below -"
   ]
  },
  {
   "cell_type": "code",
   "execution_count": 15,
   "id": "d0c9d684",
   "metadata": {},
   "outputs": [
    {
     "name": "stdout",
     "output_type": "stream",
     "text": [
      "My branch was Electronics engineering\n",
      "I liked these subjects in graduation ('Digital Image Processing', 'Microprocessor')\n"
     ]
    }
   ],
   "source": [
    "def branch_and_subjects_in_graduation(*args, branch):\n",
    "    print(f\"My branch was {branch}\")\n",
    "    return f\"I liked these subjects in graduation {args}\"\n",
    "\n",
    "results = branch_and_subjects_in_graduation(\"Digital Image Processing\", \"Microprocessor\", branch=\"Electronics engineering\")\n",
    "print(results)"
   ]
  },
  {
   "cell_type": "code",
   "execution_count": 17,
   "id": "2601167d",
   "metadata": {},
   "outputs": [
    {
     "name": "stdout",
     "output_type": "stream",
     "text": [
      "(10, 20, 30, 40, 50)\n"
     ]
    }
   ],
   "source": [
    "def test(*args):\n",
    "    print(args)\n",
    "test(10,20,30,40,50)"
   ]
  },
  {
   "cell_type": "code",
   "execution_count": 18,
   "id": "62819f4d",
   "metadata": {},
   "outputs": [
    {
     "name": "stdout",
     "output_type": "stream",
     "text": [
      "My branch was Electronics engineering\n",
      "I liked these subjects in graduation ('Digital Image Processing', 'Microprocessor')\n"
     ]
    }
   ],
   "source": [
    "def branch_and_subjects_in_graduation(*args, branch=\"Electronics engineering\"):\n",
    "    print(f\"My branch was {branch}\")\n",
    "    return f\"I liked these subjects in graduation {args}\"\n",
    "\n",
    "results = branch_and_subjects_in_graduation(\"Digital Image Processing\", \"Microprocessor\")\n",
    "print(results)"
   ]
  },
  {
   "cell_type": "markdown",
   "id": "fd1d3cbb",
   "metadata": {},
   "source": [
    "### 7.5 Variable length keyword args\n",
    "\n",
    "**EXAMPLE**:\n",
    "Some times we need varying keyword arguments as shown below-"
   ]
  },
  {
   "cell_type": "code",
   "execution_count": 19,
   "id": "aa73ee13",
   "metadata": {},
   "outputs": [
    {
     "name": "stdout",
     "output_type": "stream",
     "text": [
      "{'Digital_Image_Processing': 78, 'Microprocessor': 79, 'Signals_and_systems': 83}\n"
     ]
    }
   ],
   "source": [
    "def marks_in_subjects_of_semester(**kwargs):\n",
    "    print(kwargs)\n",
    "\n",
    "marks_in_subjects_of_semester(Digital_Image_Processing = 78, Microprocessor= 79, Signals_and_systems=83)"
   ]
  },
  {
   "cell_type": "code",
   "execution_count": 20,
   "id": "36fa9613",
   "metadata": {},
   "outputs": [],
   "source": [
    "def test1(**kwargs):\n",
    "    print(kwargs)"
   ]
  },
  {
   "cell_type": "code",
   "execution_count": 21,
   "id": "570b2807",
   "metadata": {},
   "outputs": [
    {
     "name": "stdout",
     "output_type": "stream",
     "text": [
      "{'a': 10, 'b': 20, 'c': 30, 'd': 40}\n"
     ]
    }
   ],
   "source": [
    "test1(a=10,b=20,c=30,d=40)"
   ]
  },
  {
   "cell_type": "code",
   "execution_count": 22,
   "id": "933315f4",
   "metadata": {},
   "outputs": [],
   "source": [
    "A=[]\n",
    "B=()"
   ]
  },
  {
   "cell_type": "code",
   "execution_count": 24,
   "id": "7dd73f59",
   "metadata": {},
   "outputs": [
    {
     "name": "stdout",
     "output_type": "stream",
     "text": [
      "Score in Digital_Image_Processing = 78\n",
      "Score in Microprocessor = 79\n",
      "Score in Signals_and_systems = 83\n"
     ]
    }
   ],
   "source": [
    "def marks_in_subjects_of_semester(**kwargs):\n",
    "    for subject, marks in kwargs.items():\n",
    "        print(f\"Score in {subject} = {marks}\")\n",
    "\n",
    "marks_in_subjects_of_semester(Digital_Image_Processing = 78, Microprocessor= 79, Signals_and_systems=83)"
   ]
  },
  {
   "cell_type": "code",
   "execution_count": 27,
   "id": "f87490f6",
   "metadata": {},
   "outputs": [],
   "source": [
    "def akshay(**kwargs):\n",
    "    for subject, marks in kwargs.items():\n",
    "        print(f\"Score in {subject} = {marks}\")"
   ]
  },
  {
   "cell_type": "code",
   "execution_count": 24,
   "id": "b4b8d2ee",
   "metadata": {},
   "outputs": [
    {
     "name": "stdout",
     "output_type": "stream",
     "text": [
      "Score in Digital_Image_Processing = 78\n",
      "Score in Microprocessor = 79\n",
      "Score in Signals_and_systems = 83\n",
      "\n",
      "total marks obtained 240\n"
     ]
    }
   ],
   "source": [
    "def marks_in_subjects_of_semester(**kwargs):\n",
    "    def total_marks(marks_list):\n",
    "        return sum(marks_list)\n",
    "    \n",
    "    marks_list = list()\n",
    "    for subject, marks in kwargs.items():\n",
    "        marks_list.append(marks)\n",
    "        print(f\"Score in {subject} = {marks}\")\n",
    "    \n",
    "    return total_marks(marks_list)\n",
    "\n",
    "results = marks_in_subjects_of_semester(Digital_Image_Processing = 78, Microprocessor= 79, Signals_and_systems=83)\n",
    "\n",
    "print(f\"\\ntotal marks obtained {results}\")"
   ]
  },
  {
   "cell_type": "markdown",
   "id": "f38b2c66",
   "metadata": {},
   "source": [
    "### 7.7 Anonymous Function or Lambda Function\n",
    "\n",
    "**EXAMPLE**: Lets convert below example into a onliner or lambda function"
   ]
  },
  {
   "cell_type": "code",
   "execution_count": 27,
   "id": "cc8553ec",
   "metadata": {},
   "outputs": [
    {
     "name": "stdout",
     "output_type": "stream",
     "text": [
      "You have BIKE: False\n",
      "You have CAR: True\n",
      "\n",
      "results:-\n",
      "You can travel 100 KMs: True\n",
      "\n"
     ]
    }
   ],
   "source": [
    "def travel_or_not(BIKE=True, CAR=False):\n",
    "    TRAVEL_100_KM = BIKE or CAR\n",
    "\n",
    "    print(f\"You have BIKE: {BIKE}\")\n",
    "    print(f\"You have CAR: {CAR}\")\n",
    "    return f\"You can travel 100 KMs: {TRAVEL_100_KM}\\n\"\n",
    "\n",
    "\n",
    "result = travel_or_not(False, True)\n",
    "print(f\"\\nresults:-\\n{result}\")"
   ]
  },
  {
   "cell_type": "code",
   "execution_count": 28,
   "id": "82e36879",
   "metadata": {},
   "outputs": [
    {
     "name": "stdout",
     "output_type": "stream",
     "text": [
      "You have BIKE: False\n",
      "You have CAR: True\n",
      "\n",
      "results:-\n",
      "You can travel 100 KMs: True\n",
      "\n"
     ]
    }
   ],
   "source": [
    "def travel_or_not(BIKE=True, CAR=False):\n",
    "    TRAVEL_100_KM = BIKE or CAR\n",
    "\n",
    "    print(f\"You have BIKE: {BIKE}\")\n",
    "    print(f\"You have CAR: {CAR}\")\n",
    "    return f\"You can travel 100 KMs: {TRAVEL_100_KM}\\n\"\n",
    "\n",
    "\n",
    "result = travel_or_not(False, True)\n",
    "print(f\"\\nresults:-\\n{result}\")"
   ]
  },
  {
   "cell_type": "code",
   "execution_count": 29,
   "id": "a0c7ac91",
   "metadata": {},
   "outputs": [
    {
     "name": "stdout",
     "output_type": "stream",
     "text": [
      "\n",
      "results:-\n",
      "You can travel 100 KMs: True\n",
      "\n"
     ]
    }
   ],
   "source": [
    "BIKE=True\n",
    "CAR=False\n",
    "\n",
    "result = lambda BIKE, CAR: f\"You can travel 100 KMs: {BIKE or CAR}\\n\"\n",
    "print(f\"\\nresults:-\\n{result(BIKE, CAR)}\")"
   ]
  },
  {
   "cell_type": "markdown",
   "id": "c2390684",
   "metadata": {},
   "source": [
    "**EXAMPLE**\n",
    "Lets make a lambda function that returns power of an input no. It takes power and number as an input"
   ]
  },
  {
   "cell_type": "code",
   "execution_count": 31,
   "id": "5efa7e53",
   "metadata": {},
   "outputs": [
    {
     "name": "stdout",
     "output_type": "stream",
     "text": [
      "5 to the power of 3 is 125\n"
     ]
    }
   ],
   "source": [
    "number = 5\n",
    "power = 3\n",
    "result = lambda number, power: number**power\n",
    "\n",
    "print(f\"{number} to the power of {power} is {result(number, power)}\")"
   ]
  },
  {
   "cell_type": "markdown",
   "id": "4a3d3ef5",
   "metadata": {},
   "source": [
    "### 7.8 Scope of variables\n",
    "* Variables defined inside the function are known as Local variable\n",
    "\n",
    "* Global varaibles can be accessed anywhere in the script unlike local variable who's scope is defined within the function only. \n",
    "\n",
    "**EXAMPLE**"
   ]
  },
  {
   "cell_type": "code",
   "execution_count": 32,
   "id": "aee6f5aa",
   "metadata": {},
   "outputs": [
    {
     "name": "stdout",
     "output_type": "stream",
     "text": [
      "result after division inside the function: 125\n",
      "result after division outside the function: 0\n"
     ]
    }
   ],
   "source": [
    "result = 0 # outside the scope of function\n",
    "\n",
    "def divide(numerator, denominator):\n",
    "    result = numerator//denominator # result inside the scope of function\n",
    "    print(f\"result after division inside the function: {result}\")\n",
    "\n",
    "numerator = 625\n",
    "denominator = 5\n",
    "divide(numerator, denominator)\n",
    "\n",
    "print(f\"result after division outside the function: {result}\")"
   ]
  },
  {
   "cell_type": "code",
   "execution_count": 34,
   "id": "27e2f2ef",
   "metadata": {},
   "outputs": [],
   "source": [
    "### 7.9 Docstring\n",
    "\n",
    "def function():\n",
    "    \"\"\"\n",
    "    This is docstring of the function.\n",
    "    \"\"\"\n",
    "    pass\n",
    "\n"
   ]
  },
  {
   "cell_type": "markdown",
   "id": "84aedb2a",
   "metadata": {},
   "source": [
    "**EXAMPLE**"
   ]
  },
  {
   "cell_type": "code",
   "execution_count": 35,
   "id": "3a39cdac",
   "metadata": {},
   "outputs": [
    {
     "name": "stdout",
     "output_type": "stream",
     "text": [
      "5 to the power of 3 is 125\n"
     ]
    }
   ],
   "source": [
    "def find_power(number, power):\n",
    "    \"\"\"This function returns the power of the number\n",
    "\n",
    "    Args:\n",
    "        number (int): insert any integer value\n",
    "        power (int): insert any integer value\n",
    "\n",
    "    Returns:\n",
    "        integer: power of number\n",
    "    \"\"\"\n",
    "    return number**power\n",
    "\n",
    "number = 5\n",
    "power = 3\n",
    "result = find_power(number, power)\n",
    "\n",
    "print(f\"{number} to the power of {power} is {result}\")"
   ]
  },
  {
   "cell_type": "code",
   "execution_count": 36,
   "id": "05c4bef0",
   "metadata": {},
   "outputs": [
    {
     "name": "stdout",
     "output_type": "stream",
     "text": [
      "Help on function find_power in module __main__:\n",
      "\n",
      "find_power(number, power)\n",
      "    This function returns the power of the number\n",
      "    \n",
      "    Args:\n",
      "        number (int): insert any integer value\n",
      "        power (int): insert any integer value\n",
      "    \n",
      "    Returns:\n",
      "        integer: power of number\n",
      "\n"
     ]
    }
   ],
   "source": [
    "# This prints the docstring.\n",
    "# Its very good practice to write the docstring of very important function\n",
    "# It imroves code readabilty\n",
    "help(find_power)"
   ]
  },
  {
   "cell_type": "markdown",
   "id": "96f79cca",
   "metadata": {},
   "source": [
    "FUNCTIONS\n",
    "\n",
    "## ----------------------------------------------------------------------"
   ]
  },
  {
   "cell_type": "markdown",
   "id": "b83eb3a0",
   "metadata": {},
   "source": [
    "To create and use a function we have to take 2 steps:\n",
    "\n",
    "\n",
    "Function Definition: Creating or writing the body of a function is called defining it. It contains the set of statements we want to run , when the function execute.\n",
    "\n",
    "Function Call: A function never runs automatically . So to execute it’s statements we must call it"
   ]
  },
  {
   "cell_type": "code",
   "execution_count": 37,
   "id": "52214f11",
   "metadata": {},
   "outputs": [],
   "source": [
    "def function_name(param1,param2):\n",
    "    statement(s)"
   ]
  },
  {
   "cell_type": "code",
   "execution_count": 6,
   "id": "516a512d",
   "metadata": {},
   "outputs": [
    {
     "name": "stdout",
     "output_type": "stream",
     "text": [
      "200\n"
     ]
    },
    {
     "data": {
      "text/plain": [
       "30"
      ]
     },
     "execution_count": 6,
     "metadata": {},
     "output_type": "execute_result"
    }
   ],
   "source": [
    "### About Return Statement\n",
    "# - Return value\n",
    "\n",
    "# - Return multiple value\n",
    "\n",
    "# - it will stop the execution from that line itself\n",
    "\n",
    "def add(x,y):\n",
    "    a=x\n",
    "    b=y\n",
    "    c=a+b\n",
    "    #print(c)\n",
    "    mul=x*y\n",
    "    print(mul)\n",
    "    return c\n",
    "    \n",
    "add(10,20)"
   ]
  },
  {
   "cell_type": "markdown",
   "id": "0b037319",
   "metadata": {},
   "source": [
    "# Parameters Vs Argument"
   ]
  },
  {
   "cell_type": "markdown",
   "id": "6bae9ce7",
   "metadata": {},
   "source": [
    "In python, a function can have 4 type of arguments:\n",
    "* Positional Argument\n",
    "* Keywor Argument\n",
    "* Default Argument\n",
    "* Variable Lenth Argument"
   ]
  },
  {
   "cell_type": "markdown",
   "id": "3b3dd959",
   "metadata": {},
   "source": [
    "if number of argument is not maching with number of parameter then we wil get a type error."
   ]
  },
  {
   "cell_type": "markdown",
   "id": "0baec861",
   "metadata": {},
   "source": [
    "# Positional Argument"
   ]
  },
  {
   "cell_type": "code",
   "execution_count": 49,
   "id": "3fff7c00",
   "metadata": {},
   "outputs": [],
   "source": [
    "def attach(s1, s2):\n",
    "    s3 = s1+s2\n",
    "    print(\"Joined String is:\", s3)"
   ]
  },
  {
   "cell_type": "code",
   "execution_count": 50,
   "id": "d86c0ba2",
   "metadata": {},
   "outputs": [
    {
     "name": "stdout",
     "output_type": "stream",
     "text": [
      "Joined String is: GoodEvening\n"
     ]
    }
   ],
   "source": [
    "attach(\"Good\",\"Evening\")"
   ]
  },
  {
   "cell_type": "code",
   "execution_count": 52,
   "id": "db4f8b4a",
   "metadata": {},
   "outputs": [],
   "source": [
    "def grocery(name,price):\n",
    "    print(\"Item is,\",name, \"It's price is\", price)"
   ]
  },
  {
   "cell_type": "code",
   "execution_count": 53,
   "id": "251e8467",
   "metadata": {},
   "outputs": [
    {
     "name": "stdout",
     "output_type": "stream",
     "text": [
      "Item is, Breed It's price is 20\n"
     ]
    }
   ],
   "source": [
    "grocery(\"Breed\",20)"
   ]
  },
  {
   "cell_type": "code",
   "execution_count": 55,
   "id": "a5ff35b0",
   "metadata": {},
   "outputs": [
    {
     "name": "stdout",
     "output_type": "stream",
     "text": [
      "Item is, 150 It's price is Butter.\n"
     ]
    }
   ],
   "source": [
    "grocery(150,\"Butter.\")"
   ]
  },
  {
   "cell_type": "markdown",
   "id": "0dacd5a6",
   "metadata": {},
   "source": [
    "# Keyword Argument"
   ]
  },
  {
   "cell_type": "code",
   "execution_count": 1,
   "id": "f58b95ee",
   "metadata": {},
   "outputs": [],
   "source": [
    "def grocery(name,price):\n",
    "    print(\"Item is\", name,\"It's price is\",price)"
   ]
  },
  {
   "cell_type": "code",
   "execution_count": 57,
   "id": "954c2d6a",
   "metadata": {},
   "outputs": [
    {
     "name": "stdout",
     "output_type": "stream",
     "text": [
      "Item is breed It's price is 200\n"
     ]
    }
   ],
   "source": [
    "grocery(\"breed\",200)"
   ]
  },
  {
   "cell_type": "code",
   "execution_count": 58,
   "id": "e62ea18f",
   "metadata": {},
   "outputs": [
    {
     "name": "stdout",
     "output_type": "stream",
     "text": [
      "Item is 200 It's price is breed\n"
     ]
    }
   ],
   "source": [
    "grocery(200,\"breed\")"
   ]
  },
  {
   "cell_type": "code",
   "execution_count": 59,
   "id": "102c2ba8",
   "metadata": {},
   "outputs": [
    {
     "name": "stdout",
     "output_type": "stream",
     "text": [
      "Item is Breed It's price is 20\n"
     ]
    }
   ],
   "source": [
    "grocery(name=\"Breed\",price=20)"
   ]
  },
  {
   "cell_type": "code",
   "execution_count": 60,
   "id": "067b5262",
   "metadata": {},
   "outputs": [
    {
     "name": "stdout",
     "output_type": "stream",
     "text": [
      "Item is Breed It's price is 10\n"
     ]
    }
   ],
   "source": [
    "grocery(price=10,name=\"Breed\")"
   ]
  },
  {
   "cell_type": "markdown",
   "id": "3b33b781",
   "metadata": {},
   "source": [
    "A positional argument can never follow a keyword argument i.e. the keyword argument should always apper after positonal argument.\n",
    "* For example"
   ]
  },
  {
   "cell_type": "code",
   "execution_count": 63,
   "id": "c6249064",
   "metadata": {},
   "outputs": [],
   "source": [
    "def display(num1,num2):\n",
    "#     Some code\n",
    "    pass"
   ]
  },
  {
   "cell_type": "code",
   "execution_count": 64,
   "id": "1a5bd4ff",
   "metadata": {},
   "outputs": [
    {
     "ename": "SyntaxError",
     "evalue": "positional argument follows keyword argument (<ipython-input-64-ceeaba7f7e31>, line 1)",
     "output_type": "error",
     "traceback": [
      "\u001b[1;36m  File \u001b[1;32m\"<ipython-input-64-ceeaba7f7e31>\"\u001b[1;36m, line \u001b[1;32m1\u001b[0m\n\u001b[1;33m    display(num1=10,15)\u001b[0m\n\u001b[1;37m                    ^\u001b[0m\n\u001b[1;31mSyntaxError\u001b[0m\u001b[1;31m:\u001b[0m positional argument follows keyword argument\n"
     ]
    }
   ],
   "source": [
    "display(num1=10,15)"
   ]
  },
  {
   "cell_type": "code",
   "execution_count": 65,
   "id": "df7499fc",
   "metadata": {},
   "outputs": [
    {
     "ename": "TypeError",
     "evalue": "display() got multiple values for argument 'num1'",
     "output_type": "error",
     "traceback": [
      "\u001b[1;31m---------------------------------------------------------------------------\u001b[0m",
      "\u001b[1;31mTypeError\u001b[0m                                 Traceback (most recent call last)",
      "\u001b[1;32m<ipython-input-65-9cf2bbfccac5>\u001b[0m in \u001b[0;36m<module>\u001b[1;34m\u001b[0m\n\u001b[1;32m----> 1\u001b[1;33m \u001b[0mdisplay\u001b[0m\u001b[1;33m(\u001b[0m\u001b[1;36m15\u001b[0m\u001b[1;33m,\u001b[0m\u001b[0mnum1\u001b[0m\u001b[1;33m=\u001b[0m\u001b[1;36m10\u001b[0m\u001b[1;33m)\u001b[0m\u001b[1;33m\u001b[0m\u001b[1;33m\u001b[0m\u001b[0m\n\u001b[0m",
      "\u001b[1;31mTypeError\u001b[0m: display() got multiple values for argument 'num1'"
     ]
    }
   ],
   "source": [
    "display(15,num1=10)"
   ]
  },
  {
   "cell_type": "code",
   "execution_count": 66,
   "id": "72a6494c",
   "metadata": {},
   "outputs": [],
   "source": [
    "display(15,num2=10)"
   ]
  },
  {
   "cell_type": "code",
   "execution_count": 67,
   "id": "dfef91cc",
   "metadata": {},
   "outputs": [
    {
     "ename": "SyntaxError",
     "evalue": "invalid syntax (<ipython-input-67-806e4843c5f5>, line 1)",
     "output_type": "error",
     "traceback": [
      "\u001b[1;36m  File \u001b[1;32m\"<ipython-input-67-806e4843c5f5>\"\u001b[1;36m, line \u001b[1;32m1\u001b[0m\n\u001b[1;33m    def display(10,num2=15):\u001b[0m\n\u001b[1;37m                ^\u001b[0m\n\u001b[1;31mSyntaxError\u001b[0m\u001b[1;31m:\u001b[0m invalid syntax\n"
     ]
    }
   ],
   "source": [
    "def display(10,num2=15):\n",
    "    pass"
   ]
  },
  {
   "cell_type": "markdown",
   "id": "e6d39573",
   "metadata": {},
   "source": [
    "Now if we call the above the function as:\n",
    "\n",
    "Then it will be correct. But if we call it as:\n",
    "    \n",
    "Then it will be a syntax Error"
   ]
  },
  {
   "cell_type": "markdown",
   "id": "5696435d",
   "metadata": {},
   "source": [
    "# Default Argument"
   ]
  },
  {
   "cell_type": "markdown",
   "id": "df618633",
   "metadata": {},
   "source": [
    "For some function, we may to make some parameters optionl and use default value in case the user does not want to provide values for them.\n",
    "\n",
    "This is done with the help of default argument values.\n",
    "\n",
    "We can specifly default argument values for parameters by appending to the parameter name in the function definition the assignment operator (=)follwed by the default value."
   ]
  },
  {
   "cell_type": "markdown",
   "id": "b523482b",
   "metadata": {},
   "source": [
    "#Syntax:\n",
    "\n",
    "def function_name(paramname1=value,paramnname2=value:\n",
    "<!--     function body -->\n",
    "    pass"
   ]
  },
  {
   "cell_type": "code",
   "execution_count": 70,
   "id": "f58a1c98",
   "metadata": {},
   "outputs": [],
   "source": [
    "def greet(name,msg=\"Good Morning\"):\n",
    "    print(\"Hello\",name,msg)"
   ]
  },
  {
   "cell_type": "code",
   "execution_count": 71,
   "id": "4a750362",
   "metadata": {},
   "outputs": [
    {
     "name": "stdout",
     "output_type": "stream",
     "text": [
      "Hello Akshay Good Morning\n"
     ]
    }
   ],
   "source": [
    "greet(\"Akshay\")"
   ]
  },
  {
   "cell_type": "code",
   "execution_count": 72,
   "id": "6921f0c6",
   "metadata": {},
   "outputs": [
    {
     "name": "stdout",
     "output_type": "stream",
     "text": [
      "Hello Akshay How are you?\n"
     ]
    }
   ],
   "source": [
    "greet(\"Akshay\",\"How are you?\")"
   ]
  },
  {
   "cell_type": "code",
   "execution_count": 73,
   "id": "7e48445a",
   "metadata": {},
   "outputs": [],
   "source": [
    "def test(name,msg=\"there are good helth.\"):\n",
    "    print(\"Hi\",name,msg)"
   ]
  },
  {
   "cell_type": "code",
   "execution_count": 74,
   "id": "c368018c",
   "metadata": {},
   "outputs": [
    {
     "name": "stdout",
     "output_type": "stream",
     "text": [
      "Hi Akshay there are good helth\n"
     ]
    }
   ],
   "source": [
    "test(\"Akshay\")"
   ]
  },
  {
   "cell_type": "code",
   "execution_count": 75,
   "id": "06dc8ec8",
   "metadata": {},
   "outputs": [
    {
     "name": "stdout",
     "output_type": "stream",
     "text": [
      "Hi Akshay How are you\n"
     ]
    }
   ],
   "source": [
    "test(\"Akshay\",\"How are you\")"
   ]
  },
  {
   "cell_type": "markdown",
   "id": "c03e8ae7",
   "metadata": {},
   "source": [
    "A function can have any number of default argument but the once we have a default argument, all the arguments to it's right must also have default values.\n",
    "\n",
    "This means to say,non-default argument cannot follow default arguments."
   ]
  },
  {
   "cell_type": "code",
   "execution_count": 79,
   "id": "fea59cff",
   "metadata": {},
   "outputs": [
    {
     "ename": "SyntaxError",
     "evalue": "non-default argument follows default argument (<ipython-input-79-5dbf0e8aaa9f>, line 1)",
     "output_type": "error",
     "traceback": [
      "\u001b[1;36m  File \u001b[1;32m\"<ipython-input-79-5dbf0e8aaa9f>\"\u001b[1;36m, line \u001b[1;32m1\u001b[0m\n\u001b[1;33m    def greet(msg = \"Good Morning\", name):\u001b[0m\n\u001b[1;37m              ^\u001b[0m\n\u001b[1;31mSyntaxError\u001b[0m\u001b[1;31m:\u001b[0m non-default argument follows default argument\n"
     ]
    }
   ],
   "source": [
    "def greet(msg = \"Good Morning\", name):\n",
    "    print(msg,name)"
   ]
  },
  {
   "cell_type": "code",
   "execution_count": 82,
   "id": "bf1eca39",
   "metadata": {},
   "outputs": [
    {
     "ename": "SyntaxError",
     "evalue": "invalid syntax (<ipython-input-82-59cb85aa780d>, line 1)",
     "output_type": "error",
     "traceback": [
      "\u001b[1;36m  File \u001b[1;32m\"<ipython-input-82-59cb85aa780d>\"\u001b[1;36m, line \u001b[1;32m1\u001b[0m\n\u001b[1;33m    For example: if we had definned the funcction header above as:\u001b[0m\n\u001b[1;37m        ^\u001b[0m\n\u001b[1;31mSyntaxError\u001b[0m\u001b[1;31m:\u001b[0m invalid syntax\n"
     ]
    }
   ],
   "source": [
    "For example: if we had definned the funcction header above as:\n",
    "def greet(msg = \"Good morning!\", name):\n",
    "            \n",
    "Then we would have got the following syntaxError"
   ]
  },
  {
   "cell_type": "code",
   "execution_count": 83,
   "id": "3f3d7e67",
   "metadata": {},
   "outputs": [],
   "source": [
    "def show(a=10,b=20,c=30):\n",
    "    print(a,b,c)"
   ]
  },
  {
   "cell_type": "markdown",
   "id": "880496e0",
   "metadata": {},
   "source": [
    "### Excercise\n",
    "\n",
    "Write a function called cal_area( ) using default argument concept which accepts radius and pi as arguments and calculates and displays area of the Circle. The value of pi should be used as default argument and value of radius should be accepted from the user\n"
   ]
  },
  {
   "cell_type": "markdown",
   "id": "9c91be0a",
   "metadata": {},
   "source": [
    "### Function or Method Overloading"
   ]
  },
  {
   "cell_type": "markdown",
   "id": "d10104ca",
   "metadata": {},
   "source": [
    "Method or Method Overloding"
   ]
  },
  {
   "cell_type": "markdown",
   "id": "41f06637",
   "metadata": {},
   "source": [
    "Method Overloading is an example of Compile time polymorphism.In this,more than one method of the same class shares the same method name having different parameters.If a class has multiple methods having same name but different in parameters, it is known as Method Overloding.\n",
    "\n",
    "Note.Python does not support method overloding. We may overload the methods but can only use the latest defined method."
   ]
  },
  {
   "cell_type": "code",
   "execution_count": 84,
   "id": "f515448d",
   "metadata": {},
   "outputs": [],
   "source": [
    "def addnos(a,b):\n",
    "    c=a+b\n",
    "    return c"
   ]
  },
  {
   "cell_type": "code",
   "execution_count": 85,
   "id": "2b79fe91",
   "metadata": {},
   "outputs": [],
   "source": [
    "def addnos(a,b,c):\n",
    "    d=a+b+c\n",
    "    return d"
   ]
  },
  {
   "cell_type": "code",
   "execution_count": 86,
   "id": "b9907867",
   "metadata": {},
   "outputs": [],
   "source": [
    "def addnos(a,b,c,d):\n",
    "    d=a+b+c+d\n",
    "    return d"
   ]
  },
  {
   "cell_type": "code",
   "execution_count": 89,
   "id": "c5ba4e0c",
   "metadata": {},
   "outputs": [
    {
     "data": {
      "text/plain": [
       "100"
      ]
     },
     "execution_count": 89,
     "metadata": {},
     "output_type": "execute_result"
    }
   ],
   "source": [
    "addnos(10,20,30,40)"
   ]
  },
  {
   "cell_type": "code",
   "execution_count": 90,
   "id": "642e4594",
   "metadata": {},
   "outputs": [
    {
     "ename": "TypeError",
     "evalue": "addnos() missing 2 required positional arguments: 'c' and 'd'",
     "output_type": "error",
     "traceback": [
      "\u001b[1;31m---------------------------------------------------------------------------\u001b[0m",
      "\u001b[1;31mTypeError\u001b[0m                                 Traceback (most recent call last)",
      "\u001b[1;32m<ipython-input-90-558dd2dcd99f>\u001b[0m in \u001b[0;36m<module>\u001b[1;34m\u001b[0m\n\u001b[1;32m----> 1\u001b[1;33m \u001b[0mprint\u001b[0m\u001b[1;33m(\u001b[0m\u001b[0maddnos\u001b[0m\u001b[1;33m(\u001b[0m\u001b[1;36m10\u001b[0m\u001b[1;33m,\u001b[0m\u001b[1;36m20\u001b[0m\u001b[1;33m)\u001b[0m\u001b[1;33m)\u001b[0m\u001b[1;33m\u001b[0m\u001b[1;33m\u001b[0m\u001b[0m\n\u001b[0m",
      "\u001b[1;31mTypeError\u001b[0m: addnos() missing 2 required positional arguments: 'c' and 'd'"
     ]
    }
   ],
   "source": [
    "print(addnos(10,20))"
   ]
  },
  {
   "cell_type": "code",
   "execution_count": 91,
   "id": "fc4b4267",
   "metadata": {},
   "outputs": [
    {
     "ename": "TypeError",
     "evalue": "addnos() missing 1 required positional argument: 'd'",
     "output_type": "error",
     "traceback": [
      "\u001b[1;31m---------------------------------------------------------------------------\u001b[0m",
      "\u001b[1;31mTypeError\u001b[0m                                 Traceback (most recent call last)",
      "\u001b[1;32m<ipython-input-91-9a7f5102499a>\u001b[0m in \u001b[0;36m<module>\u001b[1;34m\u001b[0m\n\u001b[1;32m----> 1\u001b[1;33m \u001b[0mprint\u001b[0m\u001b[1;33m(\u001b[0m\u001b[0maddnos\u001b[0m\u001b[1;33m(\u001b[0m\u001b[1;36m10\u001b[0m\u001b[1;33m,\u001b[0m\u001b[1;36m20\u001b[0m\u001b[1;33m,\u001b[0m\u001b[1;36m30\u001b[0m\u001b[1;33m)\u001b[0m\u001b[1;33m)\u001b[0m\u001b[1;33m\u001b[0m\u001b[1;33m\u001b[0m\u001b[0m\n\u001b[0m",
      "\u001b[1;31mTypeError\u001b[0m: addnos() missing 1 required positional argument: 'd'"
     ]
    }
   ],
   "source": [
    "print(addnos(10,20,30))"
   ]
  },
  {
   "cell_type": "markdown",
   "id": "192bf0cf",
   "metadata": {},
   "source": [
    "The error occurred because python does not support Function or method Overloding\n",
    "\n",
    "Moreover Python understands the latest definition of a function addnos( ) which takes 3 arguments \n",
    "\n",
    "Now since we passed 2 arguments only , the call generated error because Python tried to call the method with 3 arguments"
   ]
  },
  {
   "cell_type": "markdown",
   "id": "029c4788",
   "metadata": {},
   "source": [
    "# Variable Length Arguments"
   ]
  },
  {
   "cell_type": "markdown",
   "id": "508e537b",
   "metadata": {},
   "source": [
    "The solution to ths problem is a technique called variable length arguments.\n",
    "\n",
    "In this technique, we define the function in such a way that it can accept any number of arguments from 0 to infinite."
   ]
  },
  {
   "cell_type": "code",
   "execution_count": 145,
   "id": "d4a35635",
   "metadata": {},
   "outputs": [],
   "source": [
    "def test(*akshay):\n",
    "    print(akshay)\n",
    "    print(type(akshay))"
   ]
  },
  {
   "cell_type": "code",
   "execution_count": 146,
   "id": "c49062bf",
   "metadata": {},
   "outputs": [
    {
     "name": "stdout",
     "output_type": "stream",
     "text": [
      "(10,)\n",
      "<class 'tuple'>\n"
     ]
    }
   ],
   "source": [
    "test(10)"
   ]
  },
  {
   "cell_type": "code",
   "execution_count": 147,
   "id": "edda9e90",
   "metadata": {},
   "outputs": [
    {
     "name": "stdout",
     "output_type": "stream",
     "text": [
      "(10, 20)\n",
      "<class 'tuple'>\n"
     ]
    }
   ],
   "source": [
    "test(10,20)"
   ]
  },
  {
   "cell_type": "code",
   "execution_count": 148,
   "id": "aca4fba4",
   "metadata": {},
   "outputs": [
    {
     "name": "stdout",
     "output_type": "stream",
     "text": [
      "(10, 20, 30)\n",
      "<class 'tuple'>\n"
     ]
    }
   ],
   "source": [
    "test(10,20,30)"
   ]
  },
  {
   "cell_type": "code",
   "execution_count": 132,
   "id": "eced0a76",
   "metadata": {},
   "outputs": [],
   "source": [
    "def addnos(*a):\n",
    "    sum = 0\n",
    "    for x in a:\n",
    "        sum = sum + x\n",
    "    return sum"
   ]
  },
  {
   "cell_type": "code",
   "execution_count": 135,
   "id": "233fed7a",
   "metadata": {},
   "outputs": [
    {
     "name": "stdout",
     "output_type": "stream",
     "text": [
      "30\n",
      "60\n",
      "60\n"
     ]
    }
   ],
   "source": [
    "print(addnos(10,20))\n",
    "print(addnos(10,20,30))\n",
    "print(addnos(10,20,30))"
   ]
  },
  {
   "cell_type": "code",
   "execution_count": 137,
   "id": "8c33c25c",
   "metadata": {},
   "outputs": [
    {
     "data": {
      "text/plain": [
       "int"
      ]
     },
     "execution_count": 137,
     "metadata": {},
     "output_type": "execute_result"
    }
   ],
   "source": [
    "type(10)"
   ]
  },
  {
   "cell_type": "code",
   "execution_count": 138,
   "id": "4d39325d",
   "metadata": {},
   "outputs": [
    {
     "data": {
      "text/plain": [
       "int"
      ]
     },
     "execution_count": 138,
     "metadata": {},
     "output_type": "execute_result"
    }
   ],
   "source": [
    "type((10))"
   ]
  },
  {
   "cell_type": "code",
   "execution_count": 139,
   "id": "e13a4ca6",
   "metadata": {},
   "outputs": [
    {
     "data": {
      "text/plain": [
       "tuple"
      ]
     },
     "execution_count": 139,
     "metadata": {},
     "output_type": "execute_result"
    }
   ],
   "source": [
    "type((10,))"
   ]
  },
  {
   "cell_type": "markdown",
   "id": "24c1710c",
   "metadata": {},
   "source": [
    "# Method Overriding"
   ]
  },
  {
   "cell_type": "markdown",
   "id": "68e2002f",
   "metadata": {},
   "source": [
    "Method overriding ia an ability of any object-oriented proframming language that allows a subclass or child class to provide a specific implementation of a method that is alredy provided by one of its super-classes or parent classes."
   ]
  },
  {
   "cell_type": "code",
   "execution_count": 151,
   "id": "15e1ac4e",
   "metadata": {},
   "outputs": [],
   "source": [
    "# definig parent class\n",
    "class Animal():\n",
    "    \n",
    "    # constructor\n",
    "    def _init_(self):\n",
    "        self.value = \"Inside parent\"\n",
    "        \n",
    "    # parent's show method\n",
    "    def show(self):\n",
    "        print(self.value)\n",
    "        \n",
    "    def eat(self):\n",
    "        pass"
   ]
  },
  {
   "cell_type": "code",
   "execution_count": 152,
   "id": "18fc0f14",
   "metadata": {},
   "outputs": [],
   "source": [
    "# Defining child class\n",
    "class Dog(Animal):\n",
    "    \n",
    "    #Contructor\n",
    "    def _init_(self):\n",
    "        self.value = \"Inside child\"\n",
    "        \n",
    "    #Child's show method\n",
    "    def show(self):\n",
    "        print(self.value)\n",
    "        \n",
    "    def eat(self):\n",
    "        pass"
   ]
  },
  {
   "cell_type": "code",
   "execution_count": 153,
   "id": "75ace932",
   "metadata": {},
   "outputs": [
    {
     "ename": "NameError",
     "evalue": "name 'parent' is not defined",
     "output_type": "error",
     "traceback": [
      "\u001b[1;31m---------------------------------------------------------------------------\u001b[0m",
      "\u001b[1;31mNameError\u001b[0m                                 Traceback (most recent call last)",
      "\u001b[1;32m<ipython-input-153-0d5327bc30a6>\u001b[0m in \u001b[0;36m<module>\u001b[1;34m\u001b[0m\n\u001b[0;32m      1\u001b[0m \u001b[1;31m# Driver's code\u001b[0m\u001b[1;33m\u001b[0m\u001b[1;33m\u001b[0m\u001b[1;33m\u001b[0m\u001b[0m\n\u001b[1;32m----> 2\u001b[1;33m \u001b[0mobj1\u001b[0m \u001b[1;33m=\u001b[0m \u001b[0mparent\u001b[0m\u001b[1;33m(\u001b[0m\u001b[1;33m)\u001b[0m\u001b[1;33m\u001b[0m\u001b[1;33m\u001b[0m\u001b[0m\n\u001b[0m\u001b[0;32m      3\u001b[0m \u001b[0mobj2\u001b[0m \u001b[1;33m=\u001b[0m \u001b[0mChild\u001b[0m\u001b[1;33m(\u001b[0m\u001b[1;33m)\u001b[0m\u001b[1;33m\u001b[0m\u001b[1;33m\u001b[0m\u001b[0m\n\u001b[0;32m      4\u001b[0m \u001b[1;33m\u001b[0m\u001b[0m\n\u001b[0;32m      5\u001b[0m \u001b[0mobj1\u001b[0m\u001b[1;33m.\u001b[0m\u001b[0mshow\u001b[0m\u001b[1;33m(\u001b[0m\u001b[1;33m)\u001b[0m\u001b[1;33m\u001b[0m\u001b[1;33m\u001b[0m\u001b[0m\n",
      "\u001b[1;31mNameError\u001b[0m: name 'parent' is not defined"
     ]
    }
   ],
   "source": [
    "# Driver's code\n",
    "obj1 = parent()\n",
    "obj2 = Child()\n",
    "\n",
    "obj1.show()\n",
    "obj2.show()"
   ]
  },
  {
   "cell_type": "markdown",
   "id": "6b85c069",
   "metadata": {},
   "source": [
    "# Exercise"
   ]
  },
  {
   "cell_type": "markdown",
   "id": "c84476b8",
   "metadata": {},
   "source": [
    "Write a function called find_largest() which accepts multiple string as argument and return the length of the largest string."
   ]
  },
  {
   "cell_type": "code",
   "execution_count": 154,
   "id": "be2459a2",
   "metadata": {},
   "outputs": [
    {
     "ename": "IndentationError",
     "evalue": "unexpected indent (<ipython-input-154-de6e0aebea3c>, line 2)",
     "output_type": "error",
     "traceback": [
      "\u001b[1;36m  File \u001b[1;32m\"<ipython-input-154-de6e0aebea3c>\"\u001b[1;36m, line \u001b[1;32m2\u001b[0m\n\u001b[1;33m    def addnos(*a,*b):\u001b[0m\n\u001b[1;37m    ^\u001b[0m\n\u001b[1;31mIndentationError\u001b[0m\u001b[1;31m:\u001b[0m unexpected indent\n"
     ]
    }
   ],
   "source": [
    "# A function cannot gave 2 variable length arguments. So the following is wrong:\n",
    " def addnos(*a,*b):\n",
    "        pass"
   ]
  },
  {
   "cell_type": "code",
   "execution_count": 32,
   "id": "0764e74e",
   "metadata": {},
   "outputs": [],
   "source": [
    "# If we have any other argument along variable length, then it should be set before the variable lenth argument\n",
    "def addnos(n,*a):\n",
    "    sum = n\n",
    "    print(n)\n",
    "    print(a)\n",
    "    for x in a:\n",
    "        sum = sum + x\n",
    "    return sum"
   ]
  },
  {
   "cell_type": "code",
   "execution_count": 156,
   "id": "58aa1bab",
   "metadata": {},
   "outputs": [
    {
     "name": "stdout",
     "output_type": "stream",
     "text": [
      "10\n",
      "(20, 30)\n",
      "60\n"
     ]
    }
   ],
   "source": [
    "print(addnos(10,20,30))"
   ]
  },
  {
   "cell_type": "code",
   "execution_count": 157,
   "id": "8b5ae5cb",
   "metadata": {},
   "outputs": [
    {
     "name": "stdout",
     "output_type": "stream",
     "text": [
      "10\n",
      "(20, 30)\n",
      "60\n"
     ]
    }
   ],
   "source": [
    "print(addnos(10,20,30))"
   ]
  },
  {
   "cell_type": "code",
   "execution_count": 158,
   "id": "1d54a906",
   "metadata": {},
   "outputs": [],
   "source": [
    "# If we set the argument used variable lenh argument, after the variable length argument then while calling it, we must pass it as keyword argument.\n",
    "def addnos(*a,n):\n",
    "    print(a)\n",
    "    print(n)\n",
    "    sum = n\n",
    "    for x in a:\n",
    "        sum = sum+x\n",
    "    return sum"
   ]
  },
  {
   "cell_type": "code",
   "execution_count": 159,
   "id": "bf48f8d8",
   "metadata": {},
   "outputs": [
    {
     "name": "stdout",
     "output_type": "stream",
     "text": [
      "(20, 30)\n",
      "40\n"
     ]
    },
    {
     "data": {
      "text/plain": [
       "90"
      ]
     },
     "execution_count": 159,
     "metadata": {},
     "output_type": "execute_result"
    }
   ],
   "source": [
    "addnos(20,30,n=40)"
   ]
  },
  {
   "cell_type": "code",
   "execution_count": 160,
   "id": "8ac6b10f",
   "metadata": {},
   "outputs": [
    {
     "name": "stdout",
     "output_type": "stream",
     "text": [
      "(20, 30)\n",
      "10\n"
     ]
    },
    {
     "data": {
      "text/plain": [
       "60"
      ]
     },
     "execution_count": 160,
     "metadata": {},
     "output_type": "execute_result"
    }
   ],
   "source": [
    "addnos(20,30,n=10)"
   ]
  },
  {
   "cell_type": "code",
   "execution_count": 161,
   "id": "3ecf3551",
   "metadata": {},
   "outputs": [
    {
     "name": "stdout",
     "output_type": "stream",
     "text": [
      "(20, 30, 40)\n",
      "10\n",
      "100\n"
     ]
    }
   ],
   "source": [
    "print(addnos(20,30,40,n=10))"
   ]
  },
  {
   "cell_type": "markdown",
   "id": "ecf6b007",
   "metadata": {},
   "source": [
    "# User Defined Function"
   ]
  },
  {
   "cell_type": "markdown",
   "id": "39be2323",
   "metadata": {},
   "source": [
    "Variable Scope\n",
    "\n",
    "Local Scope\n",
    "\n",
    "Global Scope\n",
    "\n",
    "Argument Passing"
   ]
  },
  {
   "cell_type": "markdown",
   "id": "c80e7ae5",
   "metadata": {},
   "source": [
    "* Local : Inside a function body.\n",
    "* Enclosing: Inside an outer's body. We will discuss it\n",
    "later\n",
    "* Global: At the module level\n",
    "* Built In: At interpreter level"
   ]
  },
  {
   "cell_type": "code",
   "execution_count": 1,
   "id": "31a76d2f",
   "metadata": {},
   "outputs": [
    {
     "name": "stdout",
     "output_type": "stream",
     "text": [
      "I love python\n"
     ]
    }
   ],
   "source": [
    "s = \"I love python\" # Global variable\n",
    "def f():\n",
    "    print(s)\n",
    "f()"
   ]
  },
  {
   "cell_type": "code",
   "execution_count": 2,
   "id": "9d5a57a6",
   "metadata": {},
   "outputs": [
    {
     "ename": "NameError",
     "evalue": "name 'indentation' is not defined",
     "output_type": "error",
     "traceback": [
      "\u001b[1;31m---------------------------------------------------------------------------\u001b[0m",
      "\u001b[1;31mNameError\u001b[0m                                 Traceback (most recent call last)",
      "\u001b[1;32m<ipython-input-2-ca799582ddf1>\u001b[0m in \u001b[0;36m<module>\u001b[1;34m\u001b[0m\n\u001b[1;32m----> 1\u001b[1;33m \u001b[0mindentation\u001b[0m\u001b[1;33m\u001b[0m\u001b[1;33m\u001b[0m\u001b[0m\n\u001b[0m\u001b[0;32m      2\u001b[0m \u001b[1;33m\u001b[0m\u001b[0m\n\u001b[0;32m      3\u001b[0m \u001b[1;32mdef\u001b[0m \u001b[0mtest\u001b[0m\u001b[1;33m(\u001b[0m\u001b[1;33m)\u001b[0m\u001b[1;33m:\u001b[0m\u001b[1;33m\u001b[0m\u001b[1;33m\u001b[0m\u001b[0m\n\u001b[0;32m      4\u001b[0m     \u001b[0madcd\u001b[0m\u001b[1;33m\u001b[0m\u001b[1;33m\u001b[0m\u001b[0m\n\u001b[0;32m      5\u001b[0m     \u001b[0mascs\u001b[0m\u001b[1;33m\u001b[0m\u001b[1;33m\u001b[0m\u001b[0m\n",
      "\u001b[1;31mNameError\u001b[0m: name 'indentation' is not defined"
     ]
    }
   ],
   "source": [
    "indentation\n",
    "\n",
    "def test():\n",
    "    adcd\n",
    "    ascs\n",
    "    sdfds\n",
    "    sdcsd\n",
    "sdksak"
   ]
  },
  {
   "cell_type": "code",
   "execution_count": 3,
   "id": "b4634a8e",
   "metadata": {},
   "outputs": [
    {
     "name": "stdout",
     "output_type": "stream",
     "text": [
      "I love python\n"
     ]
    }
   ],
   "source": [
    "def f():\n",
    "    print(s)\n",
    "s = \"I love python\" # global or local\n",
    "f()"
   ]
  },
  {
   "cell_type": "code",
   "execution_count": 4,
   "id": "d131c9b1",
   "metadata": {},
   "outputs": [
    {
     "ename": "NameError",
     "evalue": "name 'p' is not defined",
     "output_type": "error",
     "traceback": [
      "\u001b[1;31m---------------------------------------------------------------------------\u001b[0m",
      "\u001b[1;31mNameError\u001b[0m                                 Traceback (most recent call last)",
      "\u001b[1;32m<ipython-input-4-c375c91230e5>\u001b[0m in \u001b[0;36m<module>\u001b[1;34m\u001b[0m\n\u001b[0;32m      1\u001b[0m \u001b[1;32mdef\u001b[0m \u001b[0mf\u001b[0m\u001b[1;33m(\u001b[0m\u001b[1;33m)\u001b[0m\u001b[1;33m:\u001b[0m\u001b[1;33m\u001b[0m\u001b[1;33m\u001b[0m\u001b[0m\n\u001b[0;32m      2\u001b[0m     \u001b[0mprint\u001b[0m\u001b[1;33m(\u001b[0m\u001b[0mp\u001b[0m\u001b[1;33m)\u001b[0m\u001b[1;33m\u001b[0m\u001b[1;33m\u001b[0m\u001b[0m\n\u001b[1;32m----> 3\u001b[1;33m \u001b[0mf\u001b[0m\u001b[1;33m(\u001b[0m\u001b[1;33m)\u001b[0m\u001b[1;33m\u001b[0m\u001b[1;33m\u001b[0m\u001b[0m\n\u001b[0m\u001b[0;32m      4\u001b[0m \u001b[0mp\u001b[0m \u001b[1;33m=\u001b[0m \u001b[1;34m\"I love python\"\u001b[0m\u001b[1;33m\u001b[0m\u001b[1;33m\u001b[0m\u001b[0m\n",
      "\u001b[1;32m<ipython-input-4-c375c91230e5>\u001b[0m in \u001b[0;36mf\u001b[1;34m()\u001b[0m\n\u001b[0;32m      1\u001b[0m \u001b[1;32mdef\u001b[0m \u001b[0mf\u001b[0m\u001b[1;33m(\u001b[0m\u001b[1;33m)\u001b[0m\u001b[1;33m:\u001b[0m\u001b[1;33m\u001b[0m\u001b[1;33m\u001b[0m\u001b[0m\n\u001b[1;32m----> 2\u001b[1;33m     \u001b[0mprint\u001b[0m\u001b[1;33m(\u001b[0m\u001b[0mp\u001b[0m\u001b[1;33m)\u001b[0m\u001b[1;33m\u001b[0m\u001b[1;33m\u001b[0m\u001b[0m\n\u001b[0m\u001b[0;32m      3\u001b[0m \u001b[0mf\u001b[0m\u001b[1;33m(\u001b[0m\u001b[1;33m)\u001b[0m\u001b[1;33m\u001b[0m\u001b[1;33m\u001b[0m\u001b[0m\n\u001b[0;32m      4\u001b[0m \u001b[0mp\u001b[0m \u001b[1;33m=\u001b[0m \u001b[1;34m\"I love python\"\u001b[0m\u001b[1;33m\u001b[0m\u001b[1;33m\u001b[0m\u001b[0m\n",
      "\u001b[1;31mNameError\u001b[0m: name 'p' is not defined"
     ]
    }
   ],
   "source": [
    "def f():\n",
    "    print(p)\n",
    "f()\n",
    "p = \"I love python\""
   ]
  },
  {
   "cell_type": "code",
   "execution_count": 5,
   "id": "906d12a4",
   "metadata": {},
   "outputs": [
    {
     "name": "stdout",
     "output_type": "stream",
     "text": [
      "I loe python\n"
     ]
    }
   ],
   "source": [
    "def f():\n",
    "    s = \"I loe python\" # local variable\n",
    "    print(s)\n",
    "f()"
   ]
  },
  {
   "cell_type": "code",
   "execution_count": 6,
   "id": "4a4dc729",
   "metadata": {},
   "outputs": [
    {
     "name": "stdout",
     "output_type": "stream",
     "text": [
      "I Love python\n"
     ]
    },
    {
     "ename": "NameError",
     "evalue": "name 's1' is not defined",
     "output_type": "error",
     "traceback": [
      "\u001b[1;31m---------------------------------------------------------------------------\u001b[0m",
      "\u001b[1;31mNameError\u001b[0m                                 Traceback (most recent call last)",
      "\u001b[1;32m<ipython-input-6-48c8d8002c80>\u001b[0m in \u001b[0;36m<module>\u001b[1;34m\u001b[0m\n\u001b[0;32m      3\u001b[0m     \u001b[0mprint\u001b[0m\u001b[1;33m(\u001b[0m\u001b[0ms1\u001b[0m\u001b[1;33m)\u001b[0m\u001b[1;33m\u001b[0m\u001b[1;33m\u001b[0m\u001b[0m\n\u001b[0;32m      4\u001b[0m \u001b[0mf\u001b[0m\u001b[1;33m(\u001b[0m\u001b[1;33m)\u001b[0m\u001b[1;33m\u001b[0m\u001b[1;33m\u001b[0m\u001b[0m\n\u001b[1;32m----> 5\u001b[1;33m \u001b[0mprint\u001b[0m\u001b[1;33m(\u001b[0m\u001b[0ms1\u001b[0m\u001b[1;33m)\u001b[0m\u001b[1;33m\u001b[0m\u001b[1;33m\u001b[0m\u001b[0m\n\u001b[0m",
      "\u001b[1;31mNameError\u001b[0m: name 's1' is not defined"
     ]
    }
   ],
   "source": [
    "def f():\n",
    "    s1 = \"I Love python\" #Local variable\n",
    "    print(s1)\n",
    "f()\n",
    "print(s1)"
   ]
  },
  {
   "cell_type": "code",
   "execution_count": 7,
   "id": "ffa47e0c",
   "metadata": {},
   "outputs": [
    {
     "name": "stdout",
     "output_type": "stream",
     "text": [
      "I love c\n",
      "2656407084464\n",
      "I love python\n",
      "2656407084720\n"
     ]
    }
   ],
   "source": [
    "s2 = \"I love python\"\n",
    "def f():\n",
    "    s2 = \"I love c\"\n",
    "    print(s2)\n",
    "    print(id(s2))\n",
    "f()\n",
    "print(s2)\n",
    "print(id(s2))"
   ]
  },
  {
   "cell_type": "code",
   "execution_count": 8,
   "id": "78094293",
   "metadata": {},
   "outputs": [
    {
     "name": "stdout",
     "output_type": "stream",
     "text": [
      "I love c\n",
      "I love c\n"
     ]
    }
   ],
   "source": [
    "def f():\n",
    "    global p1\n",
    "    p1 = \"I love c\"\n",
    "    print(p1)\n",
    "    # print(id(p))\n",
    "f()\n",
    "print(p1)"
   ]
  },
  {
   "cell_type": "code",
   "execution_count": 10,
   "id": "15dcbef3",
   "metadata": {},
   "outputs": [
    {
     "name": "stdout",
     "output_type": "stream",
     "text": [
      "I love c\n"
     ]
    }
   ],
   "source": [
    "print(p1)"
   ]
  },
  {
   "cell_type": "code",
   "execution_count": 11,
   "id": "e6ae259f",
   "metadata": {},
   "outputs": [
    {
     "name": "stdout",
     "output_type": "stream",
     "text": [
      "I love c\n",
      "2656407112496\n",
      "I love python\n",
      "2656407112944\n"
     ]
    }
   ],
   "source": [
    "s1 = \"I love python\"\n",
    "def f():\n",
    "    s1 = \"I love c\"\n",
    "    print(s1)\n",
    "    print(id(s1))\n",
    "    \n",
    "f()\n",
    "print(s1)\n",
    "print(id(s1))\n"
   ]
  },
  {
   "cell_type": "code",
   "execution_count": 12,
   "id": "71512cd3",
   "metadata": {},
   "outputs": [
    {
     "name": "stdout",
     "output_type": "stream",
     "text": [
      "I love c\n",
      "2656407119984\n",
      "I love c\n",
      "2656407119984\n"
     ]
    }
   ],
   "source": [
    "s= \"I love python\"\n",
    "def f():\n",
    "    global s\n",
    "    s = \"I love c\"\n",
    "    print(s)\n",
    "    print(id(s))\n",
    "f()\n",
    "print(s)\n",
    "print(id(s))"
   ]
  },
  {
   "cell_type": "code",
   "execution_count": 13,
   "id": "76bc068c",
   "metadata": {},
   "outputs": [
    {
     "name": "stdout",
     "output_type": "stream",
     "text": [
      "I love c\n",
      "I love c\n",
      "I love c\n"
     ]
    }
   ],
   "source": [
    "def f():\n",
    "    global s\n",
    "    print(s)\n",
    "    s=\"I love c\"\n",
    "    print(s)\n",
    "f()\n",
    "print(s)"
   ]
  },
  {
   "cell_type": "code",
   "execution_count": 16,
   "id": "aadf0b87",
   "metadata": {},
   "outputs": [
    {
     "name": "stdout",
     "output_type": "stream",
     "text": [
      "global :  1\n",
      "Inside f() :  1\n",
      "global :  1\n",
      "Inside g() :  2\n",
      "global :  1\n",
      "Inside h() :  3\n",
      "global :  3\n"
     ]
    }
   ],
   "source": [
    "a= 1\n",
    "def f():\n",
    "    print('Inside f() : ', a)\n",
    "def g():\n",
    "    a = 2\n",
    "    print('Inside g() : ', a)\n",
    "def h():\n",
    "    global a\n",
    "    a= 3\n",
    "    print('Inside h() : ', a)\n",
    "\n",
    "print('global : ', a)\n",
    "f()\n",
    "print('global : ', a)\n",
    "g()\n",
    "print('global : ', a)\n",
    "h()\n",
    "print('global : ', a)"
   ]
  },
  {
   "cell_type": "markdown",
   "id": "8d697ca1",
   "metadata": {},
   "source": [
    "* Lambda Function\n",
    "* The map() Function\n",
    "* The filter() Function\n",
    "* Using map() and filter() with Lambda Expressions"
   ]
  },
  {
   "cell_type": "markdown",
   "id": "292fcc17",
   "metadata": {},
   "source": [
    "# What is Anonymous Function\n",
    "An anonymous function is a function is defined without a name"
   ]
  },
  {
   "cell_type": "markdown",
   "id": "92f548f3",
   "metadata": {},
   "source": [
    "# Difference between anonymous function and normal function\n",
    "While normal normal function are defined using the def keyword, we define anonymous function using the lambda keyword."
   ]
  },
  {
   "cell_type": "markdown",
   "id": "81f0b160",
   "metadata": {},
   "source": [
    "Syntax: lambda [arg1,arg2,..]:[expression]"
   ]
  },
  {
   "cell_type": "markdown",
   "id": "dead018f",
   "metadata": {},
   "source": [
    "lambda is a keyword/operator and can have any number of arguments.\n",
    "\n",
    "But it can have only one expression. \n",
    "\n",
    "Python evaluates the expression and returns the result automatically"
   ]
  },
  {
   "cell_type": "markdown",
   "id": "d1da274f",
   "metadata": {},
   "source": [
    "An expression here is anything that can return some value.\n",
    "\n",
    "The following items qualify as expressions.\n",
    "\n",
    "Arithmetic operations like a+b and a**b\n",
    "\n",
    "Function calls like sum(a,b)\n",
    "\n",
    "A print statement like print(“Hello”)"
   ]
  },
  {
   "cell_type": "markdown",
   "id": "2c614938",
   "metadata": {},
   "source": [
    "Assignment statements cannot be used in lambda , because they don’t return anything, not even None (null).\n",
    "\n",
    "Simple things such as mathematical operations, string operations etc. are OK in a lambda.\n",
    "\n",
    "Function calls are expressions, so it’s OK to put a function call in a lambda, and to pass arguments to that function. \n",
    "\n",
    "Even functions that return None, like the print function in Python 3, can be used in a lambda.\n",
    "\n",
    "Single line if – else is also allowed as it also evaluates the condition and returns the result of true or false expression"
   ]
  },
  {
   "cell_type": "code",
   "execution_count": 1,
   "id": "25ede5e8",
   "metadata": {},
   "outputs": [],
   "source": [
    "# Suppose, we to make a function which will calculate sum of two numbers.\n",
    "# In normal approch we will do as shown below:\n",
    "def add(a,b):\n",
    "    return a+b"
   ]
  },
  {
   "cell_type": "code",
   "execution_count": 2,
   "id": "4fa78b99",
   "metadata": {},
   "outputs": [
    {
     "data": {
      "text/plain": [
       "30"
      ]
     },
     "execution_count": 2,
     "metadata": {},
     "output_type": "execute_result"
    }
   ],
   "source": [
    "add(10,20)"
   ]
  },
  {
   "cell_type": "code",
   "execution_count": 3,
   "id": "7ee53845",
   "metadata": {},
   "outputs": [
    {
     "name": "stdout",
     "output_type": "stream",
     "text": [
      "30\n"
     ]
    }
   ],
   "source": [
    "# In case of lambda function we will write it as\n",
    "print((lambda a,b:a+b)(10,20))"
   ]
  },
  {
   "cell_type": "markdown",
   "id": "e82cf838",
   "metadata": {},
   "source": [
    "A very common doubt is that when we can define our functions using def keyword , then why we require lambda functions ?\n",
    "\n",
    "The most common use for lambda functions is in code that requires a simple one-line function, where it would be an overkill to write a complete normal function.\n",
    "\n",
    "We will explore it in more detail when we will discuss two very important functions in Python called map( ) and filter( )"
   ]
  },
  {
   "cell_type": "markdown",
   "id": "683b91bf",
   "metadata": {},
   "source": [
    "There are 2 ways to use a Lambda Function.\n",
    "\n",
    "\n",
    "- Using it anonymously in inline mode\n",
    "\n",
    "- Using it by assigning it to a variable"
   ]
  },
  {
   "cell_type": "code",
   "execution_count": 4,
   "id": "8b04f5bc",
   "metadata": {},
   "outputs": [
    {
     "name": "stdout",
     "output_type": "stream",
     "text": [
      "5\n"
     ]
    }
   ],
   "source": [
    "# using it as anonymous function\n",
    "print((lambda a,b: a+b)(2,3))"
   ]
  },
  {
   "cell_type": "code",
   "execution_count": 5,
   "id": "20ab6128",
   "metadata": {},
   "outputs": [],
   "source": [
    "# Using it by assigning it to a veriable\n",
    "sum = lambda a,b: a+b"
   ]
  },
  {
   "cell_type": "code",
   "execution_count": 6,
   "id": "0da5a142",
   "metadata": {},
   "outputs": [
    {
     "name": "stdout",
     "output_type": "stream",
     "text": [
      "4\n"
     ]
    }
   ],
   "source": [
    "print(sum(2,2))"
   ]
  },
  {
   "cell_type": "code",
   "execution_count": 7,
   "id": "3656b3eb",
   "metadata": {},
   "outputs": [
    {
     "name": "stdout",
     "output_type": "stream",
     "text": [
      "14\n"
     ]
    }
   ],
   "source": [
    "print(sum(5,9))"
   ]
  },
  {
   "cell_type": "markdown",
   "id": "091e9762",
   "metadata": {},
   "source": [
    "What is happening in this code ?\n",
    "\n",
    "The statement lambda a,b:a+b , \n",
    "\n",
    "is creating a FUNCTION OBJECT\n",
    "\n",
    "and returning that object . The\n",
    "\n",
    "variable sum is referring to that\n",
    "\n",
    "object. Now when we write sum(2,3), it behaves like function call\n"
   ]
  },
  {
   "cell_type": "code",
   "execution_count": 8,
   "id": "b3d880aa",
   "metadata": {},
   "outputs": [
    {
     "name": "stdout",
     "output_type": "stream",
     "text": [
      "<class 'function'>\n",
      "<function <lambda> at 0x000002CF877971F0>\n"
     ]
    }
   ],
   "source": [
    "sum = lambda a,b: a+b\n",
    "\n",
    "print(type(sum))\n",
    "print(sum)"
   ]
  },
  {
   "cell_type": "code",
   "execution_count": 10,
   "id": "09802130",
   "metadata": {},
   "outputs": [
    {
     "name": "stdout",
     "output_type": "stream",
     "text": [
      "625\n",
      "100\n"
     ]
    }
   ],
   "source": [
    "squareit=lambda a: a*a\n",
    "\n",
    "print(squareit(25))\n",
    "print(squareit(10))"
   ]
  },
  {
   "cell_type": "code",
   "execution_count": 12,
   "id": "03823493",
   "metadata": {},
   "outputs": [],
   "source": [
    "import math\n",
    "\n",
    "squr=lambda a:math.sqrt(a)"
   ]
  },
  {
   "cell_type": "code",
   "execution_count": 13,
   "id": "87e3b34f",
   "metadata": {},
   "outputs": [
    {
     "data": {
      "text/plain": [
       "5.0"
      ]
     },
     "execution_count": 13,
     "metadata": {},
     "output_type": "execute_result"
    }
   ],
   "source": [
    "squr(25)"
   ]
  },
  {
   "cell_type": "code",
   "execution_count": 14,
   "id": "e67a7cb1",
   "metadata": {},
   "outputs": [],
   "source": [
    "st=lambda str:str[0]"
   ]
  },
  {
   "cell_type": "code",
   "execution_count": 15,
   "id": "67b20a1c",
   "metadata": {},
   "outputs": [
    {
     "data": {
      "text/plain": [
       "'A'"
      ]
     },
     "execution_count": 15,
     "metadata": {},
     "output_type": "execute_result"
    }
   ],
   "source": [
    "st(\"Akshay\")"
   ]
  },
  {
   "cell_type": "code",
   "execution_count": 16,
   "id": "fe89e8fd",
   "metadata": {},
   "outputs": [],
   "source": [
    "iseven=lambda n : n%2==0"
   ]
  },
  {
   "cell_type": "code",
   "execution_count": 17,
   "id": "e45cc637",
   "metadata": {},
   "outputs": [
    {
     "name": "stdout",
     "output_type": "stream",
     "text": [
      "10 is even : False\n"
     ]
    }
   ],
   "source": [
    "print(\"10 is even :\",iseven(11))"
   ]
  },
  {
   "cell_type": "code",
   "execution_count": 18,
   "id": "7da53882",
   "metadata": {},
   "outputs": [
    {
     "name": "stdout",
     "output_type": "stream",
     "text": [
      "7 is even: False\n"
     ]
    }
   ],
   "source": [
    "print(\"7 is even:\", iseven(7))"
   ]
  },
  {
   "cell_type": "code",
   "execution_count": 21,
   "id": "d8fe4503",
   "metadata": {},
   "outputs": [],
   "source": [
    "# Write a lambda function that accepts 2 arguments and returns the greter amongst them\n",
    "maxnum=lambda a,b : a if a>b else b"
   ]
  },
  {
   "cell_type": "code",
   "execution_count": 22,
   "id": "b2dc6ffd",
   "metadata": {},
   "outputs": [
    {
     "name": "stdout",
     "output_type": "stream",
     "text": [
      "max amongst 10 and 20 : 20\n"
     ]
    }
   ],
   "source": [
    "print(\"max amongst 10 and 20 :\", maxnum(10,20))"
   ]
  },
  {
   "cell_type": "code",
   "execution_count": 23,
   "id": "51806ce2",
   "metadata": {},
   "outputs": [
    {
     "name": "stdout",
     "output_type": "stream",
     "text": [
      "max amongst 15 5 : 15\n"
     ]
    }
   ],
   "source": [
    "print(\"max amongst 15 5 :\",maxnum(15,5))"
   ]
  },
  {
   "cell_type": "code",
   "execution_count": null,
   "id": "aae63ff1",
   "metadata": {},
   "outputs": [],
   "source": []
  }
 ],
 "metadata": {
  "kernelspec": {
   "display_name": "Python 3",
   "language": "python",
   "name": "python3"
  },
  "language_info": {
   "codemirror_mode": {
    "name": "ipython",
    "version": 3
   },
   "file_extension": ".py",
   "mimetype": "text/x-python",
   "name": "python",
   "nbconvert_exporter": "python",
   "pygments_lexer": "ipython3",
   "version": "3.8.8"
  }
 },
 "nbformat": 4,
 "nbformat_minor": 5
}
