{
 "cells": [
  {
   "cell_type": "markdown",
   "id": "dbd0eb73",
   "metadata": {},
   "source": [
    "# Iterators"
   ]
  },
  {
   "cell_type": "markdown",
   "id": "fbb41230",
   "metadata": {},
   "source": [
    "* Iterators act as an object and allow to traverse via all the present collected elements, irrespective of its implementation type.\n",
    "* It have two types of methods in python such as; iter() and next().\n",
    "* The object of list, string or tuples can be used to produce an Iterator."
   ]
  },
  {
   "cell_type": "markdown",
   "id": "479a6d8c",
   "metadata": {},
   "source": [
    "Note: next() and iter() built-in function in python"
   ]
  },
  {
   "cell_type": "markdown",
   "id": "d77d85e3",
   "metadata": {},
   "source": [
    "* The next function allows us to access the next element in a sequence. Let's check how it work."
   ]
  },
  {
   "cell_type": "code",
   "execution_count": 3,
   "id": "b5356b91",
   "metadata": {},
   "outputs": [
    {
     "name": "stdout",
     "output_type": "stream",
     "text": [
      "First element : 1 \n",
      "\n",
      "2 3 4 5 6 7 "
     ]
    }
   ],
   "source": [
    "# Example\n",
    "list = [1,2,3,4,5,6,7] # List containg number from 1 to 7\n",
    "itr = iter(list) # iterator object is created\n",
    "print(\"First element :\",next(itr),'\\n') # It prints the next element in iterator\n",
    "\n",
    "'''As we have iterated first element using next function so it start iterating from next element'''\n",
    "\n",
    "for x in itr:\n",
    "    print(x, end=\" \")"
   ]
  },
  {
   "cell_type": "code",
   "execution_count": 4,
   "id": "344e65e3",
   "metadata": {},
   "outputs": [
    {
     "data": {
      "text/plain": [
       "1"
      ]
     },
     "execution_count": 4,
     "metadata": {},
     "output_type": "execute_result"
    }
   ],
   "source": [
    "'''we can simply perform by next() function also'''\n",
    "l = [1,2,3,4,5]\n",
    "it=iter(l)\n",
    "next(it)"
   ]
  },
  {
   "cell_type": "code",
   "execution_count": 5,
   "id": "3ab95ca5",
   "metadata": {},
   "outputs": [
    {
     "data": {
      "text/plain": [
       "2"
      ]
     },
     "execution_count": 5,
     "metadata": {},
     "output_type": "execute_result"
    }
   ],
   "source": [
    "next(it)"
   ]
  },
  {
   "cell_type": "code",
   "execution_count": 6,
   "id": "7f5da095",
   "metadata": {},
   "outputs": [
    {
     "data": {
      "text/plain": [
       "3"
      ]
     },
     "execution_count": 6,
     "metadata": {},
     "output_type": "execute_result"
    }
   ],
   "source": [
    "next(it)"
   ]
  },
  {
   "cell_type": "code",
   "execution_count": 7,
   "id": "fb9144a3",
   "metadata": {},
   "outputs": [
    {
     "data": {
      "text/plain": [
       "4"
      ]
     },
     "execution_count": 7,
     "metadata": {},
     "output_type": "execute_result"
    }
   ],
   "source": [
    "next(it)"
   ]
  },
  {
   "cell_type": "code",
   "execution_count": 9,
   "id": "383936fb",
   "metadata": {},
   "outputs": [
    {
     "data": {
      "text/plain": [
       "5"
      ]
     },
     "execution_count": 9,
     "metadata": {},
     "output_type": "execute_result"
    }
   ],
   "source": [
    "next(it)"
   ]
  },
  {
   "cell_type": "code",
   "execution_count": 10,
   "id": "a15a1dbb",
   "metadata": {},
   "outputs": [
    {
     "ename": "StopIteration",
     "evalue": "",
     "output_type": "error",
     "traceback": [
      "\u001b[1;31m---------------------------------------------------------------------------\u001b[0m",
      "\u001b[1;31mStopIteration\u001b[0m                             Traceback (most recent call last)",
      "\u001b[1;32m<ipython-input-10-bc1ab118995a>\u001b[0m in \u001b[0;36m<module>\u001b[1;34m\u001b[0m\n\u001b[1;32m----> 1\u001b[1;33m \u001b[0mnext\u001b[0m\u001b[1;33m(\u001b[0m\u001b[0mit\u001b[0m\u001b[1;33m)\u001b[0m\u001b[1;33m\u001b[0m\u001b[1;33m\u001b[0m\u001b[0m\n\u001b[0m",
      "\u001b[1;31mStopIteration\u001b[0m: "
     ]
    }
   ],
   "source": [
    "next(it)"
   ]
  },
  {
   "cell_type": "markdown",
   "id": "c2bc2f55",
   "metadata": {},
   "source": [
    ">**Note:** After yielding all the values next() caused a stopIteration error. What this error informs us that all the values have been yielded.\n",
    "\n",
    "* You might be wondering that don't we get this error while using a for loop? The \"for loop automaticaally catches this and stops calling next.\n",
    "\n",
    "* Let's go ahead and check out how to use iter() in string. You remember that strings are iterable:"
   ]
  },
  {
   "cell_type": "code",
   "execution_count": 11,
   "id": "4ed37300",
   "metadata": {},
   "outputs": [
    {
     "name": "stdout",
     "output_type": "stream",
     "text": [
      "h\n",
      "e\n",
      "l\n",
      "l\n",
      "o\n"
     ]
    }
   ],
   "source": [
    "s = 'hello'\n",
    "# iterate over string\n",
    "for let in s:\n",
    "    print((let))"
   ]
  },
  {
   "cell_type": "markdown",
   "id": "8f9a4de3",
   "metadata": {},
   "source": [
    ">**Note:** But that doesn't mean the string itself is an iterator! We can check this with the next() function:\n",
    "\n",
    ">**Note:** This means that a string object supports iteraio, but we can not directly iterate over it as we could with a generator function. The iter() function allows us to do just that!"
   ]
  },
  {
   "cell_type": "code",
   "execution_count": 12,
   "id": "b2bc70f2",
   "metadata": {},
   "outputs": [
    {
     "ename": "TypeError",
     "evalue": "'str' object is not an iterator",
     "output_type": "error",
     "traceback": [
      "\u001b[1;31m---------------------------------------------------------------------------\u001b[0m",
      "\u001b[1;31mTypeError\u001b[0m                                 Traceback (most recent call last)",
      "\u001b[1;32m<ipython-input-12-e2d2911676a9>\u001b[0m in \u001b[0;36m<module>\u001b[1;34m\u001b[0m\n\u001b[0;32m      1\u001b[0m \u001b[0msen\u001b[0m \u001b[1;33m=\u001b[0m \u001b[1;34m\"How are you\"\u001b[0m\u001b[1;33m\u001b[0m\u001b[1;33m\u001b[0m\u001b[0m\n\u001b[1;32m----> 2\u001b[1;33m \u001b[0mnext\u001b[0m\u001b[1;33m(\u001b[0m\u001b[0msen\u001b[0m\u001b[1;33m)\u001b[0m\u001b[1;33m\u001b[0m\u001b[1;33m\u001b[0m\u001b[0m\n\u001b[0m",
      "\u001b[1;31mTypeError\u001b[0m: 'str' object is not an iterator"
     ]
    }
   ],
   "source": [
    "sen = \"How are you\"\n",
    "next(sen)"
   ]
  },
  {
   "cell_type": "code",
   "execution_count": 13,
   "id": "5cc51ca6",
   "metadata": {},
   "outputs": [
    {
     "data": {
      "text/plain": [
       "'H'"
      ]
     },
     "execution_count": 13,
     "metadata": {},
     "output_type": "execute_result"
    }
   ],
   "source": [
    "sen = \"How are you\"\n",
    "it = iter(sen)\n",
    "next(it)"
   ]
  },
  {
   "cell_type": "code",
   "execution_count": 14,
   "id": "a52d7a83",
   "metadata": {},
   "outputs": [
    {
     "data": {
      "text/plain": [
       "'o'"
      ]
     },
     "execution_count": 14,
     "metadata": {},
     "output_type": "execute_result"
    }
   ],
   "source": [
    "next(it)"
   ]
  },
  {
   "cell_type": "code",
   "execution_count": 1,
   "id": "ed2dcf7a",
   "metadata": {},
   "outputs": [],
   "source": [
    "lis = [1,2,3,4,5]"
   ]
  },
  {
   "cell_type": "code",
   "execution_count": 2,
   "id": "b36388dc",
   "metadata": {},
   "outputs": [
    {
     "name": "stdout",
     "output_type": "stream",
     "text": [
      "1\n",
      "2\n",
      "3\n",
      "4\n",
      "5\n"
     ]
    }
   ],
   "source": [
    "for i in lis:\n",
    "    print(i)"
   ]
  },
  {
   "cell_type": "code",
   "execution_count": 6,
   "id": "0e24613d",
   "metadata": {},
   "outputs": [
    {
     "name": "stdout",
     "output_type": "stream",
     "text": [
      "2\n",
      "3\n",
      "4\n",
      "5\n"
     ]
    }
   ],
   "source": [
    "#dynamic memory cell\n",
    "for i in  iterator:\n",
    "    print(i)"
   ]
  },
  {
   "cell_type": "code",
   "execution_count": 7,
   "id": "9a098db0",
   "metadata": {},
   "outputs": [
    {
     "ename": "StopIteration",
     "evalue": "",
     "output_type": "error",
     "traceback": [
      "\u001b[1;31m---------------------------------------------------------------------------\u001b[0m",
      "\u001b[1;31mStopIteration\u001b[0m                             Traceback (most recent call last)",
      "\u001b[1;32m<ipython-input-7-4ce711c44abc>\u001b[0m in \u001b[0;36m<module>\u001b[1;34m\u001b[0m\n\u001b[1;32m----> 1\u001b[1;33m \u001b[0mnext\u001b[0m\u001b[1;33m(\u001b[0m\u001b[0miterator\u001b[0m\u001b[1;33m)\u001b[0m\u001b[1;33m\u001b[0m\u001b[1;33m\u001b[0m\u001b[0m\n\u001b[0m",
      "\u001b[1;31mStopIteration\u001b[0m: "
     ]
    }
   ],
   "source": [
    "next(iterator)"
   ]
  },
  {
   "cell_type": "code",
   "execution_count": 8,
   "id": "e6ad383b",
   "metadata": {},
   "outputs": [],
   "source": [
    "a = 1,2,3,4"
   ]
  },
  {
   "cell_type": "code",
   "execution_count": 9,
   "id": "48eee425",
   "metadata": {},
   "outputs": [
    {
     "name": "stdout",
     "output_type": "stream",
     "text": [
      "1\n",
      "2\n",
      "3\n",
      "4\n"
     ]
    }
   ],
   "source": [
    "for i in a:\n",
    "    print(i)"
   ]
  },
  {
   "cell_type": "code",
   "execution_count": 12,
   "id": "943e7958",
   "metadata": {},
   "outputs": [],
   "source": [
    "var = iter([1,2,3,4,5])"
   ]
  },
  {
   "cell_type": "code",
   "execution_count": 13,
   "id": "2656789b",
   "metadata": {},
   "outputs": [
    {
     "data": {
      "text/plain": [
       "1"
      ]
     },
     "execution_count": 13,
     "metadata": {},
     "output_type": "execute_result"
    }
   ],
   "source": [
    "next(var)"
   ]
  },
  {
   "cell_type": "code",
   "execution_count": 14,
   "id": "a82741f9",
   "metadata": {},
   "outputs": [
    {
     "data": {
      "text/plain": [
       "2"
      ]
     },
     "execution_count": 14,
     "metadata": {},
     "output_type": "execute_result"
    }
   ],
   "source": [
    "next(var)"
   ]
  },
  {
   "cell_type": "code",
   "execution_count": 15,
   "id": "62fddcf1",
   "metadata": {},
   "outputs": [
    {
     "name": "stdout",
     "output_type": "stream",
     "text": [
      "3\n",
      "4\n",
      "5\n"
     ]
    }
   ],
   "source": [
    "for i in var:\n",
    "    print(i)"
   ]
  },
  {
   "cell_type": "code",
   "execution_count": 16,
   "id": "73030ff7",
   "metadata": {},
   "outputs": [],
   "source": [
    "# get the iterator\n",
    "iterator_object = iter([1,2,3,4,5,6])"
   ]
  },
  {
   "cell_type": "code",
   "execution_count": 17,
   "id": "ca2ea8e2",
   "metadata": {},
   "outputs": [
    {
     "data": {
      "text/plain": [
       "1"
      ]
     },
     "execution_count": 17,
     "metadata": {},
     "output_type": "execute_result"
    }
   ],
   "source": [
    "next(iterator_object)"
   ]
  },
  {
   "cell_type": "code",
   "execution_count": 18,
   "id": "1836bbfa",
   "metadata": {},
   "outputs": [],
   "source": [
    "while True:\n",
    "    try:\n",
    "        # get the next item\n",
    "        lit = next(iterator_object)\n",
    "        # do whatever yo need to do with this item\n",
    "    except StopIteration:\n",
    "        break"
   ]
  },
  {
   "cell_type": "code",
   "execution_count": 19,
   "id": "e649552d",
   "metadata": {},
   "outputs": [
    {
     "data": {
      "text/plain": [
       "6"
      ]
     },
     "execution_count": 19,
     "metadata": {},
     "output_type": "execute_result"
    }
   ],
   "source": [
    "lit"
   ]
  },
  {
   "cell_type": "markdown",
   "id": "be018c93",
   "metadata": {},
   "source": [
    "# Generator"
   ]
  },
  {
   "cell_type": "code",
   "execution_count": 10,
   "id": "2caac6de",
   "metadata": {},
   "outputs": [],
   "source": [
    "def test(n):\n",
    "    for i in n:\n",
    "        return i**2"
   ]
  },
  {
   "cell_type": "code",
   "execution_count": 11,
   "id": "f4d82a4a",
   "metadata": {},
   "outputs": [
    {
     "data": {
      "text/plain": [
       "4"
      ]
     },
     "execution_count": 11,
     "metadata": {},
     "output_type": "execute_result"
    }
   ],
   "source": [
    "test([2,2,3,4,5])"
   ]
  },
  {
   "cell_type": "markdown",
   "id": "cc35d068",
   "metadata": {},
   "source": [
    "Generators \n",
    "* Generators allow us to generate as we go along instead of storing everything in the memory.\n",
    "\n",
    "* In Python, Generator function allow us to write a function that can send back a value and then later resume to pick up where it was left. It also allows us to generate a sequence of values over time. \n",
    "\n",
    "* The main difference in syntax will be the use of a **yield** statement.\n",
    "\n",
    ">**Note:** In most aspects, a generator function will appear very similar to a normal function. The main difference is when a generator function is called and compiled they become an object that supports an iteration protocol. \n",
    "\n",
    ">**Note:** That means when they are called they don't actually return a value and then exit, the generator functions will automatically suspend and resume their execution and state around the last point of value generation. \n",
    "\n",
    "* The main advantage here is \"state suspension\" which means, instead of computing an entire series of values upfront and the generator functions can be suspended. To understand this concept better let's go ahead and learn how to create some generator functions."
   ]
  },
  {
   "cell_type": "code",
   "execution_count": 6,
   "id": "e3fe493c",
   "metadata": {},
   "outputs": [
    {
     "name": "stdout",
     "output_type": "stream",
     "text": [
      "Number:  0  Cube:  0\n",
      "Number:  1  Cube:  1\n",
      "Number:  2  Cube:  8\n",
      "Number:  3  Cube:  27\n",
      "Number:  4  Cube:  64\n",
      "Number:  5  Cube:  125\n",
      "Number:  6  Cube:  216\n",
      "Number:  7  Cube:  343\n",
      "Number:  8  Cube:  512\n",
      "Number:  9  Cube:  729\n"
     ]
    }
   ],
   "source": [
    "# Example\n",
    "'''Generator function for the cube of number (power of 3). First it create object of function and then in iterating process it will generate result'''\n",
    "\n",
    "def gencube(n):\n",
    "    for num in range(n):\n",
    "        yield num,num**3\n",
    "        \n",
    "for i,x in gencube(10):\n",
    "    print('Number: ',i,' Cube: ',x)"
   ]
  },
  {
   "cell_type": "code",
   "execution_count": 8,
   "id": "e96cff2a",
   "metadata": {},
   "outputs": [
    {
     "name": "stdout",
     "output_type": "stream",
     "text": [
      "Number:  [0, 1, 2, 3, 4, 5, 6, 7, 8, 9]  Cubes:  [0, 1, 8, 27, 64, 125, 216, 343, 512, 729]\n"
     ]
    }
   ],
   "source": [
    "'''Without using generator function, it will store all the values then display'''\n",
    "\n",
    "def gencube(n):\n",
    "    y=[num**3 for num in range(n)]\n",
    "    x=[num for num in range(n)]\n",
    "    return x,y\n",
    "\n",
    "x,y = gencube(10)\n",
    "print('Number: ',x,' Cubes: ',y)"
   ]
  },
  {
   "cell_type": "markdown",
   "id": "fb0964b2",
   "metadata": {},
   "source": [
    "* Great! since we have a generator function we don't have to keep track of every single cube we created.\n",
    "\n",
    "* Generators are the best for calculating large sets of results (particularly in calculations that involve loops themselves) when we don't want to allocate memory for all of the results at the same time. \n",
    "\n",
    "* Let's create another sample generator which calculates [fibonacci](https://en.wikipedia.org/wiki/Fibonacci_number) numbers:\n",
    "\n",
    "<img src=\"imgs/Fibonacci_Number.jpg\" width=\"500\"/>\n",
    "\n",
    "<img src=\"imgs/800px-PascalTriangleFibanacci.png\" width=\"500\"/>\n",
    "\n",
    "Source of image and information [Wikipedia](https://en.wikipedia.org/wiki/Fibonacci_number)"
   ]
  },
  {
   "cell_type": "code",
   "execution_count": 22,
   "id": "90aaadba",
   "metadata": {},
   "outputs": [
    {
     "name": "stdout",
     "output_type": "stream",
     "text": [
      "0 - 1\n",
      "1 - 1\n",
      "2 - 2\n",
      "3 - 3\n",
      "4 - 5\n",
      "5 - 8\n",
      "6 - 13\n",
      "7 - 21\n",
      "8 - 34\n",
      "9 - 55\n"
     ]
    }
   ],
   "source": [
    "'''Generate a fibonacci sequnce up to n'''\n",
    "def genfibon(n):\n",
    "    a = 1\n",
    "    b = 1\n",
    "    for i in range(n):\n",
    "        yield a,i\n",
    "        a,b = b, a+b\n",
    "\n",
    "for num,i in genfibon(10):\n",
    "    print(i,'-',num)\n",
    "        "
   ]
  },
  {
   "cell_type": "code",
   "execution_count": 23,
   "id": "7629bed9",
   "metadata": {},
   "outputs": [
    {
     "data": {
      "text/plain": [
       "[1, 1, 2, 3, 5, 8, 13, 21, 34, 55]"
      ]
     },
     "execution_count": 23,
     "metadata": {},
     "output_type": "execute_result"
    }
   ],
   "source": [
    "'''What if this was a normal function, what would it look like?'''\n",
    "\n",
    "def genfibon(n):\n",
    "    a = 1\n",
    "    b = 1\n",
    "    output= []\n",
    "    \n",
    "    for i in range(n):\n",
    "        output.append(a)\n",
    "        a,b = b,a+b\n",
    "    return output\n",
    "\n",
    "genfibon(10)"
   ]
  },
  {
   "cell_type": "markdown",
   "id": "9169441a",
   "metadata": {},
   "source": [
    ">**Note:** if we call some huge value of \"n\", the second function will have to keep track of every single result. In our case we only care about the previous result to generate the next one."
   ]
  },
  {
   "cell_type": "code",
   "execution_count": null,
   "id": "5daba837",
   "metadata": {},
   "outputs": [],
   "source": []
  }
 ],
 "metadata": {
  "kernelspec": {
   "display_name": "Python 3",
   "language": "python",
   "name": "python3"
  },
  "language_info": {
   "codemirror_mode": {
    "name": "ipython",
    "version": 3
   },
   "file_extension": ".py",
   "mimetype": "text/x-python",
   "name": "python",
   "nbconvert_exporter": "python",
   "pygments_lexer": "ipython3",
   "version": "3.8.8"
  }
 },
 "nbformat": 4,
 "nbformat_minor": 5
}
